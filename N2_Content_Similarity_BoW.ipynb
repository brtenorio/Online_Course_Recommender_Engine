{
 "cells": [
  {
   "cell_type": "markdown",
   "metadata": {},
   "source": [
    "# **Content Similarity Using BoW Feature Vectors**"
   ]
  },
  {
   "cell_type": "markdown",
   "metadata": {},
   "source": [
    "The main goal of recommender systems is to help users find items they potentially interested in. Depending on the recommendation tasks, an item can be a movie, a restaurant, or, in this case, an online course. \n",
    "\n",
    "Machine learning algorithms cannot work on an item directly so we first need to extract features and represent the items mathematically, i.e., with a feature vector.\n",
    "\n",
    "Many items are often described by text so they are associated with textual data, such as the titles and descriptions of a movie or course. Since machine learning algorithms can not process textual data directly, we need to transform the raw text into numeric feature vectors.\n"
   ]
  },
  {
   "cell_type": "markdown",
   "metadata": {},
   "source": [
    "We will extract the bag of words (BoW) features from course titles and descriptions. The BoW feature is a simple but effective feature characterizing textual data and is widely used in many textual machine learning tasks.\n"
   ]
  },
  {
   "cell_type": "markdown",
   "metadata": {},
   "source": [
    "## Objectives\n"
   ]
  },
  {
   "cell_type": "markdown",
   "metadata": {},
   "source": [
    "* Part 1. Extract Bag of Words (BoW) features from course titles and descriptions and build a course BoW dataset to be used for building a content-based recommender system\n",
    "* Part 2. Calculate the similarity between any two courses using BoW feature vectors\n",
    "* Part 3. Obtain the similarity between courses from a course similarity matrix\n",
    "* Part 4. Use the course similarity matrix to find and recommend new courses which are similar to enrolled courses\n"
   ]
  },
  {
   "cell_type": "markdown",
   "metadata": {},
   "source": [
    "----\n"
   ]
  },
  {
   "cell_type": "code",
   "execution_count": 1,
   "metadata": {},
   "outputs": [],
   "source": [
    "import gensim\n",
    "import pandas as pd\n",
    "import numpy as np \n",
    "import nltk as nltk\n",
    "from nltk.corpus import stopwords\n",
    "from nltk.tokenize import word_tokenize\n",
    "from gensim import corpora\n",
    "\n",
    "from scipy.spatial.distance import cosine\n",
    "\n",
    "import seaborn as sns\n",
    "import matplotlib.pyplot as plt\n",
    "\n",
    "%matplotlib inline"
   ]
  },
  {
   "cell_type": "markdown",
   "metadata": {},
   "source": [
    "Download stopwords\n"
   ]
  },
  {
   "cell_type": "code",
   "execution_count": 2,
   "metadata": {},
   "outputs": [
    {
     "name": "stderr",
     "output_type": "stream",
     "text": [
      "[nltk_data] Downloading package punkt to /Users/brncat/nltk_data...\n",
      "[nltk_data]   Package punkt is already up-to-date!\n",
      "[nltk_data] Downloading package stopwords to\n",
      "[nltk_data]     /Users/brncat/nltk_data...\n",
      "[nltk_data]   Package stopwords is already up-to-date!\n",
      "[nltk_data] Downloading package averaged_perceptron_tagger to\n",
      "[nltk_data]     /Users/brncat/nltk_data...\n",
      "[nltk_data]   Package averaged_perceptron_tagger is already up-to-\n",
      "[nltk_data]       date!\n"
     ]
    },
    {
     "data": {
      "text/plain": [
       "True"
      ]
     },
     "execution_count": 2,
     "metadata": {},
     "output_type": "execute_result"
    }
   ],
   "source": [
    "nltk.download('punkt')\n",
    "nltk.download('stopwords')\n",
    "nltk.download('averaged_perceptron_tagger')"
   ]
  },
  {
   "cell_type": "code",
   "execution_count": 3,
   "metadata": {},
   "outputs": [],
   "source": [
    "# also set a random state\n",
    "rs = 123"
   ]
  },
  {
   "cell_type": "markdown",
   "metadata": {},
   "source": [
    "----"
   ]
  },
  {
   "cell_type": "markdown",
   "metadata": {},
   "source": [
    "# Part 1. Extract Bag of Words (BoW) Features from Course Textual Content and Build a Dataset"
   ]
  },
  {
   "cell_type": "markdown",
   "metadata": {},
   "source": [
    "Let's start extracting BoW features from some real course textual content.\n"
   ]
  },
  {
   "cell_type": "code",
   "execution_count": 4,
   "metadata": {},
   "outputs": [
    {
     "data": {
      "text/plain": [
       "(307, 3)"
      ]
     },
     "execution_count": 4,
     "metadata": {},
     "output_type": "execute_result"
    }
   ],
   "source": [
    "course_content_df = pd.read_csv(\"course_processed.csv\")\n",
    "course_content_df.shape"
   ]
  },
  {
   "cell_type": "code",
   "execution_count": 5,
   "metadata": {},
   "outputs": [
    {
     "data": {
      "text/html": [
       "<div>\n",
       "<style scoped>\n",
       "    .dataframe tbody tr th:only-of-type {\n",
       "        vertical-align: middle;\n",
       "    }\n",
       "\n",
       "    .dataframe tbody tr th {\n",
       "        vertical-align: top;\n",
       "    }\n",
       "\n",
       "    .dataframe thead th {\n",
       "        text-align: right;\n",
       "    }\n",
       "</style>\n",
       "<table border=\"1\" class=\"dataframe\">\n",
       "  <thead>\n",
       "    <tr style=\"text-align: right;\">\n",
       "      <th></th>\n",
       "      <th>COURSE_ID</th>\n",
       "      <th>TITLE</th>\n",
       "      <th>DESCRIPTION</th>\n",
       "    </tr>\n",
       "  </thead>\n",
       "  <tbody>\n",
       "    <tr>\n",
       "      <th>0</th>\n",
       "      <td>ML0201EN</td>\n",
       "      <td>robots are coming  build iot apps with watson ...</td>\n",
       "      <td>have fun with iot and learn along the way  if ...</td>\n",
       "    </tr>\n",
       "    <tr>\n",
       "      <th>1</th>\n",
       "      <td>ML0122EN</td>\n",
       "      <td>accelerating deep learning with gpu</td>\n",
       "      <td>training complex deep learning models with lar...</td>\n",
       "    </tr>\n",
       "    <tr>\n",
       "      <th>2</th>\n",
       "      <td>GPXX0ZG0EN</td>\n",
       "      <td>consuming restful services using the reactive ...</td>\n",
       "      <td>learn how to use a reactive jax rs client to a...</td>\n",
       "    </tr>\n",
       "    <tr>\n",
       "      <th>3</th>\n",
       "      <td>RP0105EN</td>\n",
       "      <td>analyzing big data in r using apache spark</td>\n",
       "      <td>apache spark is a popular cluster computing fr...</td>\n",
       "    </tr>\n",
       "    <tr>\n",
       "      <th>4</th>\n",
       "      <td>GPXX0Z2PEN</td>\n",
       "      <td>containerizing  packaging  and running a sprin...</td>\n",
       "      <td>learn how to containerize  package  and run a ...</td>\n",
       "    </tr>\n",
       "  </tbody>\n",
       "</table>\n",
       "</div>"
      ],
      "text/plain": [
       "    COURSE_ID                                              TITLE  \\\n",
       "0    ML0201EN  robots are coming  build iot apps with watson ...   \n",
       "1    ML0122EN                accelerating deep learning with gpu   \n",
       "2  GPXX0ZG0EN  consuming restful services using the reactive ...   \n",
       "3    RP0105EN         analyzing big data in r using apache spark   \n",
       "4  GPXX0Z2PEN  containerizing  packaging  and running a sprin...   \n",
       "\n",
       "                                         DESCRIPTION  \n",
       "0  have fun with iot and learn along the way  if ...  \n",
       "1  training complex deep learning models with lar...  \n",
       "2  learn how to use a reactive jax rs client to a...  \n",
       "3  apache spark is a popular cluster computing fr...  \n",
       "4  learn how to containerize  package  and run a ...  "
      ]
     },
     "execution_count": 5,
     "metadata": {},
     "output_type": "execute_result"
    }
   ],
   "source": [
    "course_content_df.head()"
   ]
  },
  {
   "cell_type": "markdown",
   "metadata": {},
   "source": [
    "The course content dataset has three columns `COURSE_ID`, `TITLE`, and `DESCRIPTION`. `TITLE` and `DESCRIPTION` are all text upon which we want to extract BoW features. \n"
   ]
  },
  {
   "cell_type": "markdown",
   "metadata": {},
   "source": [
    "Let's join those two text columns together.\n"
   ]
  },
  {
   "cell_type": "code",
   "execution_count": 6,
   "metadata": {},
   "outputs": [],
   "source": [
    "# Merge TITLE and DESCRIPTION title\n",
    "course_content_df_2 = course_content_df.copy()\n",
    "course_content_df_2['course_texts'] = course_content_df_2[['TITLE', 'DESCRIPTION']].agg(' '.join, axis=1)\n",
    "course_content_df_2 = course_content_df_2.reset_index()\n",
    "course_content_df_2['index'] = course_content_df_2.index"
   ]
  },
  {
   "cell_type": "code",
   "execution_count": 7,
   "metadata": {},
   "outputs": [
    {
     "data": {
      "text/html": [
       "<div>\n",
       "<style scoped>\n",
       "    .dataframe tbody tr th:only-of-type {\n",
       "        vertical-align: middle;\n",
       "    }\n",
       "\n",
       "    .dataframe tbody tr th {\n",
       "        vertical-align: top;\n",
       "    }\n",
       "\n",
       "    .dataframe thead th {\n",
       "        text-align: right;\n",
       "    }\n",
       "</style>\n",
       "<table border=\"1\" class=\"dataframe\">\n",
       "  <thead>\n",
       "    <tr style=\"text-align: right;\">\n",
       "      <th></th>\n",
       "      <th>index</th>\n",
       "      <th>COURSE_ID</th>\n",
       "      <th>TITLE</th>\n",
       "      <th>DESCRIPTION</th>\n",
       "      <th>course_texts</th>\n",
       "    </tr>\n",
       "  </thead>\n",
       "  <tbody>\n",
       "    <tr>\n",
       "      <th>0</th>\n",
       "      <td>0</td>\n",
       "      <td>ML0201EN</td>\n",
       "      <td>robots are coming  build iot apps with watson ...</td>\n",
       "      <td>have fun with iot and learn along the way  if ...</td>\n",
       "      <td>robots are coming  build iot apps with watson ...</td>\n",
       "    </tr>\n",
       "    <tr>\n",
       "      <th>1</th>\n",
       "      <td>1</td>\n",
       "      <td>ML0122EN</td>\n",
       "      <td>accelerating deep learning with gpu</td>\n",
       "      <td>training complex deep learning models with lar...</td>\n",
       "      <td>accelerating deep learning with gpu training c...</td>\n",
       "    </tr>\n",
       "    <tr>\n",
       "      <th>2</th>\n",
       "      <td>2</td>\n",
       "      <td>GPXX0ZG0EN</td>\n",
       "      <td>consuming restful services using the reactive ...</td>\n",
       "      <td>learn how to use a reactive jax rs client to a...</td>\n",
       "      <td>consuming restful services using the reactive ...</td>\n",
       "    </tr>\n",
       "    <tr>\n",
       "      <th>3</th>\n",
       "      <td>3</td>\n",
       "      <td>RP0105EN</td>\n",
       "      <td>analyzing big data in r using apache spark</td>\n",
       "      <td>apache spark is a popular cluster computing fr...</td>\n",
       "      <td>analyzing big data in r using apache spark apa...</td>\n",
       "    </tr>\n",
       "    <tr>\n",
       "      <th>4</th>\n",
       "      <td>4</td>\n",
       "      <td>GPXX0Z2PEN</td>\n",
       "      <td>containerizing  packaging  and running a sprin...</td>\n",
       "      <td>learn how to containerize  package  and run a ...</td>\n",
       "      <td>containerizing  packaging  and running a sprin...</td>\n",
       "    </tr>\n",
       "  </tbody>\n",
       "</table>\n",
       "</div>"
      ],
      "text/plain": [
       "   index   COURSE_ID                                              TITLE  \\\n",
       "0      0    ML0201EN  robots are coming  build iot apps with watson ...   \n",
       "1      1    ML0122EN                accelerating deep learning with gpu   \n",
       "2      2  GPXX0ZG0EN  consuming restful services using the reactive ...   \n",
       "3      3    RP0105EN         analyzing big data in r using apache spark   \n",
       "4      4  GPXX0Z2PEN  containerizing  packaging  and running a sprin...   \n",
       "\n",
       "                                         DESCRIPTION  \\\n",
       "0  have fun with iot and learn along the way  if ...   \n",
       "1  training complex deep learning models with lar...   \n",
       "2  learn how to use a reactive jax rs client to a...   \n",
       "3  apache spark is a popular cluster computing fr...   \n",
       "4  learn how to containerize  package  and run a ...   \n",
       "\n",
       "                                        course_texts  \n",
       "0  robots are coming  build iot apps with watson ...  \n",
       "1  accelerating deep learning with gpu training c...  \n",
       "2  consuming restful services using the reactive ...  \n",
       "3  analyzing big data in r using apache spark apa...  \n",
       "4  containerizing  packaging  and running a sprin...  "
      ]
     },
     "execution_count": 7,
     "metadata": {},
     "output_type": "execute_result"
    }
   ],
   "source": [
    "course_content_df_2.head() "
   ]
  },
  {
   "cell_type": "code",
   "execution_count": 8,
   "metadata": {},
   "outputs": [
    {
     "data": {
      "text/plain": [
       "index                                                           0\n",
       "COURSE_ID                                                ML0201EN\n",
       "TITLE           robots are coming  build iot apps with watson ...\n",
       "DESCRIPTION     have fun with iot and learn along the way  if ...\n",
       "course_texts    robots are coming  build iot apps with watson ...\n",
       "Name: 0, dtype: object"
      ]
     },
     "execution_count": 8,
     "metadata": {},
     "output_type": "execute_result"
    }
   ],
   "source": [
    "course_content_df_2.iloc[0, :]"
   ]
  },
  {
   "cell_type": "markdown",
   "metadata": {},
   "source": [
    "We have used the `tokenize_course()` method  to tokenize the course content:\n"
   ]
  },
  {
   "cell_type": "code",
   "execution_count": 9,
   "metadata": {},
   "outputs": [],
   "source": [
    "def tokenize_course(course, keep_only_nouns=True):\n",
    "    # Get English stop words\n",
    "    stop_words = set(stopwords.words('english'))\n",
    "    # Tokenize the course text\n",
    "    word_tokens = word_tokenize(course)\n",
    "    # Remove English stop words and numbers\n",
    "    word_tokens = [w for w in word_tokens if (not w.lower() in stop_words) and (not w.isnumeric())]\n",
    "    # Only keep nouns \n",
    "    if keep_only_nouns:\n",
    "        # Define a filter list of non-noun POS tags\n",
    "        filter_list = ['WDT', 'WP', 'WRB', 'FW', 'IN', 'JJR', 'JJS', 'MD', 'PDT', 'POS', 'PRP', 'RB', 'RBR', 'RBS',\n",
    "                       'RP']\n",
    "        # Tag the word tokens with POS tags\n",
    "        tags = nltk.pos_tag(word_tokens)\n",
    "        # Filter out non-nouns based on POS tags\n",
    "        word_tokens = [word for word, pos in tags if pos not in filter_list]\n",
    "\n",
    "    return word_tokens"
   ]
  },
  {
   "cell_type": "markdown",
   "metadata": {},
   "source": [
    "Let's try it on the first course.\n"
   ]
  },
  {
   "cell_type": "code",
   "execution_count": 10,
   "metadata": {},
   "outputs": [
    {
     "data": {
      "text/plain": [
       "'robots are coming  build iot apps with watson  swift  and node red have fun with iot and learn along the way  if you re a swift developer and want to learn more about iot and watson ai services in the cloud  raspberry pi   and node red  you ve found the right place  you ll build iot apps to read temperature data  take pictures with a raspcam  use ai to recognize the objects in those pictures  and program an irobot create 2 robot  '"
      ]
     },
     "execution_count": 10,
     "metadata": {},
     "output_type": "execute_result"
    }
   ],
   "source": [
    "a_course = course_content_df_2.iloc[0, :]['course_texts']\n",
    "a_course"
   ]
  },
  {
   "cell_type": "code",
   "execution_count": 11,
   "metadata": {},
   "outputs": [
    {
     "data": {
      "text/plain": [
       "['robots',\n",
       " 'coming',\n",
       " 'build',\n",
       " 'iot',\n",
       " 'apps',\n",
       " 'watson',\n",
       " 'swift',\n",
       " 'red',\n",
       " 'fun',\n",
       " 'iot',\n",
       " 'learn',\n",
       " 'way',\n",
       " 'swift',\n",
       " 'developer',\n",
       " 'want',\n",
       " 'learn',\n",
       " 'iot',\n",
       " 'watson',\n",
       " 'ai',\n",
       " 'services',\n",
       " 'cloud',\n",
       " 'raspberry',\n",
       " 'pi',\n",
       " 'node',\n",
       " 'red',\n",
       " 'found',\n",
       " 'place',\n",
       " 'build',\n",
       " 'iot',\n",
       " 'apps',\n",
       " 'read',\n",
       " 'temperature',\n",
       " 'data',\n",
       " 'take',\n",
       " 'pictures',\n",
       " 'raspcam',\n",
       " 'use',\n",
       " 'ai',\n",
       " 'recognize',\n",
       " 'objects',\n",
       " 'pictures',\n",
       " 'program',\n",
       " 'irobot',\n",
       " 'create',\n",
       " 'robot']"
      ]
     },
     "execution_count": 11,
     "metadata": {},
     "output_type": "execute_result"
    }
   ],
   "source": [
    "tokenize_course(a_course)"
   ]
  },
  {
   "cell_type": "markdown",
   "metadata": {},
   "source": [
    "Next, we start by tokenzing all courses in the `courses_df`:\n"
   ]
  },
  {
   "cell_type": "code",
   "execution_count": 12,
   "metadata": {},
   "outputs": [],
   "source": [
    "tokenized_courses_df = course_content_df_2['course_texts'].apply(tokenize_course) "
   ]
  },
  {
   "cell_type": "code",
   "execution_count": 13,
   "metadata": {},
   "outputs": [
    {
     "data": {
      "text/plain": [
       "0      [robots, coming, build, iot, apps, watson, swi...\n",
       "1      [accelerating, deep, learning, gpu, training, ...\n",
       "2      [consuming, restful, services, using, reactive...\n",
       "3      [analyzing, big, data, r, using, apache, spark...\n",
       "4      [containerizing, packaging, running, spring, b...\n",
       "                             ...                        \n",
       "302    [javascript, jquery, json, course, look, javas...\n",
       "303    [programming, foundations, javascript, html, c...\n",
       "304    [front, end, web, development, react, course, ...\n",
       "305    [introduction, web, development, course, desig...\n",
       "306    [interactivity, javascript, jquery, course, th...\n",
       "Name: course_texts, Length: 307, dtype: object"
      ]
     },
     "execution_count": 13,
     "metadata": {},
     "output_type": "execute_result"
    }
   ],
   "source": [
    "tokenized_courses_df"
   ]
  },
  {
   "cell_type": "markdown",
   "metadata": {},
   "source": [
    "Then we need to create a token dictionary `tokens_dict`\n"
   ]
  },
  {
   "cell_type": "code",
   "execution_count": 14,
   "metadata": {},
   "outputs": [],
   "source": [
    "tokens_dict = gensim.corpora.Dictionary(tokenized_courses_df)"
   ]
  },
  {
   "cell_type": "markdown",
   "metadata": {},
   "source": [
    "Then we can use `doc2bow()` method to generate BoW features for each tokenized course.\n"
   ]
  },
  {
   "cell_type": "code",
   "execution_count": 15,
   "metadata": {},
   "outputs": [],
   "source": [
    "courses_bow = [tokens_dict.doc2bow(course) for course in tokenized_courses_df]"
   ]
  },
  {
   "cell_type": "markdown",
   "metadata": {},
   "source": [
    "Lastly, we need to append the BoW features for each course into a new BoW dataframe. The new dataframe needs to include the following columns:\n",
    "- 'doc_index': the course index starting from 0\n",
    "- 'doc_id': the actual course id such as `ML0201EN`\n",
    "- 'token': the tokens for each course\n",
    "- 'bow': the bow value for each token"
   ]
  },
  {
   "cell_type": "code",
   "execution_count": 16,
   "metadata": {},
   "outputs": [
    {
     "data": {
      "text/html": [
       "<div>\n",
       "<style scoped>\n",
       "    .dataframe tbody tr th:only-of-type {\n",
       "        vertical-align: middle;\n",
       "    }\n",
       "\n",
       "    .dataframe tbody tr th {\n",
       "        vertical-align: top;\n",
       "    }\n",
       "\n",
       "    .dataframe thead th {\n",
       "        text-align: right;\n",
       "    }\n",
       "</style>\n",
       "<table border=\"1\" class=\"dataframe\">\n",
       "  <thead>\n",
       "    <tr style=\"text-align: right;\">\n",
       "      <th></th>\n",
       "      <th>doc_index</th>\n",
       "      <th>doc_id</th>\n",
       "      <th>token</th>\n",
       "      <th>bow</th>\n",
       "    </tr>\n",
       "  </thead>\n",
       "  <tbody>\n",
       "    <tr>\n",
       "      <th>0</th>\n",
       "      <td>0</td>\n",
       "      <td>ML0201EN</td>\n",
       "      <td>ai</td>\n",
       "      <td>2</td>\n",
       "    </tr>\n",
       "    <tr>\n",
       "      <th>1</th>\n",
       "      <td>0</td>\n",
       "      <td>ML0201EN</td>\n",
       "      <td>apps</td>\n",
       "      <td>2</td>\n",
       "    </tr>\n",
       "    <tr>\n",
       "      <th>2</th>\n",
       "      <td>0</td>\n",
       "      <td>ML0201EN</td>\n",
       "      <td>build</td>\n",
       "      <td>2</td>\n",
       "    </tr>\n",
       "    <tr>\n",
       "      <th>3</th>\n",
       "      <td>0</td>\n",
       "      <td>ML0201EN</td>\n",
       "      <td>cloud</td>\n",
       "      <td>1</td>\n",
       "    </tr>\n",
       "    <tr>\n",
       "      <th>4</th>\n",
       "      <td>0</td>\n",
       "      <td>ML0201EN</td>\n",
       "      <td>coming</td>\n",
       "      <td>1</td>\n",
       "    </tr>\n",
       "  </tbody>\n",
       "</table>\n",
       "</div>"
      ],
      "text/plain": [
       "   doc_index    doc_id   token  bow\n",
       "0          0  ML0201EN      ai    2\n",
       "1          0  ML0201EN    apps    2\n",
       "2          0  ML0201EN   build    2\n",
       "3          0  ML0201EN   cloud    1\n",
       "4          0  ML0201EN  coming    1"
      ]
     },
     "execution_count": 16,
     "metadata": {},
     "output_type": "execute_result"
    }
   ],
   "source": [
    "bow_values = [] \n",
    "tokens = [] \n",
    "doc_ids = []\n",
    "doc_indices = []\n",
    "for doc_index, doc_bow in enumerate(courses_bow):\n",
    "    for token_index, token_bow in doc_bow:\n",
    "        doc_indices.append(doc_index)\n",
    "        tokens.append(tokens_dict[token_index]) \n",
    "        doc_ids.append(course_content_df['COURSE_ID'].loc[doc_index]) \n",
    "        bow_values.append(token_bow)\n",
    "\n",
    "bow_dicts = {\"doc_index\": doc_indices,\n",
    "          \"doc_id\": doc_ids,\n",
    "          \"token\": tokens,\n",
    "          \"bow\": bow_values}\n",
    "\n",
    "# bow_df_index and bows_df are different by the absence of the column 'doc_index' in bows_df\n",
    "bows_df = pd.DataFrame(bow_dicts)\n",
    "\n",
    "bows_df.head()"
   ]
  },
  {
   "cell_type": "markdown",
   "metadata": {},
   "source": [
    "----"
   ]
  },
  {
   "cell_type": "markdown",
   "metadata": {},
   "source": [
    "# Part 2. Calculate Course Similarity using BoW Features"
   ]
  },
  {
   "cell_type": "markdown",
   "metadata": {},
   "source": [
    " We have just extracted the BoW features from course textual content by creating the bows_df DataFrame. Given the course BoW feature vectors, we can easily apply similarity measurement to calculate the course similarity using many similarity measurements such as `consine`, `jaccard index`, or `euclidean distance` as shown in the below figure. Here we stick with `consine` similarity measurement, but others could be applied as easily."
   ]
  },
  {
   "cell_type": "markdown",
   "metadata": {},
   "source": [
    "![](https://cf-courses-data.s3.us.cloud-object-storage.appdomain.cloud/IBM-ML321EN-SkillsNetwork/labs/module_2/images/course_sim.png)"
   ]
  },
  {
   "cell_type": "code",
   "execution_count": 17,
   "metadata": {},
   "outputs": [
    {
     "data": {
      "text/html": [
       "<div>\n",
       "<style scoped>\n",
       "    .dataframe tbody tr th:only-of-type {\n",
       "        vertical-align: middle;\n",
       "    }\n",
       "\n",
       "    .dataframe tbody tr th {\n",
       "        vertical-align: top;\n",
       "    }\n",
       "\n",
       "    .dataframe thead th {\n",
       "        text-align: right;\n",
       "    }\n",
       "</style>\n",
       "<table border=\"1\" class=\"dataframe\">\n",
       "  <thead>\n",
       "    <tr style=\"text-align: right;\">\n",
       "      <th></th>\n",
       "      <th>COURSE_ID</th>\n",
       "      <th>TITLE</th>\n",
       "      <th>DESCRIPTION</th>\n",
       "    </tr>\n",
       "  </thead>\n",
       "  <tbody>\n",
       "    <tr>\n",
       "      <th>0</th>\n",
       "      <td>ML0201EN</td>\n",
       "      <td>robots are coming  build iot apps with watson ...</td>\n",
       "      <td>have fun with iot and learn along the way  if ...</td>\n",
       "    </tr>\n",
       "    <tr>\n",
       "      <th>1</th>\n",
       "      <td>ML0122EN</td>\n",
       "      <td>accelerating deep learning with gpu</td>\n",
       "      <td>training complex deep learning models with lar...</td>\n",
       "    </tr>\n",
       "    <tr>\n",
       "      <th>2</th>\n",
       "      <td>GPXX0ZG0EN</td>\n",
       "      <td>consuming restful services using the reactive ...</td>\n",
       "      <td>learn how to use a reactive jax rs client to a...</td>\n",
       "    </tr>\n",
       "    <tr>\n",
       "      <th>3</th>\n",
       "      <td>RP0105EN</td>\n",
       "      <td>analyzing big data in r using apache spark</td>\n",
       "      <td>apache spark is a popular cluster computing fr...</td>\n",
       "    </tr>\n",
       "    <tr>\n",
       "      <th>4</th>\n",
       "      <td>GPXX0Z2PEN</td>\n",
       "      <td>containerizing  packaging  and running a sprin...</td>\n",
       "      <td>learn how to containerize  package  and run a ...</td>\n",
       "    </tr>\n",
       "  </tbody>\n",
       "</table>\n",
       "</div>"
      ],
      "text/plain": [
       "    COURSE_ID                                              TITLE  \\\n",
       "0    ML0201EN  robots are coming  build iot apps with watson ...   \n",
       "1    ML0122EN                accelerating deep learning with gpu   \n",
       "2  GPXX0ZG0EN  consuming restful services using the reactive ...   \n",
       "3    RP0105EN         analyzing big data in r using apache spark   \n",
       "4  GPXX0Z2PEN  containerizing  packaging  and running a sprin...   \n",
       "\n",
       "                                         DESCRIPTION  \n",
       "0  have fun with iot and learn along the way  if ...  \n",
       "1  training complex deep learning models with lar...  \n",
       "2  learn how to use a reactive jax rs client to a...  \n",
       "3  apache spark is a popular cluster computing fr...  \n",
       "4  learn how to containerize  package  and run a ...  "
      ]
     },
     "execution_count": 17,
     "metadata": {},
     "output_type": "execute_result"
    }
   ],
   "source": [
    "course_content_df.head()"
   ]
  },
  {
   "cell_type": "markdown",
   "metadata": {},
   "source": [
    "Given course ID `ML0101ENv3`, let's find out its title and description:"
   ]
  },
  {
   "cell_type": "code",
   "execution_count": 18,
   "metadata": {},
   "outputs": [
    {
     "data": {
      "text/html": [
       "<div>\n",
       "<style scoped>\n",
       "    .dataframe tbody tr th:only-of-type {\n",
       "        vertical-align: middle;\n",
       "    }\n",
       "\n",
       "    .dataframe tbody tr th {\n",
       "        vertical-align: top;\n",
       "    }\n",
       "\n",
       "    .dataframe thead th {\n",
       "        text-align: right;\n",
       "    }\n",
       "</style>\n",
       "<table border=\"1\" class=\"dataframe\">\n",
       "  <thead>\n",
       "    <tr style=\"text-align: right;\">\n",
       "      <th></th>\n",
       "      <th>COURSE_ID</th>\n",
       "      <th>TITLE</th>\n",
       "      <th>DESCRIPTION</th>\n",
       "    </tr>\n",
       "  </thead>\n",
       "  <tbody>\n",
       "    <tr>\n",
       "      <th>158</th>\n",
       "      <td>ML0101ENv3</td>\n",
       "      <td>machine learning with python</td>\n",
       "      <td>machine learning can be an incredibly benefici...</td>\n",
       "    </tr>\n",
       "  </tbody>\n",
       "</table>\n",
       "</div>"
      ],
      "text/plain": [
       "      COURSE_ID                         TITLE  \\\n",
       "158  ML0101ENv3  machine learning with python   \n",
       "\n",
       "                                           DESCRIPTION  \n",
       "158  machine learning can be an incredibly benefici...  "
      ]
     },
     "execution_count": 18,
     "metadata": {},
     "output_type": "execute_result"
    }
   ],
   "source": [
    "course_content_df[course_content_df['COURSE_ID'] == 'ML0101ENv3']"
   ]
  },
  {
   "cell_type": "markdown",
   "metadata": {},
   "source": [
    "We can see it is a machine learning with Python course so we can expect any machine learning or Python related courses would be similar.\n"
   ]
  },
  {
   "cell_type": "code",
   "execution_count": 19,
   "metadata": {},
   "outputs": [
    {
     "data": {
      "text/html": [
       "<div>\n",
       "<style scoped>\n",
       "    .dataframe tbody tr th:only-of-type {\n",
       "        vertical-align: middle;\n",
       "    }\n",
       "\n",
       "    .dataframe tbody tr th {\n",
       "        vertical-align: top;\n",
       "    }\n",
       "\n",
       "    .dataframe thead th {\n",
       "        text-align: right;\n",
       "    }\n",
       "</style>\n",
       "<table border=\"1\" class=\"dataframe\">\n",
       "  <thead>\n",
       "    <tr style=\"text-align: right;\">\n",
       "      <th></th>\n",
       "      <th>doc_index</th>\n",
       "      <th>doc_id</th>\n",
       "      <th>token</th>\n",
       "      <th>bow</th>\n",
       "    </tr>\n",
       "  </thead>\n",
       "  <tbody>\n",
       "    <tr>\n",
       "      <th>2747</th>\n",
       "      <td>158</td>\n",
       "      <td>ML0101ENv3</td>\n",
       "      <td>course</td>\n",
       "      <td>1</td>\n",
       "    </tr>\n",
       "    <tr>\n",
       "      <th>2748</th>\n",
       "      <td>158</td>\n",
       "      <td>ML0101ENv3</td>\n",
       "      <td>learning</td>\n",
       "      <td>4</td>\n",
       "    </tr>\n",
       "    <tr>\n",
       "      <th>2749</th>\n",
       "      <td>158</td>\n",
       "      <td>ML0101ENv3</td>\n",
       "      <td>machine</td>\n",
       "      <td>3</td>\n",
       "    </tr>\n",
       "    <tr>\n",
       "      <th>2750</th>\n",
       "      <td>158</td>\n",
       "      <td>ML0101ENv3</td>\n",
       "      <td>need</td>\n",
       "      <td>1</td>\n",
       "    </tr>\n",
       "    <tr>\n",
       "      <th>2751</th>\n",
       "      <td>158</td>\n",
       "      <td>ML0101ENv3</td>\n",
       "      <td>get</td>\n",
       "      <td>1</td>\n",
       "    </tr>\n",
       "    <tr>\n",
       "      <th>2752</th>\n",
       "      <td>158</td>\n",
       "      <td>ML0101ENv3</td>\n",
       "      <td>started</td>\n",
       "      <td>1</td>\n",
       "    </tr>\n",
       "    <tr>\n",
       "      <th>2753</th>\n",
       "      <td>158</td>\n",
       "      <td>ML0101ENv3</td>\n",
       "      <td>python</td>\n",
       "      <td>2</td>\n",
       "    </tr>\n",
       "    <tr>\n",
       "      <th>2754</th>\n",
       "      <td>158</td>\n",
       "      <td>ML0101ENv3</td>\n",
       "      <td>tool</td>\n",
       "      <td>1</td>\n",
       "    </tr>\n",
       "    <tr>\n",
       "      <th>2755</th>\n",
       "      <td>158</td>\n",
       "      <td>ML0101ENv3</td>\n",
       "      <td>tools</td>\n",
       "      <td>1</td>\n",
       "    </tr>\n",
       "    <tr>\n",
       "      <th>2756</th>\n",
       "      <td>158</td>\n",
       "      <td>ML0101ENv3</td>\n",
       "      <td>predict</td>\n",
       "      <td>1</td>\n",
       "    </tr>\n",
       "    <tr>\n",
       "      <th>2757</th>\n",
       "      <td>158</td>\n",
       "      <td>ML0101ENv3</td>\n",
       "      <td>free</td>\n",
       "      <td>1</td>\n",
       "    </tr>\n",
       "    <tr>\n",
       "      <th>2758</th>\n",
       "      <td>158</td>\n",
       "      <td>ML0101ENv3</td>\n",
       "      <td>hidden</td>\n",
       "      <td>1</td>\n",
       "    </tr>\n",
       "    <tr>\n",
       "      <th>2759</th>\n",
       "      <td>158</td>\n",
       "      <td>ML0101ENv3</td>\n",
       "      <td>insights</td>\n",
       "      <td>1</td>\n",
       "    </tr>\n",
       "    <tr>\n",
       "      <th>2760</th>\n",
       "      <td>158</td>\n",
       "      <td>ML0101ENv3</td>\n",
       "      <td>beneficial</td>\n",
       "      <td>1</td>\n",
       "    </tr>\n",
       "    <tr>\n",
       "      <th>2761</th>\n",
       "      <td>158</td>\n",
       "      <td>ML0101ENv3</td>\n",
       "      <td>future</td>\n",
       "      <td>1</td>\n",
       "    </tr>\n",
       "    <tr>\n",
       "      <th>2762</th>\n",
       "      <td>158</td>\n",
       "      <td>ML0101ENv3</td>\n",
       "      <td>trends</td>\n",
       "      <td>1</td>\n",
       "    </tr>\n",
       "    <tr>\n",
       "      <th>2763</th>\n",
       "      <td>158</td>\n",
       "      <td>ML0101ENv3</td>\n",
       "      <td>give</td>\n",
       "      <td>1</td>\n",
       "    </tr>\n",
       "    <tr>\n",
       "      <th>2764</th>\n",
       "      <td>158</td>\n",
       "      <td>ML0101ENv3</td>\n",
       "      <td>supervised</td>\n",
       "      <td>1</td>\n",
       "    </tr>\n",
       "    <tr>\n",
       "      <th>2765</th>\n",
       "      <td>158</td>\n",
       "      <td>ML0101ENv3</td>\n",
       "      <td>unsupervised</td>\n",
       "      <td>1</td>\n",
       "    </tr>\n",
       "  </tbody>\n",
       "</table>\n",
       "</div>"
      ],
      "text/plain": [
       "      doc_index      doc_id         token  bow\n",
       "2747        158  ML0101ENv3        course    1\n",
       "2748        158  ML0101ENv3      learning    4\n",
       "2749        158  ML0101ENv3       machine    3\n",
       "2750        158  ML0101ENv3          need    1\n",
       "2751        158  ML0101ENv3           get    1\n",
       "2752        158  ML0101ENv3       started    1\n",
       "2753        158  ML0101ENv3        python    2\n",
       "2754        158  ML0101ENv3          tool    1\n",
       "2755        158  ML0101ENv3         tools    1\n",
       "2756        158  ML0101ENv3       predict    1\n",
       "2757        158  ML0101ENv3          free    1\n",
       "2758        158  ML0101ENv3        hidden    1\n",
       "2759        158  ML0101ENv3      insights    1\n",
       "2760        158  ML0101ENv3    beneficial    1\n",
       "2761        158  ML0101ENv3        future    1\n",
       "2762        158  ML0101ENv3        trends    1\n",
       "2763        158  ML0101ENv3          give    1\n",
       "2764        158  ML0101ENv3    supervised    1\n",
       "2765        158  ML0101ENv3  unsupervised    1"
      ]
     },
     "execution_count": 19,
     "metadata": {},
     "output_type": "execute_result"
    }
   ],
   "source": [
    "ml_course = bows_df[bows_df['doc_id'] == 'ML0101ENv3']\n",
    "ml_course"
   ]
  },
  {
   "cell_type": "markdown",
   "metadata": {},
   "source": [
    "We can see the BoW feature vector is in vertical format but normally feature vectors are in horizontal format."
   ]
  },
  {
   "cell_type": "code",
   "execution_count": 20,
   "metadata": {},
   "outputs": [
    {
     "data": {
      "text/html": [
       "<div>\n",
       "<style scoped>\n",
       "    .dataframe tbody tr th:only-of-type {\n",
       "        vertical-align: middle;\n",
       "    }\n",
       "\n",
       "    .dataframe tbody tr th {\n",
       "        vertical-align: top;\n",
       "    }\n",
       "\n",
       "    .dataframe thead tr th {\n",
       "        text-align: left;\n",
       "    }\n",
       "</style>\n",
       "<table border=\"1\" class=\"dataframe\">\n",
       "  <thead>\n",
       "    <tr>\n",
       "      <th></th>\n",
       "      <th>doc_id</th>\n",
       "      <th colspan=\"9\" halign=\"left\">doc_index</th>\n",
       "      <th>...</th>\n",
       "      <th colspan=\"10\" halign=\"left\">bow</th>\n",
       "    </tr>\n",
       "    <tr>\n",
       "      <th>token</th>\n",
       "      <th></th>\n",
       "      <th>beneficial</th>\n",
       "      <th>course</th>\n",
       "      <th>free</th>\n",
       "      <th>future</th>\n",
       "      <th>get</th>\n",
       "      <th>give</th>\n",
       "      <th>hidden</th>\n",
       "      <th>insights</th>\n",
       "      <th>learning</th>\n",
       "      <th>...</th>\n",
       "      <th>machine</th>\n",
       "      <th>need</th>\n",
       "      <th>predict</th>\n",
       "      <th>python</th>\n",
       "      <th>started</th>\n",
       "      <th>supervised</th>\n",
       "      <th>tool</th>\n",
       "      <th>tools</th>\n",
       "      <th>trends</th>\n",
       "      <th>unsupervised</th>\n",
       "    </tr>\n",
       "  </thead>\n",
       "  <tbody>\n",
       "    <tr>\n",
       "      <th>0</th>\n",
       "      <td>ML0101ENv3</td>\n",
       "      <td>158</td>\n",
       "      <td>158</td>\n",
       "      <td>158</td>\n",
       "      <td>158</td>\n",
       "      <td>158</td>\n",
       "      <td>158</td>\n",
       "      <td>158</td>\n",
       "      <td>158</td>\n",
       "      <td>158</td>\n",
       "      <td>...</td>\n",
       "      <td>3</td>\n",
       "      <td>1</td>\n",
       "      <td>1</td>\n",
       "      <td>2</td>\n",
       "      <td>1</td>\n",
       "      <td>1</td>\n",
       "      <td>1</td>\n",
       "      <td>1</td>\n",
       "      <td>1</td>\n",
       "      <td>1</td>\n",
       "    </tr>\n",
       "  </tbody>\n",
       "</table>\n",
       "<p>1 rows × 39 columns</p>\n",
       "</div>"
      ],
      "text/plain": [
       "           doc_id  doc_index                                               \\\n",
       "token             beneficial course free future  get give hidden insights   \n",
       "0      ML0101ENv3        158    158  158    158  158  158    158      158   \n",
       "\n",
       "                ...     bow                                                    \\\n",
       "token learning  ... machine need predict python started supervised tool tools   \n",
       "0          158  ...       3    1       1      2       1          1    1     1   \n",
       "\n",
       "                           \n",
       "token trends unsupervised  \n",
       "0          1            1  \n",
       "\n",
       "[1 rows x 39 columns]"
      ]
     },
     "execution_count": 20,
     "metadata": {},
     "output_type": "execute_result"
    }
   ],
   "source": [
    "ml_courseT = ml_course.pivot(index=['doc_id'], columns='token').reset_index(level=[0])\n",
    "ml_courseT"
   ]
  },
  {
   "cell_type": "markdown",
   "metadata": {},
   "source": [
    "To compare the BoWs of any two courses, which normally have a different set of tokens, we need to create a union token set and then transpose them. We have provided a method called `pivot_two_bows` as follows:"
   ]
  },
  {
   "cell_type": "code",
   "execution_count": 21,
   "metadata": {},
   "outputs": [],
   "source": [
    "def pivot_two_bows(basedoc, comparedoc):\n",
    "    \"\"\"\n",
    "    Pivot two bag-of-words (BoW) representations for comparison.\n",
    "\n",
    "    Parameters:\n",
    "    basedoc (DataFrame): DataFrame containing the bag-of-words representation for the base document.\n",
    "    comparedoc (DataFrame): DataFrame containing the bag-of-words representation for the document to compare.\n",
    "\n",
    "    Returns:\n",
    "    DataFrame: A DataFrame with pivoted BoW representations for the base and compared documents,\n",
    "    facilitating direct comparison of word occurrences between the two documents.\n",
    "    \"\"\"\n",
    "\n",
    "    # Create copies of the input DataFrames to avoid modifying the originals\n",
    "    base = basedoc.drop('doc_index',axis=1).copy()\n",
    "    base['type'] = 'base'  # Add a 'type' column indicating base document\n",
    "    compare = comparedoc.drop('doc_index',axis=1).copy()\n",
    "    compare['type'] = 'compare'  # Add a 'type' column indicating compared document\n",
    "\n",
    "    # Concatenate the two DataFrames vertically\n",
    "    join = pd.concat([base, compare])\n",
    "\n",
    "    # Pivot the concatenated DataFrame based on 'doc_id' and 'type', with words as columns\n",
    "    joinT = join.pivot(index=['doc_id', 'type'], columns='token').fillna(0).reset_index(level=[0, 1])\n",
    "\n",
    "    # Assign meaningful column names to the pivoted DataFrame\n",
    "    joinT.columns = ['doc_id', 'type'] + [t[1] for t in joinT.columns][2:]\n",
    "\n",
    "    # Return the pivoted DataFrame for comparison\n",
    "    return joinT"
   ]
  },
  {
   "cell_type": "code",
   "execution_count": 22,
   "metadata": {},
   "outputs": [],
   "source": [
    "course1 = bows_df[bows_df['doc_id'] == 'ML0151EN']\n",
    "course2 = bows_df[bows_df['doc_id'] == 'ML0101ENv3']"
   ]
  },
  {
   "cell_type": "code",
   "execution_count": 23,
   "metadata": {},
   "outputs": [
    {
     "data": {
      "text/html": [
       "<div>\n",
       "<style scoped>\n",
       "    .dataframe tbody tr th:only-of-type {\n",
       "        vertical-align: middle;\n",
       "    }\n",
       "\n",
       "    .dataframe tbody tr th {\n",
       "        vertical-align: top;\n",
       "    }\n",
       "\n",
       "    .dataframe thead th {\n",
       "        text-align: right;\n",
       "    }\n",
       "</style>\n",
       "<table border=\"1\" class=\"dataframe\">\n",
       "  <thead>\n",
       "    <tr style=\"text-align: right;\">\n",
       "      <th></th>\n",
       "      <th>doc_id</th>\n",
       "      <th>type</th>\n",
       "      <th>approachable</th>\n",
       "      <th>basics</th>\n",
       "      <th>beneficial</th>\n",
       "      <th>comparison</th>\n",
       "      <th>course</th>\n",
       "      <th>dives</th>\n",
       "      <th>free</th>\n",
       "      <th>future</th>\n",
       "      <th>...</th>\n",
       "      <th>relates</th>\n",
       "      <th>started</th>\n",
       "      <th>statistical</th>\n",
       "      <th>supervised</th>\n",
       "      <th>tool</th>\n",
       "      <th>tools</th>\n",
       "      <th>trends</th>\n",
       "      <th>unsupervised</th>\n",
       "      <th>using</th>\n",
       "      <th>vs</th>\n",
       "    </tr>\n",
       "  </thead>\n",
       "  <tbody>\n",
       "    <tr>\n",
       "      <th>0</th>\n",
       "      <td>ML0101ENv3</td>\n",
       "      <td>compare</td>\n",
       "      <td>0.0</td>\n",
       "      <td>0.0</td>\n",
       "      <td>1.0</td>\n",
       "      <td>0.0</td>\n",
       "      <td>1.0</td>\n",
       "      <td>0.0</td>\n",
       "      <td>1.0</td>\n",
       "      <td>1.0</td>\n",
       "      <td>...</td>\n",
       "      <td>0.0</td>\n",
       "      <td>1.0</td>\n",
       "      <td>0.0</td>\n",
       "      <td>1.0</td>\n",
       "      <td>1.0</td>\n",
       "      <td>1.0</td>\n",
       "      <td>1.0</td>\n",
       "      <td>1.0</td>\n",
       "      <td>0.0</td>\n",
       "      <td>0.0</td>\n",
       "    </tr>\n",
       "    <tr>\n",
       "      <th>1</th>\n",
       "      <td>ML0151EN</td>\n",
       "      <td>base</td>\n",
       "      <td>1.0</td>\n",
       "      <td>1.0</td>\n",
       "      <td>0.0</td>\n",
       "      <td>1.0</td>\n",
       "      <td>1.0</td>\n",
       "      <td>1.0</td>\n",
       "      <td>0.0</td>\n",
       "      <td>0.0</td>\n",
       "      <td>...</td>\n",
       "      <td>1.0</td>\n",
       "      <td>0.0</td>\n",
       "      <td>1.0</td>\n",
       "      <td>1.0</td>\n",
       "      <td>0.0</td>\n",
       "      <td>0.0</td>\n",
       "      <td>0.0</td>\n",
       "      <td>1.0</td>\n",
       "      <td>1.0</td>\n",
       "      <td>1.0</td>\n",
       "    </tr>\n",
       "  </tbody>\n",
       "</table>\n",
       "<p>2 rows × 36 columns</p>\n",
       "</div>"
      ],
      "text/plain": [
       "       doc_id     type  approachable  basics  beneficial  comparison  course  \\\n",
       "0  ML0101ENv3  compare           0.0     0.0         1.0         0.0     1.0   \n",
       "1    ML0151EN     base           1.0     1.0         0.0         1.0     1.0   \n",
       "\n",
       "   dives  free  future  ...  relates  started  statistical  supervised  tool  \\\n",
       "0    0.0   1.0     1.0  ...      0.0      1.0          0.0         1.0   1.0   \n",
       "1    1.0   0.0     0.0  ...      1.0      0.0          1.0         1.0   0.0   \n",
       "\n",
       "   tools  trends  unsupervised  using   vs  \n",
       "0    1.0     1.0           1.0    0.0  0.0  \n",
       "1    0.0     0.0           1.0    1.0  1.0  \n",
       "\n",
       "[2 rows x 36 columns]"
      ]
     },
     "execution_count": 23,
     "metadata": {},
     "output_type": "execute_result"
    }
   ],
   "source": [
    "bow_vectors = pivot_two_bows(course1, course2)\n",
    "bow_vectors"
   ]
  },
  {
   "cell_type": "markdown",
   "metadata": {},
   "source": [
    "Similarly, we can use the cosine method to calculate their similarity:"
   ]
  },
  {
   "cell_type": "code",
   "execution_count": 24,
   "metadata": {},
   "outputs": [
    {
     "data": {
      "text/plain": [
       "0.6626221399549089"
      ]
     },
     "execution_count": 24,
     "metadata": {},
     "output_type": "execute_result"
    }
   ],
   "source": [
    "similarity = 1 - cosine(bow_vectors.iloc[0, 2:], bow_vectors.iloc[1, 2:])\n",
    "similarity"
   ]
  },
  {
   "cell_type": "markdown",
   "metadata": {},
   "source": [
    "Now our task is to finding all courses similar to the course `Machine Learning with Python`:\n"
   ]
  },
  {
   "cell_type": "code",
   "execution_count": 25,
   "metadata": {},
   "outputs": [
    {
     "data": {
      "text/html": [
       "<div>\n",
       "<style scoped>\n",
       "    .dataframe tbody tr th:only-of-type {\n",
       "        vertical-align: middle;\n",
       "    }\n",
       "\n",
       "    .dataframe tbody tr th {\n",
       "        vertical-align: top;\n",
       "    }\n",
       "\n",
       "    .dataframe thead th {\n",
       "        text-align: right;\n",
       "    }\n",
       "</style>\n",
       "<table border=\"1\" class=\"dataframe\">\n",
       "  <thead>\n",
       "    <tr style=\"text-align: right;\">\n",
       "      <th></th>\n",
       "      <th>COURSE_ID</th>\n",
       "      <th>TITLE</th>\n",
       "      <th>DESCRIPTION</th>\n",
       "    </tr>\n",
       "  </thead>\n",
       "  <tbody>\n",
       "    <tr>\n",
       "      <th>158</th>\n",
       "      <td>ML0101ENv3</td>\n",
       "      <td>machine learning with python</td>\n",
       "      <td>machine learning can be an incredibly benefici...</td>\n",
       "    </tr>\n",
       "  </tbody>\n",
       "</table>\n",
       "</div>"
      ],
      "text/plain": [
       "      COURSE_ID                         TITLE  \\\n",
       "158  ML0101ENv3  machine learning with python   \n",
       "\n",
       "                                           DESCRIPTION  \n",
       "158  machine learning can be an incredibly benefici...  "
      ]
     },
     "execution_count": 25,
     "metadata": {},
     "output_type": "execute_result"
    }
   ],
   "source": [
    "course_content_df[course_content_df['COURSE_ID'] == 'ML0101ENv3']"
   ]
  },
  {
   "cell_type": "code",
   "execution_count": 26,
   "metadata": {},
   "outputs": [
    {
     "data": {
      "text/plain": [
       "Index(['doc_index', 'doc_id', 'token', 'bow'], dtype='object')"
      ]
     },
     "execution_count": 26,
     "metadata": {},
     "output_type": "execute_result"
    }
   ],
   "source": [
    "bows_df.columns"
   ]
  },
  {
   "cell_type": "code",
   "execution_count": 27,
   "metadata": {},
   "outputs": [],
   "source": [
    "def suggest_course(course_id, course_df, bows_df):\n",
    "    \"\"\"\n",
    "    suggest a list of couser based on cosine similarity with a ginven COURSE_ID.\n",
    "\n",
    "    Parameters:\n",
    "    course_id (str): the COURSE_ID which we want to find similar course list.\n",
    "    course_df (DataFrame): DataFrame representation of course content. It has three columns `COURSE_ID`, `TITLE`, and `DESCRIPTION`.\n",
    "    bows_df (DataFrame): DataFrame containing the bag-of-words representation for the document to compare.\n",
    "\n",
    "    Returns:\n",
    "    DataFrame: A DataFrame with pivoted BoW representations for the base and compared documents,\n",
    "    facilitating direct comparison of word occurrences between the two documents.\n",
    "    \"\"\"\n",
    "    # we can set a similarity threshold such as 0.5 to determine if two courses are similar enough.\n",
    "    trh = 0.5\n",
    "\n",
    "    course_df = course_df[['COURSE_ID','TITLE']].copy()\n",
    "\n",
    "    num = course_df['COURSE_ID'][course_df['COURSE_ID'] != course_id]\n",
    "\n",
    "    course2 = bows_df[bows_df['doc_id'] == course_id]\n",
    "\n",
    "    titles = []\n",
    "    for i in num:\n",
    "        course1 = bows_df[bows_df['doc_id'] == i]\n",
    "        bow_vectors = pivot_two_bows(course1, course2)\n",
    "        similarity = 1 - cosine(bow_vectors.iloc[0, 2:], bow_vectors.iloc[1, 2:])\n",
    "        if similarity >= trh:\n",
    "            titles.append(i)\n",
    "\n",
    "    df = course_df[course_df['COURSE_ID'].isin(titles)]  \n",
    "    return df"
   ]
  },
  {
   "cell_type": "code",
   "execution_count": 28,
   "metadata": {},
   "outputs": [
    {
     "data": {
      "text/html": [
       "<div>\n",
       "<style scoped>\n",
       "    .dataframe tbody tr th:only-of-type {\n",
       "        vertical-align: middle;\n",
       "    }\n",
       "\n",
       "    .dataframe tbody tr th {\n",
       "        vertical-align: top;\n",
       "    }\n",
       "\n",
       "    .dataframe thead th {\n",
       "        text-align: right;\n",
       "    }\n",
       "</style>\n",
       "<table border=\"1\" class=\"dataframe\">\n",
       "  <thead>\n",
       "    <tr style=\"text-align: right;\">\n",
       "      <th></th>\n",
       "      <th>COURSE_ID</th>\n",
       "      <th>TITLE</th>\n",
       "    </tr>\n",
       "  </thead>\n",
       "  <tbody>\n",
       "    <tr>\n",
       "      <th>157</th>\n",
       "      <td>ML0109EN</td>\n",
       "      <td>machine learning   dimensionality reduction</td>\n",
       "    </tr>\n",
       "    <tr>\n",
       "      <th>200</th>\n",
       "      <td>ML0151EN</td>\n",
       "      <td>machine learning with r</td>\n",
       "    </tr>\n",
       "    <tr>\n",
       "      <th>259</th>\n",
       "      <td>excourse46</td>\n",
       "      <td>machine learning</td>\n",
       "    </tr>\n",
       "    <tr>\n",
       "      <th>260</th>\n",
       "      <td>excourse47</td>\n",
       "      <td>machine learning for all</td>\n",
       "    </tr>\n",
       "    <tr>\n",
       "      <th>273</th>\n",
       "      <td>excourse60</td>\n",
       "      <td>introduction to tensorflow for artificial inte...</td>\n",
       "    </tr>\n",
       "  </tbody>\n",
       "</table>\n",
       "</div>"
      ],
      "text/plain": [
       "      COURSE_ID                                              TITLE\n",
       "157    ML0109EN        machine learning   dimensionality reduction\n",
       "200    ML0151EN                            machine learning with r\n",
       "259  excourse46                                   machine learning\n",
       "260  excourse47                           machine learning for all\n",
       "273  excourse60  introduction to tensorflow for artificial inte..."
      ]
     },
     "execution_count": 28,
     "metadata": {},
     "output_type": "execute_result"
    }
   ],
   "source": [
    "suggest_course('ML0101ENv3', course_content_df, bows_df)"
   ]
  },
  {
   "cell_type": "markdown",
   "metadata": {},
   "source": [
    "We have just successfully found a list of courses similar to the course `ML0101ENv3`: `Machine Learning with Python` based on cosine similarity of the features extracted with BoW from course titles and description."
   ]
  },
  {
   "cell_type": "markdown",
   "metadata": {},
   "source": [
    "----"
   ]
  },
  {
   "cell_type": "markdown",
   "metadata": {},
   "source": [
    "# **Part 3. Obtain the similarity between courses from a course similarity matrix**"
   ]
  },
  {
   "cell_type": "markdown",
   "metadata": {},
   "source": [
    "We can now use the function `pivot_two_bows` to compute the similarity matrix by iterating through all possible course pairs and calculating their similarities."
   ]
  },
  {
   "cell_type": "markdown",
   "metadata": {},
   "source": [
    "The similarity matrix is a real number, symmetric metric with each element representing the similarity value (ranged 0 to 1) between course index `i` and course index `j`. "
   ]
  },
  {
   "cell_type": "code",
   "execution_count": 29,
   "metadata": {},
   "outputs": [],
   "source": [
    "all_courses = bows_df['doc_id'].unique()\n",
    "n_courses = len(all_courses)\n",
    "\n",
    "# We create a matrix with zeros where we are going to replace the lower diagonal matrix elements with the similarity measures.\n",
    "sim_matrix = np.zeros((n_courses,n_courses))\n",
    "\n",
    "# iterate through all possible course pairs and calculate their similarities.\n",
    "for i,coursei in enumerate(all_courses):\n",
    "    course1_df = bows_df[bows_df['doc_id'] == coursei]\n",
    "    for j,coursej in enumerate(all_courses):\n",
    "        course2_df = bows_df[bows_df['doc_id'] == coursej]\n",
    "        # Compute only lower triangular matrix elements as the matrix is symmetric\n",
    "        if j<=i: \n",
    "            bow_vectors = pivot_two_bows(course1_df, course2_df)\n",
    "            similarity = 1 - cosine(bow_vectors.iloc[0, 2:], bow_vectors.iloc[1, 2:])\n",
    "            sim_matrix[i][j] = similarity\n",
    "\n",
    "sim_df = pd.DataFrame(sim_matrix) "
   ]
  },
  {
   "cell_type": "code",
   "execution_count": 30,
   "metadata": {},
   "outputs": [
    {
     "data": {
      "text/html": [
       "<div>\n",
       "<style scoped>\n",
       "    .dataframe tbody tr th:only-of-type {\n",
       "        vertical-align: middle;\n",
       "    }\n",
       "\n",
       "    .dataframe tbody tr th {\n",
       "        vertical-align: top;\n",
       "    }\n",
       "\n",
       "    .dataframe thead th {\n",
       "        text-align: right;\n",
       "    }\n",
       "</style>\n",
       "<table border=\"1\" class=\"dataframe\">\n",
       "  <thead>\n",
       "    <tr style=\"text-align: right;\">\n",
       "      <th></th>\n",
       "      <th>0</th>\n",
       "      <th>1</th>\n",
       "      <th>2</th>\n",
       "      <th>3</th>\n",
       "      <th>4</th>\n",
       "      <th>5</th>\n",
       "      <th>6</th>\n",
       "      <th>7</th>\n",
       "      <th>8</th>\n",
       "      <th>9</th>\n",
       "      <th>...</th>\n",
       "      <th>297</th>\n",
       "      <th>298</th>\n",
       "      <th>299</th>\n",
       "      <th>300</th>\n",
       "      <th>301</th>\n",
       "      <th>302</th>\n",
       "      <th>303</th>\n",
       "      <th>304</th>\n",
       "      <th>305</th>\n",
       "      <th>306</th>\n",
       "    </tr>\n",
       "  </thead>\n",
       "  <tbody>\n",
       "    <tr>\n",
       "      <th>0</th>\n",
       "      <td>1.000000</td>\n",
       "      <td>0.000000</td>\n",
       "      <td>0.000000</td>\n",
       "      <td>0.000000</td>\n",
       "      <td>0.000000</td>\n",
       "      <td>0.000000</td>\n",
       "      <td>0.000000</td>\n",
       "      <td>0.000000</td>\n",
       "      <td>0.000000</td>\n",
       "      <td>0.000000</td>\n",
       "      <td>...</td>\n",
       "      <td>0.000000</td>\n",
       "      <td>0.000000</td>\n",
       "      <td>0.000000</td>\n",
       "      <td>0.000000</td>\n",
       "      <td>0.000000</td>\n",
       "      <td>0.000000</td>\n",
       "      <td>0.000000</td>\n",
       "      <td>0.000000</td>\n",
       "      <td>0.000000</td>\n",
       "      <td>0.0</td>\n",
       "    </tr>\n",
       "    <tr>\n",
       "      <th>1</th>\n",
       "      <td>0.088889</td>\n",
       "      <td>1.000000</td>\n",
       "      <td>0.000000</td>\n",
       "      <td>0.000000</td>\n",
       "      <td>0.000000</td>\n",
       "      <td>0.000000</td>\n",
       "      <td>0.000000</td>\n",
       "      <td>0.000000</td>\n",
       "      <td>0.000000</td>\n",
       "      <td>0.000000</td>\n",
       "      <td>...</td>\n",
       "      <td>0.000000</td>\n",
       "      <td>0.000000</td>\n",
       "      <td>0.000000</td>\n",
       "      <td>0.000000</td>\n",
       "      <td>0.000000</td>\n",
       "      <td>0.000000</td>\n",
       "      <td>0.000000</td>\n",
       "      <td>0.000000</td>\n",
       "      <td>0.000000</td>\n",
       "      <td>0.0</td>\n",
       "    </tr>\n",
       "    <tr>\n",
       "      <th>2</th>\n",
       "      <td>0.088475</td>\n",
       "      <td>0.055202</td>\n",
       "      <td>1.000000</td>\n",
       "      <td>0.000000</td>\n",
       "      <td>0.000000</td>\n",
       "      <td>0.000000</td>\n",
       "      <td>0.000000</td>\n",
       "      <td>0.000000</td>\n",
       "      <td>0.000000</td>\n",
       "      <td>0.000000</td>\n",
       "      <td>...</td>\n",
       "      <td>0.000000</td>\n",
       "      <td>0.000000</td>\n",
       "      <td>0.000000</td>\n",
       "      <td>0.000000</td>\n",
       "      <td>0.000000</td>\n",
       "      <td>0.000000</td>\n",
       "      <td>0.000000</td>\n",
       "      <td>0.000000</td>\n",
       "      <td>0.000000</td>\n",
       "      <td>0.0</td>\n",
       "    </tr>\n",
       "    <tr>\n",
       "      <th>3</th>\n",
       "      <td>0.065556</td>\n",
       "      <td>0.057264</td>\n",
       "      <td>0.026463</td>\n",
       "      <td>1.000000</td>\n",
       "      <td>0.000000</td>\n",
       "      <td>0.000000</td>\n",
       "      <td>0.000000</td>\n",
       "      <td>0.000000</td>\n",
       "      <td>0.000000</td>\n",
       "      <td>0.000000</td>\n",
       "      <td>...</td>\n",
       "      <td>0.000000</td>\n",
       "      <td>0.000000</td>\n",
       "      <td>0.000000</td>\n",
       "      <td>0.000000</td>\n",
       "      <td>0.000000</td>\n",
       "      <td>0.000000</td>\n",
       "      <td>0.000000</td>\n",
       "      <td>0.000000</td>\n",
       "      <td>0.000000</td>\n",
       "      <td>0.0</td>\n",
       "    </tr>\n",
       "    <tr>\n",
       "      <th>4</th>\n",
       "      <td>0.048810</td>\n",
       "      <td>0.012182</td>\n",
       "      <td>0.039406</td>\n",
       "      <td>0.000000</td>\n",
       "      <td>1.000000</td>\n",
       "      <td>0.000000</td>\n",
       "      <td>0.000000</td>\n",
       "      <td>0.000000</td>\n",
       "      <td>0.000000</td>\n",
       "      <td>0.000000</td>\n",
       "      <td>...</td>\n",
       "      <td>0.000000</td>\n",
       "      <td>0.000000</td>\n",
       "      <td>0.000000</td>\n",
       "      <td>0.000000</td>\n",
       "      <td>0.000000</td>\n",
       "      <td>0.000000</td>\n",
       "      <td>0.000000</td>\n",
       "      <td>0.000000</td>\n",
       "      <td>0.000000</td>\n",
       "      <td>0.0</td>\n",
       "    </tr>\n",
       "    <tr>\n",
       "      <th>...</th>\n",
       "      <td>...</td>\n",
       "      <td>...</td>\n",
       "      <td>...</td>\n",
       "      <td>...</td>\n",
       "      <td>...</td>\n",
       "      <td>...</td>\n",
       "      <td>...</td>\n",
       "      <td>...</td>\n",
       "      <td>...</td>\n",
       "      <td>...</td>\n",
       "      <td>...</td>\n",
       "      <td>...</td>\n",
       "      <td>...</td>\n",
       "      <td>...</td>\n",
       "      <td>...</td>\n",
       "      <td>...</td>\n",
       "      <td>...</td>\n",
       "      <td>...</td>\n",
       "      <td>...</td>\n",
       "      <td>...</td>\n",
       "      <td>...</td>\n",
       "    </tr>\n",
       "    <tr>\n",
       "      <th>302</th>\n",
       "      <td>0.033944</td>\n",
       "      <td>0.028239</td>\n",
       "      <td>0.018270</td>\n",
       "      <td>0.094759</td>\n",
       "      <td>0.060474</td>\n",
       "      <td>0.064851</td>\n",
       "      <td>0.053856</td>\n",
       "      <td>0.039467</td>\n",
       "      <td>0.036539</td>\n",
       "      <td>0.060474</td>\n",
       "      <td>...</td>\n",
       "      <td>0.047186</td>\n",
       "      <td>0.116008</td>\n",
       "      <td>0.137406</td>\n",
       "      <td>0.211743</td>\n",
       "      <td>0.256220</td>\n",
       "      <td>1.000000</td>\n",
       "      <td>0.000000</td>\n",
       "      <td>0.000000</td>\n",
       "      <td>0.000000</td>\n",
       "      <td>0.0</td>\n",
       "    </tr>\n",
       "    <tr>\n",
       "      <th>303</th>\n",
       "      <td>0.076825</td>\n",
       "      <td>0.063911</td>\n",
       "      <td>0.082698</td>\n",
       "      <td>0.030638</td>\n",
       "      <td>0.030415</td>\n",
       "      <td>0.000000</td>\n",
       "      <td>0.000000</td>\n",
       "      <td>0.119098</td>\n",
       "      <td>0.055132</td>\n",
       "      <td>0.045622</td>\n",
       "      <td>...</td>\n",
       "      <td>0.177989</td>\n",
       "      <td>0.092381</td>\n",
       "      <td>0.145126</td>\n",
       "      <td>0.527636</td>\n",
       "      <td>0.249675</td>\n",
       "      <td>0.211520</td>\n",
       "      <td>1.000000</td>\n",
       "      <td>0.000000</td>\n",
       "      <td>0.000000</td>\n",
       "      <td>0.0</td>\n",
       "    </tr>\n",
       "    <tr>\n",
       "      <th>304</th>\n",
       "      <td>0.073278</td>\n",
       "      <td>0.138990</td>\n",
       "      <td>0.134095</td>\n",
       "      <td>0.017534</td>\n",
       "      <td>0.130548</td>\n",
       "      <td>0.009333</td>\n",
       "      <td>0.000000</td>\n",
       "      <td>0.255599</td>\n",
       "      <td>0.094656</td>\n",
       "      <td>0.026110</td>\n",
       "      <td>...</td>\n",
       "      <td>0.153927</td>\n",
       "      <td>0.105739</td>\n",
       "      <td>0.139415</td>\n",
       "      <td>0.282573</td>\n",
       "      <td>0.133670</td>\n",
       "      <td>0.169473</td>\n",
       "      <td>0.243531</td>\n",
       "      <td>1.000000</td>\n",
       "      <td>0.000000</td>\n",
       "      <td>0.0</td>\n",
       "    </tr>\n",
       "    <tr>\n",
       "      <th>305</th>\n",
       "      <td>0.039276</td>\n",
       "      <td>0.031367</td>\n",
       "      <td>0.012684</td>\n",
       "      <td>0.018796</td>\n",
       "      <td>0.000000</td>\n",
       "      <td>0.015008</td>\n",
       "      <td>0.024926</td>\n",
       "      <td>0.082199</td>\n",
       "      <td>0.076102</td>\n",
       "      <td>0.055978</td>\n",
       "      <td>...</td>\n",
       "      <td>0.149234</td>\n",
       "      <td>0.093962</td>\n",
       "      <td>0.162170</td>\n",
       "      <td>0.476644</td>\n",
       "      <td>0.222350</td>\n",
       "      <td>0.129766</td>\n",
       "      <td>0.416067</td>\n",
       "      <td>0.221307</td>\n",
       "      <td>1.000000</td>\n",
       "      <td>0.0</td>\n",
       "    </tr>\n",
       "    <tr>\n",
       "      <th>306</th>\n",
       "      <td>0.121113</td>\n",
       "      <td>0.076940</td>\n",
       "      <td>0.000000</td>\n",
       "      <td>0.158073</td>\n",
       "      <td>0.000000</td>\n",
       "      <td>0.126211</td>\n",
       "      <td>0.157219</td>\n",
       "      <td>0.000000</td>\n",
       "      <td>0.106668</td>\n",
       "      <td>0.039231</td>\n",
       "      <td>...</td>\n",
       "      <td>0.142850</td>\n",
       "      <td>0.250859</td>\n",
       "      <td>0.260731</td>\n",
       "      <td>0.099901</td>\n",
       "      <td>0.249325</td>\n",
       "      <td>0.263734</td>\n",
       "      <td>0.178384</td>\n",
       "      <td>0.129574</td>\n",
       "      <td>0.126274</td>\n",
       "      <td>1.0</td>\n",
       "    </tr>\n",
       "  </tbody>\n",
       "</table>\n",
       "<p>307 rows × 307 columns</p>\n",
       "</div>"
      ],
      "text/plain": [
       "          0         1         2         3         4         5         6    \\\n",
       "0    1.000000  0.000000  0.000000  0.000000  0.000000  0.000000  0.000000   \n",
       "1    0.088889  1.000000  0.000000  0.000000  0.000000  0.000000  0.000000   \n",
       "2    0.088475  0.055202  1.000000  0.000000  0.000000  0.000000  0.000000   \n",
       "3    0.065556  0.057264  0.026463  1.000000  0.000000  0.000000  0.000000   \n",
       "4    0.048810  0.012182  0.039406  0.000000  1.000000  0.000000  0.000000   \n",
       "..        ...       ...       ...       ...       ...       ...       ...   \n",
       "302  0.033944  0.028239  0.018270  0.094759  0.060474  0.064851  0.053856   \n",
       "303  0.076825  0.063911  0.082698  0.030638  0.030415  0.000000  0.000000   \n",
       "304  0.073278  0.138990  0.134095  0.017534  0.130548  0.009333  0.000000   \n",
       "305  0.039276  0.031367  0.012684  0.018796  0.000000  0.015008  0.024926   \n",
       "306  0.121113  0.076940  0.000000  0.158073  0.000000  0.126211  0.157219   \n",
       "\n",
       "          7         8         9    ...       297       298       299  \\\n",
       "0    0.000000  0.000000  0.000000  ...  0.000000  0.000000  0.000000   \n",
       "1    0.000000  0.000000  0.000000  ...  0.000000  0.000000  0.000000   \n",
       "2    0.000000  0.000000  0.000000  ...  0.000000  0.000000  0.000000   \n",
       "3    0.000000  0.000000  0.000000  ...  0.000000  0.000000  0.000000   \n",
       "4    0.000000  0.000000  0.000000  ...  0.000000  0.000000  0.000000   \n",
       "..        ...       ...       ...  ...       ...       ...       ...   \n",
       "302  0.039467  0.036539  0.060474  ...  0.047186  0.116008  0.137406   \n",
       "303  0.119098  0.055132  0.045622  ...  0.177989  0.092381  0.145126   \n",
       "304  0.255599  0.094656  0.026110  ...  0.153927  0.105739  0.139415   \n",
       "305  0.082199  0.076102  0.055978  ...  0.149234  0.093962  0.162170   \n",
       "306  0.000000  0.106668  0.039231  ...  0.142850  0.250859  0.260731   \n",
       "\n",
       "          300       301       302       303       304       305  306  \n",
       "0    0.000000  0.000000  0.000000  0.000000  0.000000  0.000000  0.0  \n",
       "1    0.000000  0.000000  0.000000  0.000000  0.000000  0.000000  0.0  \n",
       "2    0.000000  0.000000  0.000000  0.000000  0.000000  0.000000  0.0  \n",
       "3    0.000000  0.000000  0.000000  0.000000  0.000000  0.000000  0.0  \n",
       "4    0.000000  0.000000  0.000000  0.000000  0.000000  0.000000  0.0  \n",
       "..        ...       ...       ...       ...       ...       ...  ...  \n",
       "302  0.211743  0.256220  1.000000  0.000000  0.000000  0.000000  0.0  \n",
       "303  0.527636  0.249675  0.211520  1.000000  0.000000  0.000000  0.0  \n",
       "304  0.282573  0.133670  0.169473  0.243531  1.000000  0.000000  0.0  \n",
       "305  0.476644  0.222350  0.129766  0.416067  0.221307  1.000000  0.0  \n",
       "306  0.099901  0.249325  0.263734  0.178384  0.129574  0.126274  1.0  \n",
       "\n",
       "[307 rows x 307 columns]"
      ]
     },
     "execution_count": 30,
     "metadata": {},
     "output_type": "execute_result"
    }
   ],
   "source": [
    "sim_df"
   ]
  },
  {
   "cell_type": "markdown",
   "metadata": {},
   "source": [
    "We could use `seaborn` to visualize the similarity metric, and since it is symmetric, we can just show the triangular  matrix (lower left):"
   ]
  },
  {
   "cell_type": "code",
   "execution_count": 31,
   "metadata": {},
   "outputs": [
    {
     "data": {
      "text/plain": [
       "<Axes: >"
      ]
     },
     "execution_count": 31,
     "metadata": {},
     "output_type": "execute_result"
    },
    {
     "data": {
      "image/png": "[encoded data removed]",
      "text/plain": [
       "<Figure size 1100x900 with 2 Axes>"
      ]
     },
     "metadata": {},
     "output_type": "display_data"
    }
   ],
   "source": [
    "# Configure seaborn to set the plot style to 'white'\n",
    "sns.set_theme(style=\"white\")\n",
    "\n",
    "# Create a mask for the upper triangle of the similarity matrix\n",
    "mask = np.triu(np.ones_like(sim_df, dtype=bool))\n",
    "\n",
    "# Create a new figure and axis for the heatmap\n",
    "_, ax = plt.subplots(figsize=(11, 9))\n",
    "\n",
    "# Create a diverging color palette for the heatmap\n",
    "cmap = sns.diverging_palette(230, 20, as_cmap=True)\n",
    "\n",
    "# Plot a similarity heat map using seaborn's heatmap function\n",
    "sns.heatmap(sim_df, mask=mask, cmap=cmap, vmin=0.01, vmax=1, center=0,\n",
    "            square=True)"
   ]
  },
  {
   "cell_type": "markdown",
   "metadata": {},
   "source": [
    "Next, we are going to need the `bows_df_index` DataFrame in order to relate the column `doc_index` with `doc_id`. Let's take a look at it again:"
   ]
  },
  {
   "cell_type": "code",
   "execution_count": 32,
   "metadata": {},
   "outputs": [
    {
     "data": {
      "text/html": [
       "<div>\n",
       "<style scoped>\n",
       "    .dataframe tbody tr th:only-of-type {\n",
       "        vertical-align: middle;\n",
       "    }\n",
       "\n",
       "    .dataframe tbody tr th {\n",
       "        vertical-align: top;\n",
       "    }\n",
       "\n",
       "    .dataframe thead th {\n",
       "        text-align: right;\n",
       "    }\n",
       "</style>\n",
       "<table border=\"1\" class=\"dataframe\">\n",
       "  <thead>\n",
       "    <tr style=\"text-align: right;\">\n",
       "      <th></th>\n",
       "      <th>doc_index</th>\n",
       "      <th>doc_id</th>\n",
       "      <th>token</th>\n",
       "      <th>bow</th>\n",
       "    </tr>\n",
       "  </thead>\n",
       "  <tbody>\n",
       "    <tr>\n",
       "      <th>0</th>\n",
       "      <td>0</td>\n",
       "      <td>ML0201EN</td>\n",
       "      <td>ai</td>\n",
       "      <td>2</td>\n",
       "    </tr>\n",
       "    <tr>\n",
       "      <th>1</th>\n",
       "      <td>0</td>\n",
       "      <td>ML0201EN</td>\n",
       "      <td>apps</td>\n",
       "      <td>2</td>\n",
       "    </tr>\n",
       "    <tr>\n",
       "      <th>2</th>\n",
       "      <td>0</td>\n",
       "      <td>ML0201EN</td>\n",
       "      <td>build</td>\n",
       "      <td>2</td>\n",
       "    </tr>\n",
       "    <tr>\n",
       "      <th>3</th>\n",
       "      <td>0</td>\n",
       "      <td>ML0201EN</td>\n",
       "      <td>cloud</td>\n",
       "      <td>1</td>\n",
       "    </tr>\n",
       "    <tr>\n",
       "      <th>4</th>\n",
       "      <td>0</td>\n",
       "      <td>ML0201EN</td>\n",
       "      <td>coming</td>\n",
       "      <td>1</td>\n",
       "    </tr>\n",
       "  </tbody>\n",
       "</table>\n",
       "</div>"
      ],
      "text/plain": [
       "   doc_index    doc_id   token  bow\n",
       "0          0  ML0201EN      ai    2\n",
       "1          0  ML0201EN    apps    2\n",
       "2          0  ML0201EN   build    2\n",
       "3          0  ML0201EN   cloud    1\n",
       "4          0  ML0201EN  coming    1"
      ]
     },
     "execution_count": 32,
     "metadata": {},
     "output_type": "execute_result"
    }
   ],
   "source": [
    "bows_df.head()"
   ]
  },
  {
   "cell_type": "markdown",
   "metadata": {},
   "source": [
    "First, we notice that the `doc_index` are course indices (such as `0, 1, 2, 3`). Very often we need to query the actual course ids (such as `ML0151EN` and `ML0101ENv3`) based on course indices and vice versa. We can save the course id's and indices into two dictionaries for late queries:\n",
    "\n",
    "Then, based on the `doc_index` and `doc_id` columns, we create an index to id mapping and another id to index mapping in two Python dictionaries:"
   ]
  },
  {
   "cell_type": "code",
   "execution_count": 33,
   "metadata": {},
   "outputs": [],
   "source": [
    "# Create course id to index and index to id mappings\n",
    "def get_doc_dicts(bow_df):\n",
    "    # Group the DataFrame by course index and ID, and get the maximum value for each group\n",
    "    grouped_df = bow_df.groupby(['doc_index', 'doc_id']).max().reset_index(drop=False)\n",
    "    # Create a dictionary mapping indices to course IDs\n",
    "    idx_id_dict = grouped_df[['doc_id']].to_dict()['doc_id']\n",
    "    # Create a dictionary mapping course IDs to indices\n",
    "    id_idx_dict = {v: k for k, v in idx_id_dict.items()}\n",
    "    # Clean up temporary DataFrame\n",
    "    del grouped_df\n",
    "    return idx_id_dict, id_idx_dict"
   ]
  },
  {
   "cell_type": "markdown",
   "metadata": {},
   "source": [
    "For example, suppose we want to know the indexes of the items \"ML0151EN\" and \"ML0101ENv3\"."
   ]
  },
  {
   "cell_type": "code",
   "execution_count": 34,
   "metadata": {},
   "outputs": [
    {
     "name": "stdout",
     "output_type": "stream",
     "text": [
      "Course 1's index is 200 and Course 2's index is 158\n"
     ]
    }
   ],
   "source": [
    "idx_id_dict, id_idx_dict = get_doc_dicts(bows_df)\n",
    "idx1 = id_idx_dict[\"ML0151EN\"]\n",
    "idx2 = id_idx_dict[\"ML0101ENv3\"]\n",
    "print(f\"Course 1's index is {idx1} and Course 2's index is {idx2}\")"
   ]
  },
  {
   "cell_type": "markdown",
   "metadata": {},
   "source": [
    "Then we can locate their similarity value in row 200 and col 158, `sim_matrix[200][158]`:"
   ]
  },
  {
   "cell_type": "code",
   "execution_count": 35,
   "metadata": {},
   "outputs": [
    {
     "data": {
      "text/plain": [
       "0.6626221399549089"
      ]
     },
     "execution_count": 35,
     "metadata": {},
     "output_type": "execute_result"
    }
   ],
   "source": [
    "sim = sim_matrix[idx1][idx2]\n",
    "sim"
   ]
  },
  {
   "cell_type": "markdown",
   "metadata": {},
   "source": [
    "### Example: Find courses which are similar enough to your enrolled courses."
   ]
  },
  {
   "cell_type": "markdown",
   "metadata": {},
   "source": [
    "As an example we can check the recommendations for a selected list of courses given below:"
   ]
  },
  {
   "cell_type": "code",
   "execution_count": 36,
   "metadata": {},
   "outputs": [],
   "source": [
    "enrolled_course_ids = ['ML0151EN'] # add your interested coures id to the list"
   ]
  },
  {
   "cell_type": "code",
   "execution_count": 37,
   "metadata": {},
   "outputs": [
    {
     "data": {
      "text/html": [
       "<div>\n",
       "<style scoped>\n",
       "    .dataframe tbody tr th:only-of-type {\n",
       "        vertical-align: middle;\n",
       "    }\n",
       "\n",
       "    .dataframe tbody tr th {\n",
       "        vertical-align: top;\n",
       "    }\n",
       "\n",
       "    .dataframe thead th {\n",
       "        text-align: right;\n",
       "    }\n",
       "</style>\n",
       "<table border=\"1\" class=\"dataframe\">\n",
       "  <thead>\n",
       "    <tr style=\"text-align: right;\">\n",
       "      <th></th>\n",
       "      <th>COURSE_ID</th>\n",
       "      <th>TITLE</th>\n",
       "      <th>DESCRIPTION</th>\n",
       "    </tr>\n",
       "  </thead>\n",
       "  <tbody>\n",
       "    <tr>\n",
       "      <th>200</th>\n",
       "      <td>ML0151EN</td>\n",
       "      <td>machine learning with r</td>\n",
       "      <td>this machine learning with r course dives into...</td>\n",
       "    </tr>\n",
       "  </tbody>\n",
       "</table>\n",
       "</div>"
      ],
      "text/plain": [
       "    COURSE_ID                    TITLE  \\\n",
       "200  ML0151EN  machine learning with r   \n",
       "\n",
       "                                           DESCRIPTION  \n",
       "200  this machine learning with r course dives into...  "
      ]
     },
     "execution_count": 37,
     "metadata": {},
     "output_type": "execute_result"
    }
   ],
   "source": [
    "enrolled_courses = course_content_df[course_content_df['COURSE_ID'].isin(enrolled_course_ids)]\n",
    "enrolled_courses"
   ]
  },
  {
   "cell_type": "code",
   "execution_count": 38,
   "metadata": {},
   "outputs": [],
   "source": [
    "all_courses = set(course_content_df['COURSE_ID'])\n",
    "\n",
    "unselected_course_ids = all_courses.difference(enrolled_course_ids)\n"
   ]
  },
  {
   "cell_type": "markdown",
   "metadata": {},
   "source": [
    "Now, we iterate each unselect course and check if it is similar enough to any of your selected courses. If the similarity is larger than a threshold such as 0.5, then add it to the course recommendation list:"
   ]
  },
  {
   "cell_type": "code",
   "execution_count": 39,
   "metadata": {},
   "outputs": [],
   "source": [
    "def generate_recommendations_for_one_user(enrolled_course_ids, unselected_course_ids, id_idx_dict, sim_matrix):\n",
    "    # Create a dictionary to store your recommendation results\n",
    "    res = {}\n",
    "    # Set a threshold for similarity\n",
    "    threshold = 0.5 \n",
    "    # Iterate over enrolled courses\n",
    "    for enrolled_course in enrolled_course_ids:\n",
    "        # Iterate over unselected courses\n",
    "        for unselect_course in unselected_course_ids:\n",
    "            # Check if both enrolled and unselected courses exist in the id_idx_dict\n",
    "            if enrolled_course in id_idx_dict and unselect_course in id_idx_dict:\n",
    "                # Initialize similarity value\n",
    "                simm = 0\n",
    "                \n",
    "                idx1 = id_idx_dict[enrolled_course]\n",
    "                idx2 = id_idx_dict[unselect_course]\n",
    "                \n",
    "                # Find the similarity value from the sim_matrix\n",
    "                simm = sim_matrix[idx1][idx2]\n",
    "                 # Check if the similarity exceeds the threshold\n",
    "                if simm > threshold:\n",
    "                    # Update recommendation dictionary with course ID and similarity score\n",
    "                    if unselect_course not in res:\n",
    "                        # If the unselected course is not already in the recommendation dictionary (`res`), add it.\n",
    "                        res[unselect_course] = simm\n",
    "                    else:\n",
    "                        # If the unselected course is already in the recommendation dictionary (`res`), compare the similarity score.\n",
    "                        # If the current similarity score is greater than or equal to the existing similarity score for the course,\n",
    "                        # update the similarity score in the recommendation dictionary (`res`) with the current similarity score.\n",
    "                        if simm >= res[unselect_course]:\n",
    "                            res[unselect_course] = simm\n",
    "                            \n",
    "    # Sort the results by similarity\n",
    "    res = {k: v for k, v in sorted(res.items(), key=lambda item: item[1], reverse=True)}\n",
    "     # Return the recommendation dictionary\n",
    "    return res"
   ]
  },
  {
   "cell_type": "code",
   "execution_count": 40,
   "metadata": {},
   "outputs": [
    {
     "data": {
      "text/plain": [
       "{'ML0101ENv3': 0.6626221399549089, 'ML0109EN': 0.5715005715008572}"
      ]
     },
     "execution_count": 40,
     "metadata": {},
     "output_type": "execute_result"
    }
   ],
   "source": [
    "rev = generate_recommendations_for_one_user(enrolled_course_ids, unselected_course_ids, id_idx_dict, sim_matrix)\n",
    "rev "
   ]
  },
  {
   "cell_type": "markdown",
   "metadata": {},
   "source": [
    "Based on the selectec course `ML0151EN`, it recommended the courses `ML0101ENv3` and `ML0109EN` based on their similarity score."
   ]
  },
  {
   "cell_type": "markdown",
   "metadata": {},
   "source": [
    "----"
   ]
  },
  {
   "cell_type": "markdown",
   "metadata": {},
   "source": [
    "# **Part 4. Content-based Course Recommender System using Course Similarity Matrix For All Test Users**"
   ]
  },
  {
   "cell_type": "markdown",
   "metadata": {},
   "source": [
    "Next, let's sample a test dataset, containing 1000 test users to whom we want to make course recommendations."
   ]
  },
  {
   "cell_type": "code",
   "execution_count": 41,
   "metadata": {},
   "outputs": [
    {
     "data": {
      "text/html": [
       "<div>\n",
       "<style scoped>\n",
       "    .dataframe tbody tr th:only-of-type {\n",
       "        vertical-align: middle;\n",
       "    }\n",
       "\n",
       "    .dataframe tbody tr th {\n",
       "        vertical-align: top;\n",
       "    }\n",
       "\n",
       "    .dataframe thead th {\n",
       "        text-align: right;\n",
       "    }\n",
       "</style>\n",
       "<table border=\"1\" class=\"dataframe\">\n",
       "  <thead>\n",
       "    <tr style=\"text-align: right;\">\n",
       "      <th></th>\n",
       "      <th>user</th>\n",
       "      <th>item</th>\n",
       "      <th>rating</th>\n",
       "    </tr>\n",
       "  </thead>\n",
       "  <tbody>\n",
       "    <tr>\n",
       "      <th>15</th>\n",
       "      <td>1474302</td>\n",
       "      <td>DS0103EN</td>\n",
       "      <td>4</td>\n",
       "    </tr>\n",
       "    <tr>\n",
       "      <th>51</th>\n",
       "      <td>687207</td>\n",
       "      <td>ST0101EN</td>\n",
       "      <td>4</td>\n",
       "    </tr>\n",
       "    <tr>\n",
       "      <th>137</th>\n",
       "      <td>1897257</td>\n",
       "      <td>CNSC02EN</td>\n",
       "      <td>4</td>\n",
       "    </tr>\n",
       "    <tr>\n",
       "      <th>155</th>\n",
       "      <td>1805227</td>\n",
       "      <td>DV0101EN</td>\n",
       "      <td>5</td>\n",
       "    </tr>\n",
       "    <tr>\n",
       "      <th>188</th>\n",
       "      <td>759038</td>\n",
       "      <td>BD0111EN</td>\n",
       "      <td>5</td>\n",
       "    </tr>\n",
       "    <tr>\n",
       "      <th>...</th>\n",
       "      <td>...</td>\n",
       "      <td>...</td>\n",
       "      <td>...</td>\n",
       "    </tr>\n",
       "    <tr>\n",
       "      <th>233238</th>\n",
       "      <td>1192416</td>\n",
       "      <td>BD0111EN</td>\n",
       "      <td>5</td>\n",
       "    </tr>\n",
       "    <tr>\n",
       "      <th>233258</th>\n",
       "      <td>1801743</td>\n",
       "      <td>ML0115EN</td>\n",
       "      <td>3</td>\n",
       "    </tr>\n",
       "    <tr>\n",
       "      <th>233267</th>\n",
       "      <td>1894663</td>\n",
       "      <td>DS0101EN</td>\n",
       "      <td>4</td>\n",
       "    </tr>\n",
       "    <tr>\n",
       "      <th>233298</th>\n",
       "      <td>2049069</td>\n",
       "      <td>DS0105EN</td>\n",
       "      <td>3</td>\n",
       "    </tr>\n",
       "    <tr>\n",
       "      <th>233305</th>\n",
       "      <td>1596120</td>\n",
       "      <td>DS0301EN</td>\n",
       "      <td>4</td>\n",
       "    </tr>\n",
       "  </tbody>\n",
       "</table>\n",
       "<p>6645 rows × 3 columns</p>\n",
       "</div>"
      ],
      "text/plain": [
       "           user      item  rating\n",
       "15      1474302  DS0103EN       4\n",
       "51       687207  ST0101EN       4\n",
       "137     1897257  CNSC02EN       4\n",
       "155     1805227  DV0101EN       5\n",
       "188      759038  BD0111EN       5\n",
       "...         ...       ...     ...\n",
       "233238  1192416  BD0111EN       5\n",
       "233258  1801743  ML0115EN       3\n",
       "233267  1894663  DS0101EN       4\n",
       "233298  2049069  DS0105EN       3\n",
       "233305  1596120  DS0301EN       4\n",
       "\n",
       "[6645 rows x 3 columns]"
      ]
     },
     "execution_count": 41,
     "metadata": {},
     "output_type": "execute_result"
    }
   ],
   "source": [
    "# load the ratings_df to extract the users\n",
    "ratings_df = pd.read_csv('ratings.csv')\n",
    "\n",
    "np.random.seed(rs)\n",
    "test_usesrs = np.random.choice(ratings_df['user'].unique(), size=1000, replace=False) # take 1000 random users from ratings_df['user']\n",
    "\n",
    "test_users_df = ratings_df[ratings_df['user'].isin(test_usesrs)]\n",
    "test_users_df"
   ]
  },
  {
   "cell_type": "markdown",
   "metadata": {},
   "source": [
    "We can finaly use the `generate_recommendations_for_all()` method to generate recommendations for all users."
   ]
  },
  {
   "cell_type": "code",
   "execution_count": 42,
   "metadata": {},
   "outputs": [],
   "source": [
    "def generate_recommendations_for_all():\n",
    "    users = []\n",
    "    courses = []\n",
    "    sim_scores = []\n",
    "    enrolled = []\n",
    "    rec_num = [] # num of recommendations\n",
    "    \n",
    "    test_users = test_users_df.groupby(['user']).max().reset_index(drop=False)\n",
    "    test_user_ids = test_users['user'].to_list()\n",
    "    \n",
    "    for user_id in test_user_ids:\n",
    "        enrolled_course_ids = test_users[test_users['user'] == user_id]['item']\n",
    "        unselected_course_ids = all_courses.difference(enrolled_course_ids)\n",
    "        users.append(user_id)\n",
    "        enrolled.append(list(enrolled_course_ids))\n",
    "        rev = generate_recommendations_for_one_user(enrolled_course_ids, unselected_course_ids, id_idx_dict, sim_matrix)\n",
    "        courses.append( list(rev.keys()) )\n",
    "        sim_scores.append( list(rev.values()) )\n",
    "        rec_num.append( len(list(rev.values())) )\n",
    "        pass\n",
    "    \n",
    "    return users, enrolled, courses, sim_scores, rec_num"
   ]
  },
  {
   "cell_type": "code",
   "execution_count": 43,
   "metadata": {},
   "outputs": [],
   "source": [
    "pd.set_option('max_colwidth', None)"
   ]
  },
  {
   "cell_type": "code",
   "execution_count": 44,
   "metadata": {},
   "outputs": [
    {
     "data": {
      "text/html": [
       "<div>\n",
       "<style scoped>\n",
       "    .dataframe tbody tr th:only-of-type {\n",
       "        vertical-align: middle;\n",
       "    }\n",
       "\n",
       "    .dataframe tbody tr th {\n",
       "        vertical-align: top;\n",
       "    }\n",
       "\n",
       "    .dataframe thead th {\n",
       "        text-align: right;\n",
       "    }\n",
       "</style>\n",
       "<table border=\"1\" class=\"dataframe\">\n",
       "  <thead>\n",
       "    <tr style=\"text-align: right;\">\n",
       "      <th></th>\n",
       "      <th>USER</th>\n",
       "      <th>ENROLLED</th>\n",
       "      <th>RECOMMENDATIONS</th>\n",
       "      <th>COUNT</th>\n",
       "      <th>SCORE</th>\n",
       "    </tr>\n",
       "  </thead>\n",
       "  <tbody>\n",
       "    <tr>\n",
       "      <th>677</th>\n",
       "      <td>1281097</td>\n",
       "      <td>[DS0110EN]</td>\n",
       "      <td>[TMP0106, DS0201EN, TMP107, DS0107, DX0106EN, ML0122ENv1, ML0120EN]</td>\n",
       "      <td>7</td>\n",
       "      <td>[0.6666666666666667, 0.6454972243679028, 0.6123724356957946, 0.6123724356957946, 0.6064784348631227, 0.5252257314388903, 0.5222329678670935]</td>\n",
       "    </tr>\n",
       "    <tr>\n",
       "      <th>451</th>\n",
       "      <td>971918</td>\n",
       "      <td>[DS0110EN]</td>\n",
       "      <td>[TMP0106, DS0201EN, TMP107, DS0107, DX0106EN, ML0122ENv1, ML0120EN]</td>\n",
       "      <td>7</td>\n",
       "      <td>[0.6666666666666667, 0.6454972243679028, 0.6123724356957946, 0.6123724356957946, 0.6064784348631227, 0.5252257314388903, 0.5222329678670935]</td>\n",
       "    </tr>\n",
       "    <tr>\n",
       "      <th>548</th>\n",
       "      <td>1074551</td>\n",
       "      <td>[DS0110EN]</td>\n",
       "      <td>[TMP0106, DS0201EN, TMP107, DS0107, DX0106EN, ML0122ENv1, ML0120EN]</td>\n",
       "      <td>7</td>\n",
       "      <td>[0.6666666666666667, 0.6454972243679028, 0.6123724356957946, 0.6123724356957946, 0.6064784348631227, 0.5252257314388903, 0.5222329678670935]</td>\n",
       "    </tr>\n",
       "    <tr>\n",
       "      <th>414</th>\n",
       "      <td>927448</td>\n",
       "      <td>[DS0101EN]</td>\n",
       "      <td>[DS0110EN, TMP0106, DS0201EN, TMP107, DS0107, DX0106EN]</td>\n",
       "      <td>6</td>\n",
       "      <td>[0.7329409123199365, 0.5979254811031062, 0.567733589433837, 0.5669467095138409, 0.5669467095138409, 0.5439433649162873]</td>\n",
       "    </tr>\n",
       "    <tr>\n",
       "      <th>138</th>\n",
       "      <td>509574</td>\n",
       "      <td>[DS0101EN]</td>\n",
       "      <td>[DS0110EN, TMP0106, DS0201EN, TMP107, DS0107, DX0106EN]</td>\n",
       "      <td>6</td>\n",
       "      <td>[0.7329409123199365, 0.5979254811031062, 0.567733589433837, 0.5669467095138409, 0.5669467095138409, 0.5439433649162873]</td>\n",
       "    </tr>\n",
       "    <tr>\n",
       "      <th>137</th>\n",
       "      <td>508361</td>\n",
       "      <td>[DS0101EN]</td>\n",
       "      <td>[DS0110EN, TMP0106, DS0201EN, TMP107, DS0107, DX0106EN]</td>\n",
       "      <td>6</td>\n",
       "      <td>[0.7329409123199365, 0.5979254811031062, 0.567733589433837, 0.5669467095138409, 0.5669467095138409, 0.5439433649162873]</td>\n",
       "    </tr>\n",
       "    <tr>\n",
       "      <th>136</th>\n",
       "      <td>506207</td>\n",
       "      <td>[DS0101EN]</td>\n",
       "      <td>[DS0110EN, TMP0106, DS0201EN, TMP107, DS0107, DX0106EN]</td>\n",
       "      <td>6</td>\n",
       "      <td>[0.7329409123199365, 0.5979254811031062, 0.567733589433837, 0.5669467095138409, 0.5669467095138409, 0.5439433649162873]</td>\n",
       "    </tr>\n",
       "    <tr>\n",
       "      <th>123</th>\n",
       "      <td>466781</td>\n",
       "      <td>[DS0101EN]</td>\n",
       "      <td>[DS0110EN, TMP0106, DS0201EN, TMP107, DS0107, DX0106EN]</td>\n",
       "      <td>6</td>\n",
       "      <td>[0.7329409123199365, 0.5979254811031062, 0.567733589433837, 0.5669467095138409, 0.5669467095138409, 0.5439433649162873]</td>\n",
       "    </tr>\n",
       "    <tr>\n",
       "      <th>810</th>\n",
       "      <td>1546898</td>\n",
       "      <td>[DS0101EN]</td>\n",
       "      <td>[DS0110EN, TMP0106, DS0201EN, TMP107, DS0107, DX0106EN]</td>\n",
       "      <td>6</td>\n",
       "      <td>[0.7329409123199365, 0.5979254811031062, 0.567733589433837, 0.5669467095138409, 0.5669467095138409, 0.5439433649162873]</td>\n",
       "    </tr>\n",
       "    <tr>\n",
       "      <th>821</th>\n",
       "      <td>1566718</td>\n",
       "      <td>[DS0101EN]</td>\n",
       "      <td>[DS0110EN, TMP0106, DS0201EN, TMP107, DS0107, DX0106EN]</td>\n",
       "      <td>6</td>\n",
       "      <td>[0.7329409123199365, 0.5979254811031062, 0.567733589433837, 0.5669467095138409, 0.5669467095138409, 0.5439433649162873]</td>\n",
       "    </tr>\n",
       "  </tbody>\n",
       "</table>\n",
       "</div>"
      ],
      "text/plain": [
       "        USER    ENROLLED  \\\n",
       "677  1281097  [DS0110EN]   \n",
       "451   971918  [DS0110EN]   \n",
       "548  1074551  [DS0110EN]   \n",
       "414   927448  [DS0101EN]   \n",
       "138   509574  [DS0101EN]   \n",
       "137   508361  [DS0101EN]   \n",
       "136   506207  [DS0101EN]   \n",
       "123   466781  [DS0101EN]   \n",
       "810  1546898  [DS0101EN]   \n",
       "821  1566718  [DS0101EN]   \n",
       "\n",
       "                                                         RECOMMENDATIONS  \\\n",
       "677  [TMP0106, DS0201EN, TMP107, DS0107, DX0106EN, ML0122ENv1, ML0120EN]   \n",
       "451  [TMP0106, DS0201EN, TMP107, DS0107, DX0106EN, ML0122ENv1, ML0120EN]   \n",
       "548  [TMP0106, DS0201EN, TMP107, DS0107, DX0106EN, ML0122ENv1, ML0120EN]   \n",
       "414              [DS0110EN, TMP0106, DS0201EN, TMP107, DS0107, DX0106EN]   \n",
       "138              [DS0110EN, TMP0106, DS0201EN, TMP107, DS0107, DX0106EN]   \n",
       "137              [DS0110EN, TMP0106, DS0201EN, TMP107, DS0107, DX0106EN]   \n",
       "136              [DS0110EN, TMP0106, DS0201EN, TMP107, DS0107, DX0106EN]   \n",
       "123              [DS0110EN, TMP0106, DS0201EN, TMP107, DS0107, DX0106EN]   \n",
       "810              [DS0110EN, TMP0106, DS0201EN, TMP107, DS0107, DX0106EN]   \n",
       "821              [DS0110EN, TMP0106, DS0201EN, TMP107, DS0107, DX0106EN]   \n",
       "\n",
       "     COUNT  \\\n",
       "677      7   \n",
       "451      7   \n",
       "548      7   \n",
       "414      6   \n",
       "138      6   \n",
       "137      6   \n",
       "136      6   \n",
       "123      6   \n",
       "810      6   \n",
       "821      6   \n",
       "\n",
       "                                                                                                                                            SCORE  \n",
       "677  [0.6666666666666667, 0.6454972243679028, 0.6123724356957946, 0.6123724356957946, 0.6064784348631227, 0.5252257314388903, 0.5222329678670935]  \n",
       "451  [0.6666666666666667, 0.6454972243679028, 0.6123724356957946, 0.6123724356957946, 0.6064784348631227, 0.5252257314388903, 0.5222329678670935]  \n",
       "548  [0.6666666666666667, 0.6454972243679028, 0.6123724356957946, 0.6123724356957946, 0.6064784348631227, 0.5252257314388903, 0.5222329678670935]  \n",
       "414                       [0.7329409123199365, 0.5979254811031062, 0.567733589433837, 0.5669467095138409, 0.5669467095138409, 0.5439433649162873]  \n",
       "138                       [0.7329409123199365, 0.5979254811031062, 0.567733589433837, 0.5669467095138409, 0.5669467095138409, 0.5439433649162873]  \n",
       "137                       [0.7329409123199365, 0.5979254811031062, 0.567733589433837, 0.5669467095138409, 0.5669467095138409, 0.5439433649162873]  \n",
       "136                       [0.7329409123199365, 0.5979254811031062, 0.567733589433837, 0.5669467095138409, 0.5669467095138409, 0.5439433649162873]  \n",
       "123                       [0.7329409123199365, 0.5979254811031062, 0.567733589433837, 0.5669467095138409, 0.5669467095138409, 0.5439433649162873]  \n",
       "810                       [0.7329409123199365, 0.5979254811031062, 0.567733589433837, 0.5669467095138409, 0.5669467095138409, 0.5439433649162873]  \n",
       "821                       [0.7329409123199365, 0.5979254811031062, 0.567733589433837, 0.5669467095138409, 0.5669467095138409, 0.5439433649162873]  "
      ]
     },
     "execution_count": 44,
     "metadata": {},
     "output_type": "execute_result"
    }
   ],
   "source": [
    "res_dict = {}\n",
    "users, enrolled, courses, sim_scores, rec_num = generate_recommendations_for_all()\n",
    "res_dict['USER'] = users\n",
    "res_dict['ENROLLED'] = enrolled\n",
    "res_dict['RECOMMENDATIONS'] = courses\n",
    "res_dict['COUNT'] = rec_num\n",
    "res_dict['SCORE'] = sim_scores\n",
    "res_df = pd.DataFrame(res_dict, columns=['USER', 'ENROLLED', 'RECOMMENDATIONS', 'COUNT', 'SCORE']).sort_values(by='COUNT',ascending=False)\n",
    "res_df.head(10)"
   ]
  },
  {
   "cell_type": "markdown",
   "metadata": {},
   "source": [
    "With the recommendations generated for each user, you need to write some extra analytic code to answer the following questions:\n",
    "\n",
    "- On average, how many new/unseen courses have been recommended to each user?\n",
    "- What are the most frequently recommended courses? Return the top-10 commonly recommended courses across all users?"
   ]
  },
  {
   "cell_type": "code",
   "execution_count": 45,
   "metadata": {},
   "outputs": [
    {
     "data": {
      "text/html": [
       "<div>\n",
       "<style scoped>\n",
       "    .dataframe tbody tr th:only-of-type {\n",
       "        vertical-align: middle;\n",
       "    }\n",
       "\n",
       "    .dataframe tbody tr th {\n",
       "        vertical-align: top;\n",
       "    }\n",
       "\n",
       "    .dataframe thead th {\n",
       "        text-align: right;\n",
       "    }\n",
       "</style>\n",
       "<table border=\"1\" class=\"dataframe\">\n",
       "  <thead>\n",
       "    <tr style=\"text-align: right;\">\n",
       "      <th></th>\n",
       "      <th>USER</th>\n",
       "      <th>COUNT</th>\n",
       "    </tr>\n",
       "  </thead>\n",
       "  <tbody>\n",
       "    <tr>\n",
       "      <th>count</th>\n",
       "      <td>1.000000e+03</td>\n",
       "      <td>1000.000000</td>\n",
       "    </tr>\n",
       "    <tr>\n",
       "      <th>mean</th>\n",
       "      <td>1.049213e+06</td>\n",
       "      <td>1.029000</td>\n",
       "    </tr>\n",
       "    <tr>\n",
       "      <th>std</th>\n",
       "      <td>4.964586e+05</td>\n",
       "      <td>1.453365</td>\n",
       "    </tr>\n",
       "    <tr>\n",
       "      <th>min</th>\n",
       "      <td>9.000000e+00</td>\n",
       "      <td>0.000000</td>\n",
       "    </tr>\n",
       "    <tr>\n",
       "      <th>25%</th>\n",
       "      <td>6.699710e+05</td>\n",
       "      <td>0.000000</td>\n",
       "    </tr>\n",
       "    <tr>\n",
       "      <th>50%</th>\n",
       "      <td>1.023115e+06</td>\n",
       "      <td>1.000000</td>\n",
       "    </tr>\n",
       "    <tr>\n",
       "      <th>75%</th>\n",
       "      <td>1.438584e+06</td>\n",
       "      <td>1.000000</td>\n",
       "    </tr>\n",
       "    <tr>\n",
       "      <th>max</th>\n",
       "      <td>2.102680e+06</td>\n",
       "      <td>7.000000</td>\n",
       "    </tr>\n",
       "  </tbody>\n",
       "</table>\n",
       "</div>"
      ],
      "text/plain": [
       "               USER        COUNT\n",
       "count  1.000000e+03  1000.000000\n",
       "mean   1.049213e+06     1.029000\n",
       "std    4.964586e+05     1.453365\n",
       "min    9.000000e+00     0.000000\n",
       "25%    6.699710e+05     0.000000\n",
       "50%    1.023115e+06     1.000000\n",
       "75%    1.438584e+06     1.000000\n",
       "max    2.102680e+06     7.000000"
      ]
     },
     "execution_count": 45,
     "metadata": {},
     "output_type": "execute_result"
    }
   ],
   "source": [
    "res_df.describe()"
   ]
  },
  {
   "cell_type": "markdown",
   "metadata": {},
   "source": [
    "Based on a similarity threshold of 0.5, on average one course per user has been recommended."
   ]
  },
  {
   "cell_type": "code",
   "execution_count": 46,
   "metadata": {},
   "outputs": [
    {
     "data": {
      "text/html": [
       "<div>\n",
       "<style scoped>\n",
       "    .dataframe tbody tr th:only-of-type {\n",
       "        vertical-align: middle;\n",
       "    }\n",
       "\n",
       "    .dataframe tbody tr th {\n",
       "        vertical-align: top;\n",
       "    }\n",
       "\n",
       "    .dataframe thead th {\n",
       "        text-align: right;\n",
       "    }\n",
       "</style>\n",
       "<table border=\"1\" class=\"dataframe\">\n",
       "  <thead>\n",
       "    <tr style=\"text-align: right;\">\n",
       "      <th></th>\n",
       "      <th>COURSE_ID</th>\n",
       "      <th>Count</th>\n",
       "    </tr>\n",
       "  </thead>\n",
       "  <tbody>\n",
       "    <tr>\n",
       "      <th>0</th>\n",
       "      <td>TMP107</td>\n",
       "      <td>245</td>\n",
       "    </tr>\n",
       "    <tr>\n",
       "      <th>1</th>\n",
       "      <td>DS0110EN</td>\n",
       "      <td>143</td>\n",
       "    </tr>\n",
       "    <tr>\n",
       "      <th>2</th>\n",
       "      <td>DA0151EN</td>\n",
       "      <td>65</td>\n",
       "    </tr>\n",
       "    <tr>\n",
       "      <th>3</th>\n",
       "      <td>DX0106EN</td>\n",
       "      <td>61</td>\n",
       "    </tr>\n",
       "    <tr>\n",
       "      <th>4</th>\n",
       "      <td>DS0201EN</td>\n",
       "      <td>61</td>\n",
       "    </tr>\n",
       "    <tr>\n",
       "      <th>5</th>\n",
       "      <td>TMP0106</td>\n",
       "      <td>58</td>\n",
       "    </tr>\n",
       "    <tr>\n",
       "      <th>6</th>\n",
       "      <td>DS0107</td>\n",
       "      <td>58</td>\n",
       "    </tr>\n",
       "    <tr>\n",
       "      <th>7</th>\n",
       "      <td>WA0103EN</td>\n",
       "      <td>58</td>\n",
       "    </tr>\n",
       "    <tr>\n",
       "      <th>8</th>\n",
       "      <td>CB0101EN</td>\n",
       "      <td>36</td>\n",
       "    </tr>\n",
       "    <tr>\n",
       "      <th>9</th>\n",
       "      <td>TMP0101EN</td>\n",
       "      <td>29</td>\n",
       "    </tr>\n",
       "  </tbody>\n",
       "</table>\n",
       "</div>"
      ],
      "text/plain": [
       "   COURSE_ID  Count\n",
       "0     TMP107    245\n",
       "1   DS0110EN    143\n",
       "2   DA0151EN     65\n",
       "3   DX0106EN     61\n",
       "4   DS0201EN     61\n",
       "5    TMP0106     58\n",
       "6     DS0107     58\n",
       "7   WA0103EN     58\n",
       "8   CB0101EN     36\n",
       "9  TMP0101EN     29"
      ]
     },
     "execution_count": 46,
     "metadata": {},
     "output_type": "execute_result"
    }
   ],
   "source": [
    "# To collect the most recommended courses, we collect them in a list and count the 10 most recoommended courses\n",
    "\n",
    "courses_1 = res_df['RECOMMENDATIONS'].values\n",
    "\n",
    "courses_flat = []\n",
    "for x in courses_1:\n",
    "    for y in x:\n",
    "        courses_flat.append(y)\n",
    "\n",
    "df_2 = pd.DataFrame(pd.Series(courses_flat).value_counts()[:10], columns=['Count'])\n",
    "df_2 = df_2.reset_index().rename_axis(index=None, columns=None).rename(columns={\"index\": \"COURSE_ID\"})\n",
    "df_2 "
   ]
  },
  {
   "cell_type": "markdown",
   "metadata": {},
   "source": [
    "To find the names of those courses, we need the `course_content_df` dataset to extract the names from the `COURSE_ID`."
   ]
  },
  {
   "cell_type": "code",
   "execution_count": 47,
   "metadata": {},
   "outputs": [
    {
     "data": {
      "text/html": [
       "<div>\n",
       "<style scoped>\n",
       "    .dataframe tbody tr th:only-of-type {\n",
       "        vertical-align: middle;\n",
       "    }\n",
       "\n",
       "    .dataframe tbody tr th {\n",
       "        vertical-align: top;\n",
       "    }\n",
       "\n",
       "    .dataframe thead th {\n",
       "        text-align: right;\n",
       "    }\n",
       "</style>\n",
       "<table border=\"1\" class=\"dataframe\">\n",
       "  <thead>\n",
       "    <tr style=\"text-align: right;\">\n",
       "      <th></th>\n",
       "      <th>COURSE_ID</th>\n",
       "      <th>Count</th>\n",
       "      <th>TITLE</th>\n",
       "    </tr>\n",
       "  </thead>\n",
       "  <tbody>\n",
       "    <tr>\n",
       "      <th>0</th>\n",
       "      <td>TMP107</td>\n",
       "      <td>245</td>\n",
       "      <td>data science bootcamp with python</td>\n",
       "    </tr>\n",
       "    <tr>\n",
       "      <th>1</th>\n",
       "      <td>DS0110EN</td>\n",
       "      <td>143</td>\n",
       "      <td>data science with open data</td>\n",
       "    </tr>\n",
       "    <tr>\n",
       "      <th>2</th>\n",
       "      <td>DA0151EN</td>\n",
       "      <td>65</td>\n",
       "      <td>data analysis using r 101</td>\n",
       "    </tr>\n",
       "    <tr>\n",
       "      <th>3</th>\n",
       "      <td>DX0106EN</td>\n",
       "      <td>61</td>\n",
       "      <td>data science bootcamp with r for university proffesors</td>\n",
       "    </tr>\n",
       "    <tr>\n",
       "      <th>4</th>\n",
       "      <td>DS0201EN</td>\n",
       "      <td>61</td>\n",
       "      <td>end to end data science on cloudpak for data</td>\n",
       "    </tr>\n",
       "    <tr>\n",
       "      <th>5</th>\n",
       "      <td>TMP0106</td>\n",
       "      <td>58</td>\n",
       "      <td>data science bootcamp</td>\n",
       "    </tr>\n",
       "    <tr>\n",
       "      <th>6</th>\n",
       "      <td>DS0107</td>\n",
       "      <td>58</td>\n",
       "      <td>data science career talks</td>\n",
       "    </tr>\n",
       "    <tr>\n",
       "      <th>7</th>\n",
       "      <td>WA0103EN</td>\n",
       "      <td>58</td>\n",
       "      <td>watson analytics for social media</td>\n",
       "    </tr>\n",
       "    <tr>\n",
       "      <th>8</th>\n",
       "      <td>CB0101EN</td>\n",
       "      <td>36</td>\n",
       "      <td>build your own chatbots</td>\n",
       "    </tr>\n",
       "    <tr>\n",
       "      <th>9</th>\n",
       "      <td>TMP0101EN</td>\n",
       "      <td>29</td>\n",
       "      <td>text analysis</td>\n",
       "    </tr>\n",
       "  </tbody>\n",
       "</table>\n",
       "</div>"
      ],
      "text/plain": [
       "   COURSE_ID  Count                                                   TITLE\n",
       "0     TMP107    245                       data science bootcamp with python\n",
       "1   DS0110EN    143                             data science with open data\n",
       "2   DA0151EN     65                               data analysis using r 101\n",
       "3   DX0106EN     61  data science bootcamp with r for university proffesors\n",
       "4   DS0201EN     61            end to end data science on cloudpak for data\n",
       "5    TMP0106     58                                   data science bootcamp\n",
       "6     DS0107     58                               data science career talks\n",
       "7   WA0103EN     58                       watson analytics for social media\n",
       "8   CB0101EN     36                                 build your own chatbots\n",
       "9  TMP0101EN     29                                           text analysis"
      ]
     },
     "execution_count": 47,
     "metadata": {},
     "output_type": "execute_result"
    }
   ],
   "source": [
    "mask = course_content_df['COURSE_ID'].isin(pd.Series(courses_flat).value_counts()[:10].axes[0].values)\n",
    "df_3 = course_content_df[mask][['COURSE_ID','TITLE']].reset_index(drop=True)\n",
    "\n",
    "pd.merge(df_2,df_3, left_on='COURSE_ID', right_on='COURSE_ID')"
   ]
  },
  {
   "cell_type": "markdown",
   "metadata": {},
   "source": [
    "And that is the list of the 10-most recommended courses."
   ]
  },
  {
   "cell_type": "markdown",
   "metadata": {},
   "source": [
    "----"
   ]
  },
  {
   "cell_type": "markdown",
   "metadata": {},
   "source": [
    "In the next notebook we are going to: (a) feature engineer a user profile based on course genres and rating, and (b) generate course recommendations based on a user's profile and course genres."
   ]
  }
 ],
 "metadata": {
  "kernelspec": {
   "display_name": "Python 3 (ipykernel)",
   "language": "python",
   "name": "python3"
  },
  "language_info": {
   "codemirror_mode": {
    "name": "ipython",
    "version": 3
   },
   "file_extension": ".py",
   "mimetype": "text/x-python",
   "name": "python",
   "nbconvert_exporter": "python",
   "pygments_lexer": "ipython3",
   "version": "3.11.8"
  },
  "prev_pub_hash": "8d069c20f6b67c72893be20759006a23e5dfcb0c7f9686cfba351e882ac276d0"
 },
 "nbformat": 4,
 "nbformat_minor": 4
}
