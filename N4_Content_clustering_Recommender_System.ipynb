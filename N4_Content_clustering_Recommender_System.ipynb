{
  "cells": [
    {
      "cell_type": "markdown",
      "metadata": {
        "id": "M22ZpJUJILFL"
      },
      "source": [
        "# **Clustering based Course Recommender System**\n"
      ]
    },
    {
      "cell_type": "markdown",
      "metadata": {},
      "source": [
        "## Objectives\n",
        "\n",
        "\n",
        "* Part 1. Perform k-means clustering on the original user profile feature vectors\n",
        "* Part 2. Apply PCA (Principle Component Analysis ) on user profile feature vectors to reduce dimensions\n",
        "* Part 3. Perform k-means clustering on the PCA transformed main components\n",
        "* Part 4. Generate course recommendations based on other group members' enrollment history"
      ]
    },
    {
      "cell_type": "markdown",
      "metadata": {},
      "source": [
        "----"
      ]
    },
    {
      "cell_type": "markdown",
      "metadata": {
        "id": "QiS2eEdtILFM"
      },
      "source": [
        "Previously on `P3_Content_User_Profile_Recommender` notebook, on part 1 we have generated user profile vectors `profile_df` based on course ratings and genres.\n",
        "The first 5 rows of the dataframe is shown below.\n"
      ]
    },
    {
      "cell_type": "code",
      "execution_count": 1,
      "metadata": {},
      "outputs": [
        {
          "data": {
            "text/html": [
              "<div>\n",
              "<style scoped>\n",
              "    .dataframe tbody tr th:only-of-type {\n",
              "        vertical-align: middle;\n",
              "    }\n",
              "\n",
              "    .dataframe tbody tr th {\n",
              "        vertical-align: top;\n",
              "    }\n",
              "\n",
              "    .dataframe thead th {\n",
              "        text-align: right;\n",
              "    }\n",
              "</style>\n",
              "<table border=\"1\" class=\"dataframe\">\n",
              "  <thead>\n",
              "    <tr style=\"text-align: right;\">\n",
              "      <th></th>\n",
              "      <th>user</th>\n",
              "      <th>Database</th>\n",
              "      <th>Python</th>\n",
              "      <th>CloudComputing</th>\n",
              "      <th>DataAnalysis</th>\n",
              "      <th>Containers</th>\n",
              "      <th>MachineLearning</th>\n",
              "      <th>ComputerVision</th>\n",
              "      <th>DataScience</th>\n",
              "      <th>BigData</th>\n",
              "      <th>Chatbot</th>\n",
              "      <th>R</th>\n",
              "      <th>BackendDev</th>\n",
              "      <th>FrontendDev</th>\n",
              "      <th>Blockchain</th>\n",
              "    </tr>\n",
              "  </thead>\n",
              "  <tbody>\n",
              "    <tr>\n",
              "      <th>0</th>\n",
              "      <td>2</td>\n",
              "      <td>83.0</td>\n",
              "      <td>21.0</td>\n",
              "      <td>8.0</td>\n",
              "      <td>68.0</td>\n",
              "      <td>4.0</td>\n",
              "      <td>49.0</td>\n",
              "      <td>0.0</td>\n",
              "      <td>47.0</td>\n",
              "      <td>66.0</td>\n",
              "      <td>3.0</td>\n",
              "      <td>27.0</td>\n",
              "      <td>41.0</td>\n",
              "      <td>9.0</td>\n",
              "      <td>8.0</td>\n",
              "    </tr>\n",
              "    <tr>\n",
              "      <th>1</th>\n",
              "      <td>4</td>\n",
              "      <td>78.0</td>\n",
              "      <td>5.0</td>\n",
              "      <td>6.0</td>\n",
              "      <td>48.0</td>\n",
              "      <td>0.0</td>\n",
              "      <td>30.0</td>\n",
              "      <td>0.0</td>\n",
              "      <td>45.0</td>\n",
              "      <td>46.0</td>\n",
              "      <td>0.0</td>\n",
              "      <td>12.0</td>\n",
              "      <td>9.0</td>\n",
              "      <td>0.0</td>\n",
              "      <td>4.0</td>\n",
              "    </tr>\n",
              "    <tr>\n",
              "      <th>2</th>\n",
              "      <td>5</td>\n",
              "      <td>47.0</td>\n",
              "      <td>18.0</td>\n",
              "      <td>36.0</td>\n",
              "      <td>46.0</td>\n",
              "      <td>0.0</td>\n",
              "      <td>59.0</td>\n",
              "      <td>0.0</td>\n",
              "      <td>47.0</td>\n",
              "      <td>29.0</td>\n",
              "      <td>4.0</td>\n",
              "      <td>27.0</td>\n",
              "      <td>49.0</td>\n",
              "      <td>7.0</td>\n",
              "      <td>13.0</td>\n",
              "    </tr>\n",
              "    <tr>\n",
              "      <th>3</th>\n",
              "      <td>7</td>\n",
              "      <td>4.0</td>\n",
              "      <td>0.0</td>\n",
              "      <td>0.0</td>\n",
              "      <td>4.0</td>\n",
              "      <td>0.0</td>\n",
              "      <td>0.0</td>\n",
              "      <td>0.0</td>\n",
              "      <td>0.0</td>\n",
              "      <td>4.0</td>\n",
              "      <td>0.0</td>\n",
              "      <td>0.0</td>\n",
              "      <td>0.0</td>\n",
              "      <td>0.0</td>\n",
              "      <td>0.0</td>\n",
              "    </tr>\n",
              "    <tr>\n",
              "      <th>4</th>\n",
              "      <td>8</td>\n",
              "      <td>13.0</td>\n",
              "      <td>0.0</td>\n",
              "      <td>0.0</td>\n",
              "      <td>10.0</td>\n",
              "      <td>0.0</td>\n",
              "      <td>0.0</td>\n",
              "      <td>0.0</td>\n",
              "      <td>0.0</td>\n",
              "      <td>13.0</td>\n",
              "      <td>0.0</td>\n",
              "      <td>5.0</td>\n",
              "      <td>0.0</td>\n",
              "      <td>0.0</td>\n",
              "      <td>0.0</td>\n",
              "    </tr>\n",
              "  </tbody>\n",
              "</table>\n",
              "</div>"
            ],
            "text/plain": [
              "   user  Database  Python  CloudComputing  DataAnalysis  Containers  \\\n",
              "0     2      83.0    21.0             8.0          68.0         4.0   \n",
              "1     4      78.0     5.0             6.0          48.0         0.0   \n",
              "2     5      47.0    18.0            36.0          46.0         0.0   \n",
              "3     7       4.0     0.0             0.0           4.0         0.0   \n",
              "4     8      13.0     0.0             0.0          10.0         0.0   \n",
              "\n",
              "   MachineLearning  ComputerVision  DataScience  BigData  Chatbot     R  \\\n",
              "0             49.0             0.0         47.0     66.0      3.0  27.0   \n",
              "1             30.0             0.0         45.0     46.0      0.0  12.0   \n",
              "2             59.0             0.0         47.0     29.0      4.0  27.0   \n",
              "3              0.0             0.0          0.0      4.0      0.0   0.0   \n",
              "4              0.0             0.0          0.0     13.0      0.0   5.0   \n",
              "\n",
              "   BackendDev  FrontendDev  Blockchain  \n",
              "0        41.0          9.0         8.0  \n",
              "1         9.0          0.0         4.0  \n",
              "2        49.0          7.0        13.0  \n",
              "3         0.0          0.0         0.0  \n",
              "4         0.0          0.0         0.0  "
            ]
          },
          "execution_count": 1,
          "metadata": {},
          "output_type": "execute_result"
        }
      ],
      "source": [
        "import pandas as pd\n",
        "user_profile_df = pd.read_csv('user_profile.csv')\n",
        "\n",
        "# Displaying the first few rows of the DataFrame to inspect its contents\n",
        "user_profile_df.head()"
      ]
    },
    {
      "cell_type": "markdown",
      "metadata": {},
      "source": [
        "On part 2, we have also generated course recommendations based on a user's profile and course genres."
      ]
    },
    {
      "cell_type": "markdown",
      "metadata": {
        "id": "7WprMqb0ILFO"
      },
      "source": [
        "Furthermore, we could perform clustering algorithms such as K-means or DBSCAN to group users with similar learning interests. For example, in the below user clusters, we have user clusters whom have learned courses related to machine learning, cloud computing, databases, and web development, etc.\n"
      ]
    },
    {
      "cell_type": "markdown",
      "metadata": {
        "id": "ZrJzasbCILFO"
      },
      "source": [
        "![](https://cf-courses-data.s3.us.cloud-object-storage.appdomain.cloud/IBM-ML321EN-SkillsNetwork/labs/module_3/images/userprofiles_clustering.png)\n"
      ]
    },
    {
      "cell_type": "markdown",
      "metadata": {
        "id": "lX3VeoPLILFO"
      },
      "source": [
        "For each user group, we can come up with a list of popular courses. For example, for the machine learning user cluster/learning group, we can count the most frequently enrolled courses, which are very likely to be the most popular and good machine learning courses because they are enrolled by many users who are interested in machine learning.\n",
        "\n",
        "If we know a user belongs to the machine learning group, we may recommend the most enrolled courses to them and it is very likely the user will be interested in them.\n"
      ]
    },
    {
      "cell_type": "markdown",
      "metadata": {
        "id": "M1pHC3gBILFO"
      },
      "source": [
        "In this notebook, will be implementing some clustering-based recommender system algorithms.\n"
      ]
    },
    {
      "cell_type": "markdown",
      "metadata": {
        "id": "TDhWM32MILFQ"
      },
      "source": [
        "----\n"
      ]
    },
    {
      "cell_type": "markdown",
      "metadata": {},
      "source": [
        "## Part 1. Perform K-means clustering algorithm on the user profile feature vectors"
      ]
    },
    {
      "cell_type": "code",
      "execution_count": 2,
      "metadata": {
        "id": "COzjQP5NILFR"
      },
      "outputs": [],
      "source": [
        "import seaborn as sns\n",
        "import numpy as np\n",
        "import matplotlib.pyplot as plt\n",
        "\n",
        "import warnings\n",
        "warnings.filterwarnings(\"ignore\")\n",
        "\n",
        "from sklearn.cluster import KMeans\n",
        "from sklearn.preprocessing import StandardScaler\n",
        "from sklearn.decomposition import PCA\n",
        "\n",
        "%matplotlib inline"
      ]
    },
    {
      "cell_type": "code",
      "execution_count": 3,
      "metadata": {
        "id": "qYs46OzPILFR"
      },
      "outputs": [],
      "source": [
        "# also set a random state\n",
        "rs = 123"
      ]
    },
    {
      "cell_type": "markdown",
      "metadata": {
        "id": "k0ZxzteDILFS"
      },
      "source": [
        "We have already loaded the `user_profile_df`\n"
      ]
    },
    {
      "cell_type": "code",
      "execution_count": 4,
      "metadata": {
        "colab": {
          "base_uri": "https://localhost:8080/",
          "height": 206
        },
        "id": "O_hmLyEaILFS",
        "outputId": "06b00dbb-f0e4-466e-f732-d4490a3dc93a"
      },
      "outputs": [
        {
          "data": {
            "text/html": [
              "<div>\n",
              "<style scoped>\n",
              "    .dataframe tbody tr th:only-of-type {\n",
              "        vertical-align: middle;\n",
              "    }\n",
              "\n",
              "    .dataframe tbody tr th {\n",
              "        vertical-align: top;\n",
              "    }\n",
              "\n",
              "    .dataframe thead th {\n",
              "        text-align: right;\n",
              "    }\n",
              "</style>\n",
              "<table border=\"1\" class=\"dataframe\">\n",
              "  <thead>\n",
              "    <tr style=\"text-align: right;\">\n",
              "      <th></th>\n",
              "      <th>user</th>\n",
              "      <th>Database</th>\n",
              "      <th>Python</th>\n",
              "      <th>CloudComputing</th>\n",
              "      <th>DataAnalysis</th>\n",
              "      <th>Containers</th>\n",
              "      <th>MachineLearning</th>\n",
              "      <th>ComputerVision</th>\n",
              "      <th>DataScience</th>\n",
              "      <th>BigData</th>\n",
              "      <th>Chatbot</th>\n",
              "      <th>R</th>\n",
              "      <th>BackendDev</th>\n",
              "      <th>FrontendDev</th>\n",
              "      <th>Blockchain</th>\n",
              "    </tr>\n",
              "  </thead>\n",
              "  <tbody>\n",
              "    <tr>\n",
              "      <th>0</th>\n",
              "      <td>2</td>\n",
              "      <td>83.0</td>\n",
              "      <td>21.0</td>\n",
              "      <td>8.0</td>\n",
              "      <td>68.0</td>\n",
              "      <td>4.0</td>\n",
              "      <td>49.0</td>\n",
              "      <td>0.0</td>\n",
              "      <td>47.0</td>\n",
              "      <td>66.0</td>\n",
              "      <td>3.0</td>\n",
              "      <td>27.0</td>\n",
              "      <td>41.0</td>\n",
              "      <td>9.0</td>\n",
              "      <td>8.0</td>\n",
              "    </tr>\n",
              "    <tr>\n",
              "      <th>1</th>\n",
              "      <td>4</td>\n",
              "      <td>78.0</td>\n",
              "      <td>5.0</td>\n",
              "      <td>6.0</td>\n",
              "      <td>48.0</td>\n",
              "      <td>0.0</td>\n",
              "      <td>30.0</td>\n",
              "      <td>0.0</td>\n",
              "      <td>45.0</td>\n",
              "      <td>46.0</td>\n",
              "      <td>0.0</td>\n",
              "      <td>12.0</td>\n",
              "      <td>9.0</td>\n",
              "      <td>0.0</td>\n",
              "      <td>4.0</td>\n",
              "    </tr>\n",
              "    <tr>\n",
              "      <th>2</th>\n",
              "      <td>5</td>\n",
              "      <td>47.0</td>\n",
              "      <td>18.0</td>\n",
              "      <td>36.0</td>\n",
              "      <td>46.0</td>\n",
              "      <td>0.0</td>\n",
              "      <td>59.0</td>\n",
              "      <td>0.0</td>\n",
              "      <td>47.0</td>\n",
              "      <td>29.0</td>\n",
              "      <td>4.0</td>\n",
              "      <td>27.0</td>\n",
              "      <td>49.0</td>\n",
              "      <td>7.0</td>\n",
              "      <td>13.0</td>\n",
              "    </tr>\n",
              "    <tr>\n",
              "      <th>3</th>\n",
              "      <td>7</td>\n",
              "      <td>4.0</td>\n",
              "      <td>0.0</td>\n",
              "      <td>0.0</td>\n",
              "      <td>4.0</td>\n",
              "      <td>0.0</td>\n",
              "      <td>0.0</td>\n",
              "      <td>0.0</td>\n",
              "      <td>0.0</td>\n",
              "      <td>4.0</td>\n",
              "      <td>0.0</td>\n",
              "      <td>0.0</td>\n",
              "      <td>0.0</td>\n",
              "      <td>0.0</td>\n",
              "      <td>0.0</td>\n",
              "    </tr>\n",
              "    <tr>\n",
              "      <th>4</th>\n",
              "      <td>8</td>\n",
              "      <td>13.0</td>\n",
              "      <td>0.0</td>\n",
              "      <td>0.0</td>\n",
              "      <td>10.0</td>\n",
              "      <td>0.0</td>\n",
              "      <td>0.0</td>\n",
              "      <td>0.0</td>\n",
              "      <td>0.0</td>\n",
              "      <td>13.0</td>\n",
              "      <td>0.0</td>\n",
              "      <td>5.0</td>\n",
              "      <td>0.0</td>\n",
              "      <td>0.0</td>\n",
              "      <td>0.0</td>\n",
              "    </tr>\n",
              "  </tbody>\n",
              "</table>\n",
              "</div>"
            ],
            "text/plain": [
              "   user  Database  Python  CloudComputing  DataAnalysis  Containers  \\\n",
              "0     2      83.0    21.0             8.0          68.0         4.0   \n",
              "1     4      78.0     5.0             6.0          48.0         0.0   \n",
              "2     5      47.0    18.0            36.0          46.0         0.0   \n",
              "3     7       4.0     0.0             0.0           4.0         0.0   \n",
              "4     8      13.0     0.0             0.0          10.0         0.0   \n",
              "\n",
              "   MachineLearning  ComputerVision  DataScience  BigData  Chatbot     R  \\\n",
              "0             49.0             0.0         47.0     66.0      3.0  27.0   \n",
              "1             30.0             0.0         45.0     46.0      0.0  12.0   \n",
              "2             59.0             0.0         47.0     29.0      4.0  27.0   \n",
              "3              0.0             0.0          0.0      4.0      0.0   0.0   \n",
              "4              0.0             0.0          0.0     13.0      0.0   5.0   \n",
              "\n",
              "   BackendDev  FrontendDev  Blockchain  \n",
              "0        41.0          9.0         8.0  \n",
              "1         9.0          0.0         4.0  \n",
              "2        49.0          7.0        13.0  \n",
              "3         0.0          0.0         0.0  \n",
              "4         0.0          0.0         0.0  "
            ]
          },
          "execution_count": 4,
          "metadata": {},
          "output_type": "execute_result"
        }
      ],
      "source": [
        "user_profile_df.head()"
      ]
    },
    {
      "cell_type": "markdown",
      "metadata": {
        "id": "YrRhrsAFILFT"
      },
      "source": [
        "we can then list the feature names, they are the user interested topics (course genres):\n"
      ]
    },
    {
      "cell_type": "code",
      "execution_count": 5,
      "metadata": {
        "colab": {
          "base_uri": "https://localhost:8080/"
        },
        "id": "N6JQ7oWdILFT",
        "outputId": "8612bb12-c4c1-4e27-f1db-12e9ccf03126"
      },
      "outputs": [
        {
          "data": {
            "text/plain": [
              "['Database',\n",
              " 'Python',\n",
              " 'CloudComputing',\n",
              " 'DataAnalysis',\n",
              " 'Containers',\n",
              " 'MachineLearning',\n",
              " 'ComputerVision',\n",
              " 'DataScience',\n",
              " 'BigData',\n",
              " 'Chatbot',\n",
              " 'R',\n",
              " 'BackendDev',\n",
              " 'FrontendDev',\n",
              " 'Blockchain']"
            ]
          },
          "execution_count": 5,
          "metadata": {},
          "output_type": "execute_result"
        }
      ],
      "source": [
        "feature_names = list(user_profile_df.columns[1:])\n",
        "feature_names"
      ]
    },
    {
      "cell_type": "code",
      "execution_count": 6,
      "metadata": {},
      "outputs": [
        {
          "data": {
            "text/plain": [
              "(33901, 15)"
            ]
          },
          "execution_count": 6,
          "metadata": {},
          "output_type": "execute_result"
        }
      ],
      "source": [
        "user_profile_df.shape"
      ]
    },
    {
      "cell_type": "markdown",
      "metadata": {
        "id": "Y4gAQWbIILFT"
      },
      "source": [
        "As we can see from the user profile dataset, we have about 33K unique users with interests in areas like ``Database``, ``Python``, ``CloudComputing``, etc. Then, let's check the  summary statistics for each feature.\n"
      ]
    },
    {
      "cell_type": "code",
      "execution_count": 7,
      "metadata": {
        "colab": {
          "base_uri": "https://localhost:8080/",
          "height": 300
        },
        "id": "VOxuPwdwILFT",
        "outputId": "6317bb14-6bd8-4e7b-c433-28c802e4585e"
      },
      "outputs": [
        {
          "data": {
            "text/html": [
              "<div>\n",
              "<style scoped>\n",
              "    .dataframe tbody tr th:only-of-type {\n",
              "        vertical-align: middle;\n",
              "    }\n",
              "\n",
              "    .dataframe tbody tr th {\n",
              "        vertical-align: top;\n",
              "    }\n",
              "\n",
              "    .dataframe thead th {\n",
              "        text-align: right;\n",
              "    }\n",
              "</style>\n",
              "<table border=\"1\" class=\"dataframe\">\n",
              "  <thead>\n",
              "    <tr style=\"text-align: right;\">\n",
              "      <th></th>\n",
              "      <th>user</th>\n",
              "      <th>Database</th>\n",
              "      <th>Python</th>\n",
              "      <th>CloudComputing</th>\n",
              "      <th>DataAnalysis</th>\n",
              "      <th>Containers</th>\n",
              "      <th>MachineLearning</th>\n",
              "      <th>ComputerVision</th>\n",
              "      <th>DataScience</th>\n",
              "      <th>BigData</th>\n",
              "      <th>Chatbot</th>\n",
              "      <th>R</th>\n",
              "      <th>BackendDev</th>\n",
              "      <th>FrontendDev</th>\n",
              "      <th>Blockchain</th>\n",
              "    </tr>\n",
              "  </thead>\n",
              "  <tbody>\n",
              "    <tr>\n",
              "      <th>count</th>\n",
              "      <td>3.390100e+04</td>\n",
              "      <td>33901.000000</td>\n",
              "      <td>33901.000000</td>\n",
              "      <td>33901.000000</td>\n",
              "      <td>33901.000000</td>\n",
              "      <td>33901.000000</td>\n",
              "      <td>33901.000000</td>\n",
              "      <td>33901.000000</td>\n",
              "      <td>33901.000000</td>\n",
              "      <td>33901.000000</td>\n",
              "      <td>33901.000000</td>\n",
              "      <td>33901.000000</td>\n",
              "      <td>33901.000000</td>\n",
              "      <td>33901.000000</td>\n",
              "      <td>33901.000000</td>\n",
              "    </tr>\n",
              "    <tr>\n",
              "      <th>mean</th>\n",
              "      <td>1.064064e+06</td>\n",
              "      <td>7.408366</td>\n",
              "      <td>4.665290</td>\n",
              "      <td>3.214802</td>\n",
              "      <td>4.866553</td>\n",
              "      <td>1.335005</td>\n",
              "      <td>4.153181</td>\n",
              "      <td>0.002301</td>\n",
              "      <td>6.893956</td>\n",
              "      <td>6.379812</td>\n",
              "      <td>0.676440</td>\n",
              "      <td>1.373942</td>\n",
              "      <td>3.027433</td>\n",
              "      <td>0.420460</td>\n",
              "      <td>1.356686</td>\n",
              "    </tr>\n",
              "    <tr>\n",
              "      <th>std</th>\n",
              "      <td>4.972578e+05</td>\n",
              "      <td>10.210756</td>\n",
              "      <td>5.697474</td>\n",
              "      <td>5.219930</td>\n",
              "      <td>6.426724</td>\n",
              "      <td>3.175841</td>\n",
              "      <td>6.252663</td>\n",
              "      <td>0.096521</td>\n",
              "      <td>7.035741</td>\n",
              "      <td>9.668413</td>\n",
              "      <td>1.550372</td>\n",
              "      <td>3.179992</td>\n",
              "      <td>5.789729</td>\n",
              "      <td>1.829718</td>\n",
              "      <td>2.681439</td>\n",
              "    </tr>\n",
              "    <tr>\n",
              "      <th>min</th>\n",
              "      <td>2.000000e+00</td>\n",
              "      <td>0.000000</td>\n",
              "      <td>0.000000</td>\n",
              "      <td>0.000000</td>\n",
              "      <td>0.000000</td>\n",
              "      <td>0.000000</td>\n",
              "      <td>0.000000</td>\n",
              "      <td>0.000000</td>\n",
              "      <td>0.000000</td>\n",
              "      <td>0.000000</td>\n",
              "      <td>0.000000</td>\n",
              "      <td>0.000000</td>\n",
              "      <td>0.000000</td>\n",
              "      <td>0.000000</td>\n",
              "      <td>0.000000</td>\n",
              "    </tr>\n",
              "    <tr>\n",
              "      <th>25%</th>\n",
              "      <td>6.813480e+05</td>\n",
              "      <td>0.000000</td>\n",
              "      <td>0.000000</td>\n",
              "      <td>0.000000</td>\n",
              "      <td>0.000000</td>\n",
              "      <td>0.000000</td>\n",
              "      <td>0.000000</td>\n",
              "      <td>0.000000</td>\n",
              "      <td>0.000000</td>\n",
              "      <td>0.000000</td>\n",
              "      <td>0.000000</td>\n",
              "      <td>0.000000</td>\n",
              "      <td>0.000000</td>\n",
              "      <td>0.000000</td>\n",
              "      <td>0.000000</td>\n",
              "    </tr>\n",
              "    <tr>\n",
              "      <th>50%</th>\n",
              "      <td>1.043907e+06</td>\n",
              "      <td>4.000000</td>\n",
              "      <td>3.000000</td>\n",
              "      <td>0.000000</td>\n",
              "      <td>3.000000</td>\n",
              "      <td>0.000000</td>\n",
              "      <td>0.000000</td>\n",
              "      <td>0.000000</td>\n",
              "      <td>5.000000</td>\n",
              "      <td>3.000000</td>\n",
              "      <td>0.000000</td>\n",
              "      <td>0.000000</td>\n",
              "      <td>0.000000</td>\n",
              "      <td>0.000000</td>\n",
              "      <td>0.000000</td>\n",
              "    </tr>\n",
              "    <tr>\n",
              "      <th>75%</th>\n",
              "      <td>1.451159e+06</td>\n",
              "      <td>11.000000</td>\n",
              "      <td>9.000000</td>\n",
              "      <td>5.000000</td>\n",
              "      <td>8.000000</td>\n",
              "      <td>0.000000</td>\n",
              "      <td>5.000000</td>\n",
              "      <td>0.000000</td>\n",
              "      <td>11.000000</td>\n",
              "      <td>10.000000</td>\n",
              "      <td>0.000000</td>\n",
              "      <td>0.000000</td>\n",
              "      <td>4.000000</td>\n",
              "      <td>0.000000</td>\n",
              "      <td>3.000000</td>\n",
              "    </tr>\n",
              "    <tr>\n",
              "      <th>max</th>\n",
              "      <td>2.103039e+06</td>\n",
              "      <td>86.000000</td>\n",
              "      <td>26.000000</td>\n",
              "      <td>51.000000</td>\n",
              "      <td>68.000000</td>\n",
              "      <td>23.000000</td>\n",
              "      <td>59.000000</td>\n",
              "      <td>5.000000</td>\n",
              "      <td>47.000000</td>\n",
              "      <td>78.000000</td>\n",
              "      <td>10.000000</td>\n",
              "      <td>27.000000</td>\n",
              "      <td>75.000000</td>\n",
              "      <td>21.000000</td>\n",
              "      <td>20.000000</td>\n",
              "    </tr>\n",
              "  </tbody>\n",
              "</table>\n",
              "</div>"
            ],
            "text/plain": [
              "               user      Database        Python  CloudComputing  DataAnalysis  \\\n",
              "count  3.390100e+04  33901.000000  33901.000000    33901.000000  33901.000000   \n",
              "mean   1.064064e+06      7.408366      4.665290        3.214802      4.866553   \n",
              "std    4.972578e+05     10.210756      5.697474        5.219930      6.426724   \n",
              "min    2.000000e+00      0.000000      0.000000        0.000000      0.000000   \n",
              "25%    6.813480e+05      0.000000      0.000000        0.000000      0.000000   \n",
              "50%    1.043907e+06      4.000000      3.000000        0.000000      3.000000   \n",
              "75%    1.451159e+06     11.000000      9.000000        5.000000      8.000000   \n",
              "max    2.103039e+06     86.000000     26.000000       51.000000     68.000000   \n",
              "\n",
              "         Containers  MachineLearning  ComputerVision   DataScience  \\\n",
              "count  33901.000000     33901.000000    33901.000000  33901.000000   \n",
              "mean       1.335005         4.153181        0.002301      6.893956   \n",
              "std        3.175841         6.252663        0.096521      7.035741   \n",
              "min        0.000000         0.000000        0.000000      0.000000   \n",
              "25%        0.000000         0.000000        0.000000      0.000000   \n",
              "50%        0.000000         0.000000        0.000000      5.000000   \n",
              "75%        0.000000         5.000000        0.000000     11.000000   \n",
              "max       23.000000        59.000000        5.000000     47.000000   \n",
              "\n",
              "            BigData       Chatbot             R    BackendDev   FrontendDev  \\\n",
              "count  33901.000000  33901.000000  33901.000000  33901.000000  33901.000000   \n",
              "mean       6.379812      0.676440      1.373942      3.027433      0.420460   \n",
              "std        9.668413      1.550372      3.179992      5.789729      1.829718   \n",
              "min        0.000000      0.000000      0.000000      0.000000      0.000000   \n",
              "25%        0.000000      0.000000      0.000000      0.000000      0.000000   \n",
              "50%        3.000000      0.000000      0.000000      0.000000      0.000000   \n",
              "75%       10.000000      0.000000      0.000000      4.000000      0.000000   \n",
              "max       78.000000     10.000000     27.000000     75.000000     21.000000   \n",
              "\n",
              "         Blockchain  \n",
              "count  33901.000000  \n",
              "mean       1.356686  \n",
              "std        2.681439  \n",
              "min        0.000000  \n",
              "25%        0.000000  \n",
              "50%        0.000000  \n",
              "75%        3.000000  \n",
              "max       20.000000  "
            ]
          },
          "execution_count": 7,
          "metadata": {},
          "output_type": "execute_result"
        }
      ],
      "source": [
        "user_profile_df.describe()"
      ]
    },
    {
      "cell_type": "markdown",
      "metadata": {
        "id": "zQvofPPaILFU"
      },
      "source": [
        "The original user profile feature vector is not normalized, which may cause issues when we perform clustering and Principal component analysis (PCA), therefor we standardize the data.\n"
      ]
    },
    {
      "cell_type": "code",
      "execution_count": 8,
      "metadata": {
        "colab": {
          "base_uri": "https://localhost:8080/"
        },
        "id": "eEVyphf_ILFU",
        "outputId": "7e15c8e0-e6c4-4c78-f38a-6a9f251c6e6e"
      },
      "outputs": [
        {
          "name": "stdout",
          "output_type": "stream",
          "text": [
            "mean -0.0000 and standard deviation 1.0000\n",
            "mean -0.0000 and standard deviation 1.0000\n",
            "mean 0.0000 and standard deviation 1.0000\n",
            "mean -0.0000 and standard deviation 1.0000\n",
            "mean -0.0000 and standard deviation 1.0000\n",
            "mean 0.0000 and standard deviation 1.0000\n",
            "mean 0.0000 and standard deviation 1.0000\n",
            "mean 0.0000 and standard deviation 1.0000\n",
            "mean 0.0000 and standard deviation 1.0000\n",
            "mean -0.0000 and standard deviation 1.0000\n",
            "mean -0.0000 and standard deviation 1.0000\n",
            "mean -0.0000 and standard deviation 1.0000\n",
            "mean 0.0000 and standard deviation 1.0000\n",
            "mean -0.0000 and standard deviation 1.0000\n"
          ]
        }
      ],
      "source": [
        "# Use StandardScaler to make each feature with mean 0, standard deviation 1\n",
        "# Instantiating a StandardScaler object\n",
        "scaler = StandardScaler()\n",
        "\n",
        "# Standardizing the selected features (feature_names) in the user_profile_df DataFrame\n",
        "user_profile_df[feature_names] = scaler.fit_transform(user_profile_df[feature_names])\n",
        "\n",
        "# Printing the mean and standard deviation of the standardized features\n",
        "for i,j in zip(user_profile_df[feature_names].mean(), user_profile_df[feature_names].std() ):\n",
        "    print(f'mean {i:.4f} and standard deviation {j:.4f}')"
      ]
    },
    {
      "cell_type": "markdown",
      "metadata": {
        "id": "NGPXJHRmILFU"
      },
      "source": [
        "The normalized user profile features are:\n"
      ]
    },
    {
      "cell_type": "code",
      "execution_count": 9,
      "metadata": {},
      "outputs": [
        {
          "data": {
            "text/html": [
              "<div>\n",
              "<style scoped>\n",
              "    .dataframe tbody tr th:only-of-type {\n",
              "        vertical-align: middle;\n",
              "    }\n",
              "\n",
              "    .dataframe tbody tr th {\n",
              "        vertical-align: top;\n",
              "    }\n",
              "\n",
              "    .dataframe thead th {\n",
              "        text-align: right;\n",
              "    }\n",
              "</style>\n",
              "<table border=\"1\" class=\"dataframe\">\n",
              "  <thead>\n",
              "    <tr style=\"text-align: right;\">\n",
              "      <th></th>\n",
              "      <th>Database</th>\n",
              "      <th>Python</th>\n",
              "      <th>CloudComputing</th>\n",
              "      <th>DataAnalysis</th>\n",
              "      <th>Containers</th>\n",
              "      <th>MachineLearning</th>\n",
              "      <th>ComputerVision</th>\n",
              "      <th>DataScience</th>\n",
              "      <th>BigData</th>\n",
              "      <th>Chatbot</th>\n",
              "      <th>R</th>\n",
              "      <th>BackendDev</th>\n",
              "      <th>FrontendDev</th>\n",
              "      <th>Blockchain</th>\n",
              "    </tr>\n",
              "  </thead>\n",
              "  <tbody>\n",
              "    <tr>\n",
              "      <th>0</th>\n",
              "      <td>7.403247</td>\n",
              "      <td>2.867051</td>\n",
              "      <td>0.916731</td>\n",
              "      <td>9.823726</td>\n",
              "      <td>0.839159</td>\n",
              "      <td>7.172540</td>\n",
              "      <td>-0.023838</td>\n",
              "      <td>5.700414</td>\n",
              "      <td>6.166582</td>\n",
              "      <td>1.498733</td>\n",
              "      <td>8.058649</td>\n",
              "      <td>6.558706</td>\n",
              "      <td>4.689064</td>\n",
              "      <td>2.477555</td>\n",
              "    </tr>\n",
              "    <tr>\n",
              "      <th>1</th>\n",
              "      <td>6.913560</td>\n",
              "      <td>0.058748</td>\n",
              "      <td>0.533578</td>\n",
              "      <td>6.711675</td>\n",
              "      <td>-0.420369</td>\n",
              "      <td>4.133791</td>\n",
              "      <td>-0.023838</td>\n",
              "      <td>5.416147</td>\n",
              "      <td>4.097960</td>\n",
              "      <td>-0.436315</td>\n",
              "      <td>3.341586</td>\n",
              "      <td>1.031595</td>\n",
              "      <td>-0.229798</td>\n",
              "      <td>0.985796</td>\n",
              "    </tr>\n",
              "    <tr>\n",
              "      <th>2</th>\n",
              "      <td>3.877501</td>\n",
              "      <td>2.340494</td>\n",
              "      <td>6.280867</td>\n",
              "      <td>6.400470</td>\n",
              "      <td>-0.420369</td>\n",
              "      <td>8.771883</td>\n",
              "      <td>-0.023838</td>\n",
              "      <td>5.700414</td>\n",
              "      <td>2.339631</td>\n",
              "      <td>2.143749</td>\n",
              "      <td>8.058649</td>\n",
              "      <td>7.940484</td>\n",
              "      <td>3.595984</td>\n",
              "      <td>4.342252</td>\n",
              "    </tr>\n",
              "    <tr>\n",
              "      <th>3</th>\n",
              "      <td>-0.333806</td>\n",
              "      <td>-0.818847</td>\n",
              "      <td>-0.615880</td>\n",
              "      <td>-0.134838</td>\n",
              "      <td>-0.420369</td>\n",
              "      <td>-0.664236</td>\n",
              "      <td>-0.023838</td>\n",
              "      <td>-0.979862</td>\n",
              "      <td>-0.246147</td>\n",
              "      <td>-0.436315</td>\n",
              "      <td>-0.432065</td>\n",
              "      <td>-0.522905</td>\n",
              "      <td>-0.229798</td>\n",
              "      <td>-0.505962</td>\n",
              "    </tr>\n",
              "    <tr>\n",
              "      <th>4</th>\n",
              "      <td>0.547630</td>\n",
              "      <td>-0.818847</td>\n",
              "      <td>-0.615880</td>\n",
              "      <td>0.798778</td>\n",
              "      <td>-0.420369</td>\n",
              "      <td>-0.664236</td>\n",
              "      <td>-0.023838</td>\n",
              "      <td>-0.979862</td>\n",
              "      <td>0.684733</td>\n",
              "      <td>-0.436315</td>\n",
              "      <td>1.140290</td>\n",
              "      <td>-0.522905</td>\n",
              "      <td>-0.229798</td>\n",
              "      <td>-0.505962</td>\n",
              "    </tr>\n",
              "    <tr>\n",
              "      <th>...</th>\n",
              "      <td>...</td>\n",
              "      <td>...</td>\n",
              "      <td>...</td>\n",
              "      <td>...</td>\n",
              "      <td>...</td>\n",
              "      <td>...</td>\n",
              "      <td>...</td>\n",
              "      <td>...</td>\n",
              "      <td>...</td>\n",
              "      <td>...</td>\n",
              "      <td>...</td>\n",
              "      <td>...</td>\n",
              "      <td>...</td>\n",
              "      <td>...</td>\n",
              "    </tr>\n",
              "    <tr>\n",
              "      <th>33896</th>\n",
              "      <td>-0.333806</td>\n",
              "      <td>0.058748</td>\n",
              "      <td>0.342002</td>\n",
              "      <td>0.643175</td>\n",
              "      <td>-0.420369</td>\n",
              "      <td>-0.664236</td>\n",
              "      <td>-0.023838</td>\n",
              "      <td>0.015072</td>\n",
              "      <td>-0.659871</td>\n",
              "      <td>-0.436315</td>\n",
              "      <td>2.083702</td>\n",
              "      <td>0.858873</td>\n",
              "      <td>-0.229798</td>\n",
              "      <td>0.612857</td>\n",
              "    </tr>\n",
              "    <tr>\n",
              "      <th>33897</th>\n",
              "      <td>-0.725556</td>\n",
              "      <td>-0.818847</td>\n",
              "      <td>-0.041151</td>\n",
              "      <td>-0.757248</td>\n",
              "      <td>-0.420369</td>\n",
              "      <td>-0.664236</td>\n",
              "      <td>-0.023838</td>\n",
              "      <td>-0.979862</td>\n",
              "      <td>-0.659871</td>\n",
              "      <td>-0.436315</td>\n",
              "      <td>-0.432065</td>\n",
              "      <td>-0.522905</td>\n",
              "      <td>-0.229798</td>\n",
              "      <td>-0.505962</td>\n",
              "    </tr>\n",
              "    <tr>\n",
              "      <th>33898</th>\n",
              "      <td>-0.333806</td>\n",
              "      <td>0.760824</td>\n",
              "      <td>1.108307</td>\n",
              "      <td>-0.757248</td>\n",
              "      <td>-0.420369</td>\n",
              "      <td>2.854317</td>\n",
              "      <td>-0.023838</td>\n",
              "      <td>0.725740</td>\n",
              "      <td>-0.659871</td>\n",
              "      <td>-0.436315</td>\n",
              "      <td>1.140290</td>\n",
              "      <td>-0.522905</td>\n",
              "      <td>-0.229798</td>\n",
              "      <td>-0.505962</td>\n",
              "    </tr>\n",
              "    <tr>\n",
              "      <th>33899</th>\n",
              "      <td>-0.725556</td>\n",
              "      <td>-0.818847</td>\n",
              "      <td>-0.615880</td>\n",
              "      <td>-0.757248</td>\n",
              "      <td>-0.420369</td>\n",
              "      <td>0.135435</td>\n",
              "      <td>-0.023838</td>\n",
              "      <td>-0.979862</td>\n",
              "      <td>-0.659871</td>\n",
              "      <td>-0.436315</td>\n",
              "      <td>-0.432065</td>\n",
              "      <td>-0.522905</td>\n",
              "      <td>-0.229798</td>\n",
              "      <td>-0.505962</td>\n",
              "    </tr>\n",
              "    <tr>\n",
              "      <th>33900</th>\n",
              "      <td>-0.725556</td>\n",
              "      <td>-0.818847</td>\n",
              "      <td>-0.615880</td>\n",
              "      <td>-0.757248</td>\n",
              "      <td>-0.420369</td>\n",
              "      <td>0.135435</td>\n",
              "      <td>-0.023838</td>\n",
              "      <td>-0.979862</td>\n",
              "      <td>-0.659871</td>\n",
              "      <td>-0.436315</td>\n",
              "      <td>-0.432065</td>\n",
              "      <td>-0.522905</td>\n",
              "      <td>-0.229798</td>\n",
              "      <td>-0.505962</td>\n",
              "    </tr>\n",
              "  </tbody>\n",
              "</table>\n",
              "<p>33901 rows × 14 columns</p>\n",
              "</div>"
            ],
            "text/plain": [
              "       Database    Python  CloudComputing  DataAnalysis  Containers  \\\n",
              "0      7.403247  2.867051        0.916731      9.823726    0.839159   \n",
              "1      6.913560  0.058748        0.533578      6.711675   -0.420369   \n",
              "2      3.877501  2.340494        6.280867      6.400470   -0.420369   \n",
              "3     -0.333806 -0.818847       -0.615880     -0.134838   -0.420369   \n",
              "4      0.547630 -0.818847       -0.615880      0.798778   -0.420369   \n",
              "...         ...       ...             ...           ...         ...   \n",
              "33896 -0.333806  0.058748        0.342002      0.643175   -0.420369   \n",
              "33897 -0.725556 -0.818847       -0.041151     -0.757248   -0.420369   \n",
              "33898 -0.333806  0.760824        1.108307     -0.757248   -0.420369   \n",
              "33899 -0.725556 -0.818847       -0.615880     -0.757248   -0.420369   \n",
              "33900 -0.725556 -0.818847       -0.615880     -0.757248   -0.420369   \n",
              "\n",
              "       MachineLearning  ComputerVision  DataScience   BigData   Chatbot  \\\n",
              "0             7.172540       -0.023838     5.700414  6.166582  1.498733   \n",
              "1             4.133791       -0.023838     5.416147  4.097960 -0.436315   \n",
              "2             8.771883       -0.023838     5.700414  2.339631  2.143749   \n",
              "3            -0.664236       -0.023838    -0.979862 -0.246147 -0.436315   \n",
              "4            -0.664236       -0.023838    -0.979862  0.684733 -0.436315   \n",
              "...                ...             ...          ...       ...       ...   \n",
              "33896        -0.664236       -0.023838     0.015072 -0.659871 -0.436315   \n",
              "33897        -0.664236       -0.023838    -0.979862 -0.659871 -0.436315   \n",
              "33898         2.854317       -0.023838     0.725740 -0.659871 -0.436315   \n",
              "33899         0.135435       -0.023838    -0.979862 -0.659871 -0.436315   \n",
              "33900         0.135435       -0.023838    -0.979862 -0.659871 -0.436315   \n",
              "\n",
              "              R  BackendDev  FrontendDev  Blockchain  \n",
              "0      8.058649    6.558706     4.689064    2.477555  \n",
              "1      3.341586    1.031595    -0.229798    0.985796  \n",
              "2      8.058649    7.940484     3.595984    4.342252  \n",
              "3     -0.432065   -0.522905    -0.229798   -0.505962  \n",
              "4      1.140290   -0.522905    -0.229798   -0.505962  \n",
              "...         ...         ...          ...         ...  \n",
              "33896  2.083702    0.858873    -0.229798    0.612857  \n",
              "33897 -0.432065   -0.522905    -0.229798   -0.505962  \n",
              "33898  1.140290   -0.522905    -0.229798   -0.505962  \n",
              "33899 -0.432065   -0.522905    -0.229798   -0.505962  \n",
              "33900 -0.432065   -0.522905    -0.229798   -0.505962  \n",
              "\n",
              "[33901 rows x 14 columns]"
            ]
          },
          "execution_count": 9,
          "metadata": {},
          "output_type": "execute_result"
        }
      ],
      "source": [
        "features = user_profile_df[user_profile_df.columns[1:]]\n",
        "features "
      ]
    },
    {
      "cell_type": "markdown",
      "metadata": {
        "id": "hGCh0p8YILFV"
      },
      "source": [
        "We can also save the user ids for later recommendation tasks:\n"
      ]
    },
    {
      "cell_type": "code",
      "execution_count": 10,
      "metadata": {
        "colab": {
          "base_uri": "https://localhost:8080/",
          "height": 424
        },
        "id": "Y2-t-_LxILFV",
        "outputId": "f607e52f-ba1d-45b5-eaac-7f2240dc93bd"
      },
      "outputs": [
        {
          "data": {
            "text/html": [
              "<div>\n",
              "<style scoped>\n",
              "    .dataframe tbody tr th:only-of-type {\n",
              "        vertical-align: middle;\n",
              "    }\n",
              "\n",
              "    .dataframe tbody tr th {\n",
              "        vertical-align: top;\n",
              "    }\n",
              "\n",
              "    .dataframe thead th {\n",
              "        text-align: right;\n",
              "    }\n",
              "</style>\n",
              "<table border=\"1\" class=\"dataframe\">\n",
              "  <thead>\n",
              "    <tr style=\"text-align: right;\">\n",
              "      <th></th>\n",
              "      <th>user</th>\n",
              "    </tr>\n",
              "  </thead>\n",
              "  <tbody>\n",
              "    <tr>\n",
              "      <th>0</th>\n",
              "      <td>2</td>\n",
              "    </tr>\n",
              "    <tr>\n",
              "      <th>1</th>\n",
              "      <td>4</td>\n",
              "    </tr>\n",
              "    <tr>\n",
              "      <th>2</th>\n",
              "      <td>5</td>\n",
              "    </tr>\n",
              "    <tr>\n",
              "      <th>3</th>\n",
              "      <td>7</td>\n",
              "    </tr>\n",
              "    <tr>\n",
              "      <th>4</th>\n",
              "      <td>8</td>\n",
              "    </tr>\n",
              "  </tbody>\n",
              "</table>\n",
              "</div>"
            ],
            "text/plain": [
              "   user\n",
              "0     2\n",
              "1     4\n",
              "2     5\n",
              "3     7\n",
              "4     8"
            ]
          },
          "execution_count": 10,
          "metadata": {},
          "output_type": "execute_result"
        }
      ],
      "source": [
        "user_ids = user_profile_df.loc[:, user_profile_df.columns == 'user']\n",
        "user_ids.head()"
      ]
    },
    {
      "cell_type": "markdown",
      "metadata": {
        "id": "FCIW4WiRILFV"
      },
      "source": [
        "With the user profile dataset ready, we can use the `KMeans` class provided by scikit-learn library to perform clustering on the user profile feature vectors.\n"
      ]
    },
    {
      "cell_type": "markdown",
      "metadata": {
        "id": "Rak4pXfNILFV"
      },
      "source": [
        "For `KMeans` algorithm, one important hyperparameter is the number of clusters `n_cluster`, and a good way to find the optimized `n_cluster` is using to grid search a list of candidates and find the one with the best or optimized clustering evaluation metrics such as minimal `sum of squared distance`, i.e., the inertia:\n"
      ]
    },
    {
      "cell_type": "code",
      "execution_count": 11,
      "metadata": {
        "id": "j0SlTYZAILFW"
      },
      "outputs": [],
      "source": [
        "num_clusters = [i for i in range(2, 30)]\n",
        "\n",
        "def kmeans_inertia(num_clusters, x_vals):\n",
        "    \"\"\"\n",
        "    Accepts as arguments list of ints and data array.\n",
        "    Fits a KMeans model where k = each value in the list of ints.\n",
        "    Returns each k-value's inertia appended to a list.\n",
        "    \"\"\"\n",
        "    inertia = []\n",
        "    for num in num_clusters:\n",
        "        kms = KMeans(n_clusters=num, random_state=rs)\n",
        "        kms.fit(x_vals)\n",
        "        inertia.append(kms.inertia_)\n",
        "\n",
        "    return inertia\n"
      ]
    },
    {
      "cell_type": "code",
      "execution_count": 12,
      "metadata": {
        "colab": {
          "base_uri": "https://localhost:8080/"
        },
        "id": "5z35FQkSunKW",
        "outputId": "30fa0b57-ad12-4dc2-874f-817331d61132"
      },
      "outputs": [
        {
          "data": {
            "text/plain": [
              "[399858.3119077113,\n",
              " 354308.1576988321,\n",
              " 320186.0332135024,\n",
              " 287648.95593982,\n",
              " 262889.3184200423,\n",
              " 240086.75809444027,\n",
              " 221665.2719386135,\n",
              " 209228.49329103128,\n",
              " 197456.87881457288,\n",
              " 188667.1693762805,\n",
              " 181290.20948041463,\n",
              " 175346.47707637917,\n",
              " 170119.88042795978,\n",
              " 165245.97585465893,\n",
              " 160403.63987440465,\n",
              " 156883.42844220885,\n",
              " 153687.75383075004,\n",
              " 150600.67697157554,\n",
              " 148231.13501949824,\n",
              " 146122.58598857955,\n",
              " 143602.806442507,\n",
              " 141016.4660799453,\n",
              " 139184.9971112044,\n",
              " 137327.29979352132,\n",
              " 135832.83652216493,\n",
              " 134508.31086571235,\n",
              " 132688.05335811584,\n",
              " 130945.3062649213]"
            ]
          },
          "execution_count": 12,
          "metadata": {},
          "output_type": "execute_result"
        }
      ],
      "source": [
        "inertia = kmeans_inertia(num_clusters, features)\n",
        "inertia"
      ]
    },
    {
      "cell_type": "code",
      "execution_count": 13,
      "metadata": {
        "colab": {
          "base_uri": "https://localhost:8080/",
          "height": 449
        },
        "id": "1v-iUKVCv5B7",
        "outputId": "9091ada8-932e-4c5d-c26d-f96e05593b32"
      },
      "outputs": [
        {
          "data": {
            "image/png": "[encoded data removed]",
            "text/plain": [
              "<Figure size 640x480 with 1 Axes>"
            ]
          },
          "metadata": {},
          "output_type": "display_data"
        }
      ],
      "source": [
        "plot = sns.lineplot(x=num_clusters, y=inertia, marker = 'o')\n",
        "plot.set_xlabel(\"Number of clusters\");\n",
        "plot.set_ylabel(\"Inertia\");"
      ]
    },
    {
      "cell_type": "markdown",
      "metadata": {
        "id": "-u7yNzYwILFf"
      },
      "source": [
        "From the elbow plot, we visualy identify the point where the metric starting to be flatten, ~20, which indicates the optimized number of clusters.\n"
      ]
    },
    {
      "cell_type": "markdown",
      "metadata": {
        "id": "wTJ4yRv9ILFf"
      },
      "source": [
        "Once the best number of clusters is identified, we can apply `KMeans()` again to generate cluster label for all users.\n"
      ]
    },
    {
      "cell_type": "code",
      "execution_count": 14,
      "metadata": {
        "colab": {
          "base_uri": "https://localhost:8080/"
        },
        "id": "b45ZKA-uILFh",
        "outputId": "1a473321-4f3a-4dfc-da9f-bdc4107ac211"
      },
      "outputs": [
        {
          "name": "stdout",
          "output_type": "stream",
          "text": [
            "Unique labels: [ 0  1  2  3  4  5  6  7  8  9 10 11 12 13 14 15 16 17 18 19]\n"
          ]
        }
      ],
      "source": [
        "cluster_labels = []\n",
        "\n",
        "kms20 = KMeans(20, random_state=rs)\n",
        "kms20.fit(features)\n",
        "cluster_labels = kms20.labels_\n",
        "print('Unique labels:', np.unique(cluster_labels))\n"
      ]
    },
    {
      "cell_type": "code",
      "execution_count": 15,
      "metadata": {
        "colab": {
          "base_uri": "https://localhost:8080/"
        },
        "id": "ht8spyg5xtdv",
        "outputId": "a31c4933-2922-4034-c2e1-03e761618ac8"
      },
      "outputs": [
        {
          "data": {
            "text/plain": [
              "array([10, 10,  6, ...,  4,  1,  1], dtype=int32)"
            ]
          },
          "execution_count": 15,
          "metadata": {},
          "output_type": "execute_result"
        }
      ],
      "source": [
        "cluster_labels"
      ]
    },
    {
      "cell_type": "markdown",
      "metadata": {
        "id": "xId8CJi9ILFh"
      },
      "source": [
        "The cluster labels just generated is a list of integers indicating cluster indices. One may use the following utility method to combine the cluster labels and user ids to a dataframe, so that each cluster a user belongs is known:\n"
      ]
    },
    {
      "cell_type": "code",
      "execution_count": 16,
      "metadata": {
        "id": "Snd37rNWILFh"
      },
      "outputs": [],
      "source": [
        "def combine_cluster_labels(user_ids, labels):\n",
        "    # Convert labels to a DataFrame\n",
        "    labels_df = pd.DataFrame(labels)\n",
        "    # Merge user_ids DataFrame with labels DataFrame based on index\n",
        "    cluster_df = pd.merge(user_ids, labels_df, left_index=True, right_index=True)\n",
        "    # Rename columns to 'user' and 'cluster'\n",
        "    cluster_df.columns = ['user', 'cluster']\n",
        "    return cluster_df"
      ]
    },
    {
      "cell_type": "code",
      "execution_count": 17,
      "metadata": {
        "colab": {
          "base_uri": "https://localhost:8080/",
          "height": 424
        },
        "id": "-fYquhhRyGLI",
        "outputId": "94e6fe62-f66a-4427-e4de-2c0471d1842d"
      },
      "outputs": [
        {
          "data": {
            "text/html": [
              "<div>\n",
              "<style scoped>\n",
              "    .dataframe tbody tr th:only-of-type {\n",
              "        vertical-align: middle;\n",
              "    }\n",
              "\n",
              "    .dataframe tbody tr th {\n",
              "        vertical-align: top;\n",
              "    }\n",
              "\n",
              "    .dataframe thead th {\n",
              "        text-align: right;\n",
              "    }\n",
              "</style>\n",
              "<table border=\"1\" class=\"dataframe\">\n",
              "  <thead>\n",
              "    <tr style=\"text-align: right;\">\n",
              "      <th></th>\n",
              "      <th>user</th>\n",
              "      <th>cluster</th>\n",
              "    </tr>\n",
              "  </thead>\n",
              "  <tbody>\n",
              "    <tr>\n",
              "      <th>0</th>\n",
              "      <td>2</td>\n",
              "      <td>10</td>\n",
              "    </tr>\n",
              "    <tr>\n",
              "      <th>1</th>\n",
              "      <td>4</td>\n",
              "      <td>10</td>\n",
              "    </tr>\n",
              "    <tr>\n",
              "      <th>2</th>\n",
              "      <td>5</td>\n",
              "      <td>6</td>\n",
              "    </tr>\n",
              "    <tr>\n",
              "      <th>3</th>\n",
              "      <td>7</td>\n",
              "      <td>1</td>\n",
              "    </tr>\n",
              "    <tr>\n",
              "      <th>4</th>\n",
              "      <td>8</td>\n",
              "      <td>15</td>\n",
              "    </tr>\n",
              "    <tr>\n",
              "      <th>...</th>\n",
              "      <td>...</td>\n",
              "      <td>...</td>\n",
              "    </tr>\n",
              "    <tr>\n",
              "      <th>33896</th>\n",
              "      <td>2102054</td>\n",
              "      <td>5</td>\n",
              "    </tr>\n",
              "    <tr>\n",
              "      <th>33897</th>\n",
              "      <td>2102356</td>\n",
              "      <td>1</td>\n",
              "    </tr>\n",
              "    <tr>\n",
              "      <th>33898</th>\n",
              "      <td>2102680</td>\n",
              "      <td>4</td>\n",
              "    </tr>\n",
              "    <tr>\n",
              "      <th>33899</th>\n",
              "      <td>2102983</td>\n",
              "      <td>1</td>\n",
              "    </tr>\n",
              "    <tr>\n",
              "      <th>33900</th>\n",
              "      <td>2103039</td>\n",
              "      <td>1</td>\n",
              "    </tr>\n",
              "  </tbody>\n",
              "</table>\n",
              "<p>33901 rows × 2 columns</p>\n",
              "</div>"
            ],
            "text/plain": [
              "          user  cluster\n",
              "0            2       10\n",
              "1            4       10\n",
              "2            5        6\n",
              "3            7        1\n",
              "4            8       15\n",
              "...        ...      ...\n",
              "33896  2102054        5\n",
              "33897  2102356        1\n",
              "33898  2102680        4\n",
              "33899  2102983        1\n",
              "33900  2103039        1\n",
              "\n",
              "[33901 rows x 2 columns]"
            ]
          },
          "execution_count": 17,
          "metadata": {},
          "output_type": "execute_result"
        }
      ],
      "source": [
        "cluster_labels_df = combine_cluster_labels(user_ids, cluster_labels)\n",
        "cluster_labels_df"
      ]
    },
    {
      "cell_type": "markdown",
      "metadata": {
        "id": "kVbcEsYPILFh"
      },
      "source": [
        "Now, each user finds its own cluster or we can say we have created many clusters of learning communities. Learners within each community share very similar learning interests.\n"
      ]
    },
    {
      "cell_type": "markdown",
      "metadata": {},
      "source": [
        "----"
      ]
    },
    {
      "cell_type": "markdown",
      "metadata": {
        "id": "kj31GmN1ILFi"
      },
      "source": [
        "### Part 2. Apply PCA on user profile feature vectors to reduce dimensions\n"
      ]
    },
    {
      "cell_type": "markdown",
      "metadata": {
        "id": "-O1XMZqtILFi"
      },
      "source": [
        "In the previous step, we applied `KMeans` on the original user profile feature vectors which have 14 original features (the course genres).\n"
      ]
    },
    {
      "cell_type": "code",
      "execution_count": 18,
      "metadata": {
        "id": "Y1BeUE1QILFi"
      },
      "outputs": [],
      "source": [
        "# Extracting features from the user_profile_df DataFrame, excluding the 'user' column\n",
        "features = user_profile_df.loc[:, user_profile_df.columns != 'user']\n",
        "\n",
        "# Extracting user IDs from the user_profile_df DataFrame\n",
        "user_ids = user_profile_df.loc[:, user_profile_df.columns == 'user']\n",
        "\n",
        "# Creating a list of feature names by excluding the 'user' column name\n",
        "feature_names = list(user_profile_df.columns[1:])"
      ]
    },
    {
      "cell_type": "code",
      "execution_count": 19,
      "metadata": {
        "colab": {
          "base_uri": "https://localhost:8080/"
        },
        "id": "sZopQkbJILFi",
        "outputId": "5622cf98-35a6-4c2f-cfe5-0e12985bf003"
      },
      "outputs": [
        {
          "name": "stdout",
          "output_type": "stream",
          "text": [
            "There are 14 features for each user profile.\n"
          ]
        }
      ],
      "source": [
        "print(f\"There are {len(feature_names)} features for each user profile.\")"
      ]
    },
    {
      "cell_type": "markdown",
      "metadata": {
        "id": "BDiGwkKSILFi"
      },
      "source": [
        "If we plot a covariance matrix of the user profile feature vectors with 14 features, we can observe that some features are actually correlated:\n"
      ]
    },
    {
      "cell_type": "code",
      "execution_count": 20,
      "metadata": {
        "colab": {
          "base_uri": "https://localhost:8080/",
          "height": 862
        },
        "id": "GLnXdx9xILFi",
        "outputId": "c06340a4-d3fb-461a-8a17-ae5611503ae6"
      },
      "outputs": [
        {
          "data": {
            "image/png": "[encoded data removed]",
            "text/plain": [
              "<Figure size 1100x900 with 2 Axes>"
            ]
          },
          "metadata": {},
          "output_type": "display_data"
        }
      ],
      "source": [
        "sns.set_theme(style=\"white\")\n",
        "\n",
        "# Compute the correlation matrix\n",
        "corr = features.cov()\n",
        "\n",
        "# Generate a mask for the upper triangle\n",
        "mask = np.triu(np.ones_like(corr, dtype=bool))\n",
        "\n",
        "# Set up the matplotlib figure\n",
        "f, ax = plt.subplots(figsize=(11, 9))\n",
        "\n",
        "# Generate a custom diverging colormap\n",
        "cmap = sns.diverging_palette(230, 20, as_cmap=True)\n",
        "\n",
        "# Draw the heatmap with the mask and correct aspect ratio\n",
        "sns.heatmap(corr, mask=mask, cmap=cmap, vmax=.3, center=0,\n",
        "            square=True, linewidths=.5, cbar_kws={\"shrink\": .5})\n",
        "\n",
        "plt.show()"
      ]
    },
    {
      "cell_type": "markdown",
      "metadata": {
        "id": "5EQraVM7ILFi"
      },
      "source": [
        "For example, the feature `MachineLearning` and the feature `DataScience` are correlated. Such covariances among features may indicate that we can apply PCA to find its main components (eigenvectors with max eigenvalues on the covariance matrix).\n",
        "\n",
        "If we only keep the independent main components, then we can reduce the dimensions of our user profile feature vectors.\n"
      ]
    },
    {
      "cell_type": "markdown",
      "metadata": {
        "id": "mXXUPviBILFi"
      },
      "source": [
        "Now let's apply the `PCA()` provided by  `scikit-learn` to find the main components in user profile feature vectors and see if we can reduce its dimensions by only keeping the main components.\n"
      ]
    },
    {
      "cell_type": "markdown",
      "metadata": {
        "id": "ChuuI0INILFi"
      },
      "source": [
        "Note that when calling the  `PCA()` class, there is also an import argument called `n_components` which indicates how many components you want to keep in the PCA result. One way to find an optimized `n_components` is to do a grid search on a list of argument candidates (such as `range(1, 15)`) and calculate the ratio of the accumulated variance for each candidate.\n",
        "\n",
        "If the accumulated variances ratio of a candidate `n_components` is larger than a threshold, e.g., 90%, then we can say the transformed `n_components` could explain about 90% of variances of the original data variance and can be considered as an optimized components size.\n"
      ]
    },
    {
      "cell_type": "code",
      "execution_count": 21,
      "metadata": {
        "colab": {
          "base_uri": "https://localhost:8080/",
          "height": 424
        },
        "id": "FtthfS4p9FB8",
        "outputId": "3e2f0d17-6d72-42bc-f8e2-22c27d55f2ec"
      },
      "outputs": [
        {
          "data": {
            "text/html": [
              "<div>\n",
              "<style scoped>\n",
              "    .dataframe tbody tr th:only-of-type {\n",
              "        vertical-align: middle;\n",
              "    }\n",
              "\n",
              "    .dataframe tbody tr th {\n",
              "        vertical-align: top;\n",
              "    }\n",
              "\n",
              "    .dataframe thead th {\n",
              "        text-align: right;\n",
              "    }\n",
              "</style>\n",
              "<table border=\"1\" class=\"dataframe\">\n",
              "  <thead>\n",
              "    <tr style=\"text-align: right;\">\n",
              "      <th></th>\n",
              "      <th>Database</th>\n",
              "      <th>Python</th>\n",
              "      <th>CloudComputing</th>\n",
              "      <th>DataAnalysis</th>\n",
              "      <th>Containers</th>\n",
              "      <th>MachineLearning</th>\n",
              "      <th>ComputerVision</th>\n",
              "      <th>DataScience</th>\n",
              "      <th>BigData</th>\n",
              "      <th>Chatbot</th>\n",
              "      <th>R</th>\n",
              "      <th>BackendDev</th>\n",
              "      <th>FrontendDev</th>\n",
              "      <th>Blockchain</th>\n",
              "    </tr>\n",
              "  </thead>\n",
              "  <tbody>\n",
              "    <tr>\n",
              "      <th>0</th>\n",
              "      <td>7.403247</td>\n",
              "      <td>2.867051</td>\n",
              "      <td>0.916731</td>\n",
              "      <td>9.823726</td>\n",
              "      <td>0.839159</td>\n",
              "      <td>7.172540</td>\n",
              "      <td>-0.023838</td>\n",
              "      <td>5.700414</td>\n",
              "      <td>6.166582</td>\n",
              "      <td>1.498733</td>\n",
              "      <td>8.058649</td>\n",
              "      <td>6.558706</td>\n",
              "      <td>4.689064</td>\n",
              "      <td>2.477555</td>\n",
              "    </tr>\n",
              "    <tr>\n",
              "      <th>1</th>\n",
              "      <td>6.913560</td>\n",
              "      <td>0.058748</td>\n",
              "      <td>0.533578</td>\n",
              "      <td>6.711675</td>\n",
              "      <td>-0.420369</td>\n",
              "      <td>4.133791</td>\n",
              "      <td>-0.023838</td>\n",
              "      <td>5.416147</td>\n",
              "      <td>4.097960</td>\n",
              "      <td>-0.436315</td>\n",
              "      <td>3.341586</td>\n",
              "      <td>1.031595</td>\n",
              "      <td>-0.229798</td>\n",
              "      <td>0.985796</td>\n",
              "    </tr>\n",
              "    <tr>\n",
              "      <th>2</th>\n",
              "      <td>3.877501</td>\n",
              "      <td>2.340494</td>\n",
              "      <td>6.280867</td>\n",
              "      <td>6.400470</td>\n",
              "      <td>-0.420369</td>\n",
              "      <td>8.771883</td>\n",
              "      <td>-0.023838</td>\n",
              "      <td>5.700414</td>\n",
              "      <td>2.339631</td>\n",
              "      <td>2.143749</td>\n",
              "      <td>8.058649</td>\n",
              "      <td>7.940484</td>\n",
              "      <td>3.595984</td>\n",
              "      <td>4.342252</td>\n",
              "    </tr>\n",
              "    <tr>\n",
              "      <th>3</th>\n",
              "      <td>-0.333806</td>\n",
              "      <td>-0.818847</td>\n",
              "      <td>-0.615880</td>\n",
              "      <td>-0.134838</td>\n",
              "      <td>-0.420369</td>\n",
              "      <td>-0.664236</td>\n",
              "      <td>-0.023838</td>\n",
              "      <td>-0.979862</td>\n",
              "      <td>-0.246147</td>\n",
              "      <td>-0.436315</td>\n",
              "      <td>-0.432065</td>\n",
              "      <td>-0.522905</td>\n",
              "      <td>-0.229798</td>\n",
              "      <td>-0.505962</td>\n",
              "    </tr>\n",
              "    <tr>\n",
              "      <th>4</th>\n",
              "      <td>0.547630</td>\n",
              "      <td>-0.818847</td>\n",
              "      <td>-0.615880</td>\n",
              "      <td>0.798778</td>\n",
              "      <td>-0.420369</td>\n",
              "      <td>-0.664236</td>\n",
              "      <td>-0.023838</td>\n",
              "      <td>-0.979862</td>\n",
              "      <td>0.684733</td>\n",
              "      <td>-0.436315</td>\n",
              "      <td>1.140290</td>\n",
              "      <td>-0.522905</td>\n",
              "      <td>-0.229798</td>\n",
              "      <td>-0.505962</td>\n",
              "    </tr>\n",
              "  </tbody>\n",
              "</table>\n",
              "</div>"
            ],
            "text/plain": [
              "   Database    Python  CloudComputing  DataAnalysis  Containers  \\\n",
              "0  7.403247  2.867051        0.916731      9.823726    0.839159   \n",
              "1  6.913560  0.058748        0.533578      6.711675   -0.420369   \n",
              "2  3.877501  2.340494        6.280867      6.400470   -0.420369   \n",
              "3 -0.333806 -0.818847       -0.615880     -0.134838   -0.420369   \n",
              "4  0.547630 -0.818847       -0.615880      0.798778   -0.420369   \n",
              "\n",
              "   MachineLearning  ComputerVision  DataScience   BigData   Chatbot         R  \\\n",
              "0         7.172540       -0.023838     5.700414  6.166582  1.498733  8.058649   \n",
              "1         4.133791       -0.023838     5.416147  4.097960 -0.436315  3.341586   \n",
              "2         8.771883       -0.023838     5.700414  2.339631  2.143749  8.058649   \n",
              "3        -0.664236       -0.023838    -0.979862 -0.246147 -0.436315 -0.432065   \n",
              "4        -0.664236       -0.023838    -0.979862  0.684733 -0.436315  1.140290   \n",
              "\n",
              "   BackendDev  FrontendDev  Blockchain  \n",
              "0    6.558706     4.689064    2.477555  \n",
              "1    1.031595    -0.229798    0.985796  \n",
              "2    7.940484     3.595984    4.342252  \n",
              "3   -0.522905    -0.229798   -0.505962  \n",
              "4   -0.522905    -0.229798   -0.505962  "
            ]
          },
          "execution_count": 21,
          "metadata": {},
          "output_type": "execute_result"
        }
      ],
      "source": [
        "features.head()"
      ]
    },
    {
      "cell_type": "code",
      "execution_count": 22,
      "metadata": {
        "colab": {
          "base_uri": "https://localhost:8080/"
        },
        "id": "3EF4zt4QILFj",
        "outputId": "32c9acb9-9407-43cd-faea-d77cff7bc0f2"
      },
      "outputs": [
        {
          "name": "stdout",
          "output_type": "stream",
          "text": [
            "Variance explained with 14 components: 1.0\n"
          ]
        }
      ],
      "source": [
        "def feature_pca(x_data, n_components):\n",
        "    pca = PCA(n_components=n_components)\n",
        "\n",
        "    fit_pca = pca.fit(x_data)\n",
        "\n",
        "    print(\"Variance explained with {0} components:\".format(n_components),\n",
        "          round(sum(fit_pca.explained_variance_ratio_), 2))\n",
        "\n",
        "    return fit_pca, fit_pca.transform(x_data)\n",
        "\n",
        "pca_full, mnist_data_full = feature_pca(features, 14)\n"
      ]
    },
    {
      "cell_type": "code",
      "execution_count": 23,
      "metadata": {
        "colab": {
          "base_uri": "https://localhost:8080/",
          "height": 501
        },
        "id": "rhXIOYI684gX",
        "outputId": "b23681e0-3c89-49dd-ec62-0a5dbc64509e"
      },
      "outputs": [
        {
          "data": {
            "image/png": "[encoded data removed]",
            "text/plain": [
              "<Figure size 640x480 with 1 Axes>"
            ]
          },
          "metadata": {},
          "output_type": "display_data"
        }
      ],
      "source": [
        "plt.plot(np.cumsum(pca_full.explained_variance_ratio_))\n",
        "plt.title(\"Proportion of PCA variance\\nexplained by number of components\")\n",
        "plt.xlabel(\"Number of components\")\n",
        "plt.ylabel(\"Proportion of variance explained\");"
      ]
    },
    {
      "cell_type": "markdown",
      "metadata": {
        "id": "L4cHRh24ILFj"
      },
      "source": [
        "We see that with `n_component` equal to 8 we explian about 90% of the variances of the original data with 14 features.\n",
        "Now we can apply PCA on the user profile feature vectors and reduce the  14 features into `n_component`=8.\n"
      ]
    },
    {
      "cell_type": "code",
      "execution_count": 24,
      "metadata": {
        "id": "yyjjVa-vILFj"
      },
      "outputs": [],
      "source": [
        "pca = PCA(n_components=8)\n",
        "fit_pca = pca.fit(features)\n"
      ]
    },
    {
      "cell_type": "code",
      "execution_count": 25,
      "metadata": {
        "id": "0YN6Z7QA-fke"
      },
      "outputs": [],
      "source": [
        "#np.cumsum(fit_pca.explained_variance_ratio_)\n",
        "transformed_features =fit_pca.transform(features)"
      ]
    },
    {
      "cell_type": "code",
      "execution_count": 26,
      "metadata": {
        "colab": {
          "base_uri": "https://localhost:8080/",
          "height": 424
        },
        "id": "ISalMngE_bXA",
        "outputId": "dfac9d4d-9767-4ea9-e73d-a87937cea282"
      },
      "outputs": [
        {
          "name": "stdout",
          "output_type": "stream",
          "text": [
            "(33901, 9)\n"
          ]
        },
        {
          "data": {
            "text/html": [
              "<div>\n",
              "<style scoped>\n",
              "    .dataframe tbody tr th:only-of-type {\n",
              "        vertical-align: middle;\n",
              "    }\n",
              "\n",
              "    .dataframe tbody tr th {\n",
              "        vertical-align: top;\n",
              "    }\n",
              "\n",
              "    .dataframe thead th {\n",
              "        text-align: right;\n",
              "    }\n",
              "</style>\n",
              "<table border=\"1\" class=\"dataframe\">\n",
              "  <thead>\n",
              "    <tr style=\"text-align: right;\">\n",
              "      <th></th>\n",
              "      <th>user</th>\n",
              "      <th>PC0</th>\n",
              "      <th>PC1</th>\n",
              "      <th>PC2</th>\n",
              "      <th>PC3</th>\n",
              "      <th>PC4</th>\n",
              "      <th>PC5</th>\n",
              "      <th>PC6</th>\n",
              "      <th>PC7</th>\n",
              "    </tr>\n",
              "  </thead>\n",
              "  <tbody>\n",
              "    <tr>\n",
              "      <th>0</th>\n",
              "      <td>2</td>\n",
              "      <td>19.784206</td>\n",
              "      <td>-1.469351</td>\n",
              "      <td>1.598475</td>\n",
              "      <td>2.072965</td>\n",
              "      <td>-2.444284</td>\n",
              "      <td>1.608192</td>\n",
              "      <td>0.380252</td>\n",
              "      <td>2.592222</td>\n",
              "    </tr>\n",
              "    <tr>\n",
              "      <th>1</th>\n",
              "      <td>4</td>\n",
              "      <td>11.333977</td>\n",
              "      <td>-4.172989</td>\n",
              "      <td>2.571778</td>\n",
              "      <td>-0.823700</td>\n",
              "      <td>0.487363</td>\n",
              "      <td>-0.556268</td>\n",
              "      <td>0.735730</td>\n",
              "      <td>0.929047</td>\n",
              "    </tr>\n",
              "    <tr>\n",
              "      <th>2</th>\n",
              "      <td>5</td>\n",
              "      <td>17.529097</td>\n",
              "      <td>2.935102</td>\n",
              "      <td>-3.057617</td>\n",
              "      <td>1.590135</td>\n",
              "      <td>-1.881803</td>\n",
              "      <td>0.577718</td>\n",
              "      <td>2.308339</td>\n",
              "      <td>4.142788</td>\n",
              "    </tr>\n",
              "    <tr>\n",
              "      <th>3</th>\n",
              "      <td>7</td>\n",
              "      <td>-1.631910</td>\n",
              "      <td>-0.394297</td>\n",
              "      <td>0.731315</td>\n",
              "      <td>-0.005586</td>\n",
              "      <td>-0.034315</td>\n",
              "      <td>0.204048</td>\n",
              "      <td>0.011482</td>\n",
              "      <td>-0.018821</td>\n",
              "    </tr>\n",
              "    <tr>\n",
              "      <th>4</th>\n",
              "      <td>8</td>\n",
              "      <td>-0.150156</td>\n",
              "      <td>-1.111714</td>\n",
              "      <td>1.550002</td>\n",
              "      <td>-0.068126</td>\n",
              "      <td>0.045932</td>\n",
              "      <td>0.079516</td>\n",
              "      <td>0.059609</td>\n",
              "      <td>0.953881</td>\n",
              "    </tr>\n",
              "  </tbody>\n",
              "</table>\n",
              "</div>"
            ],
            "text/plain": [
              "   user        PC0       PC1       PC2       PC3       PC4       PC5  \\\n",
              "0     2  19.784206 -1.469351  1.598475  2.072965 -2.444284  1.608192   \n",
              "1     4  11.333977 -4.172989  2.571778 -0.823700  0.487363 -0.556268   \n",
              "2     5  17.529097  2.935102 -3.057617  1.590135 -1.881803  0.577718   \n",
              "3     7  -1.631910 -0.394297  0.731315 -0.005586 -0.034315  0.204048   \n",
              "4     8  -0.150156 -1.111714  1.550002 -0.068126  0.045932  0.079516   \n",
              "\n",
              "        PC6       PC7  \n",
              "0  0.380252  2.592222  \n",
              "1  0.735730  0.929047  \n",
              "2  2.308339  4.142788  \n",
              "3  0.011482 -0.018821  \n",
              "4  0.059609  0.953881  "
            ]
          },
          "execution_count": 26,
          "metadata": {},
          "output_type": "execute_result"
        }
      ],
      "source": [
        "transformed_features_df = pd.DataFrame(data=transformed_features,columns=['PC0','PC1','PC2','PC3','PC4','PC5','PC6','PC7'])\n",
        "transformed_features_df = pd.concat( [user_ids,transformed_features_df], axis=1)\n",
        "print(transformed_features_df.shape)\n",
        "transformed_features_df.head()"
      ]
    },
    {
      "cell_type": "markdown",
      "metadata": {},
      "source": [
        "----"
      ]
    },
    {
      "cell_type": "markdown",
      "metadata": {
        "id": "XJX0QTroILFj"
      },
      "source": [
        "### Part 3. Perform k-means clustering on the PCA transformed feature vectors\n"
      ]
    },
    {
      "cell_type": "markdown",
      "metadata": {
        "id": "It6QiZhoILFj"
      },
      "source": [
        "Now, we have the PCA components of the original profile vectors. We can perform k-means on them again:\n"
      ]
    },
    {
      "cell_type": "code",
      "execution_count": 27,
      "metadata": {
        "colab": {
          "base_uri": "https://localhost:8080/"
        },
        "id": "VRXKuMmGILFj",
        "outputId": "b9638626-0ca5-4a43-9514-117ca143bb92"
      },
      "outputs": [
        {
          "name": "stdout",
          "output_type": "stream",
          "text": [
            "Unique labels: [0 1 2 3 4 5 6 7]\n"
          ]
        },
        {
          "data": {
            "text/plain": [
              "(33901,)"
            ]
          },
          "execution_count": 27,
          "metadata": {},
          "output_type": "execute_result"
        }
      ],
      "source": [
        "kmodel = KMeans(8, random_state=rs)\n",
        "kmodel.fit(transformed_features_df)\n",
        "cluster_labels = kmodel.labels_\n",
        "print('Unique labels:', np.unique(cluster_labels))\n",
        "cluster_labels.shape\n"
      ]
    },
    {
      "cell_type": "code",
      "execution_count": 28,
      "metadata": {
        "colab": {
          "base_uri": "https://localhost:8080/",
          "height": 424
        },
        "id": "KT-ux_8dB72i",
        "outputId": "a5471d5a-d901-46af-d293-84dd7643fdb0"
      },
      "outputs": [
        {
          "data": {
            "text/html": [
              "<div>\n",
              "<style scoped>\n",
              "    .dataframe tbody tr th:only-of-type {\n",
              "        vertical-align: middle;\n",
              "    }\n",
              "\n",
              "    .dataframe tbody tr th {\n",
              "        vertical-align: top;\n",
              "    }\n",
              "\n",
              "    .dataframe thead th {\n",
              "        text-align: right;\n",
              "    }\n",
              "</style>\n",
              "<table border=\"1\" class=\"dataframe\">\n",
              "  <thead>\n",
              "    <tr style=\"text-align: right;\">\n",
              "      <th></th>\n",
              "      <th>user</th>\n",
              "      <th>cluster</th>\n",
              "    </tr>\n",
              "  </thead>\n",
              "  <tbody>\n",
              "    <tr>\n",
              "      <th>0</th>\n",
              "      <td>2</td>\n",
              "      <td>3</td>\n",
              "    </tr>\n",
              "    <tr>\n",
              "      <th>1</th>\n",
              "      <td>4</td>\n",
              "      <td>3</td>\n",
              "    </tr>\n",
              "    <tr>\n",
              "      <th>2</th>\n",
              "      <td>5</td>\n",
              "      <td>3</td>\n",
              "    </tr>\n",
              "    <tr>\n",
              "      <th>3</th>\n",
              "      <td>7</td>\n",
              "      <td>3</td>\n",
              "    </tr>\n",
              "    <tr>\n",
              "      <th>4</th>\n",
              "      <td>8</td>\n",
              "      <td>3</td>\n",
              "    </tr>\n",
              "    <tr>\n",
              "      <th>...</th>\n",
              "      <td>...</td>\n",
              "      <td>...</td>\n",
              "    </tr>\n",
              "    <tr>\n",
              "      <th>33896</th>\n",
              "      <td>2102054</td>\n",
              "      <td>7</td>\n",
              "    </tr>\n",
              "    <tr>\n",
              "      <th>33897</th>\n",
              "      <td>2102356</td>\n",
              "      <td>7</td>\n",
              "    </tr>\n",
              "    <tr>\n",
              "      <th>33898</th>\n",
              "      <td>2102680</td>\n",
              "      <td>7</td>\n",
              "    </tr>\n",
              "    <tr>\n",
              "      <th>33899</th>\n",
              "      <td>2102983</td>\n",
              "      <td>7</td>\n",
              "    </tr>\n",
              "    <tr>\n",
              "      <th>33900</th>\n",
              "      <td>2103039</td>\n",
              "      <td>7</td>\n",
              "    </tr>\n",
              "  </tbody>\n",
              "</table>\n",
              "<p>33901 rows × 2 columns</p>\n",
              "</div>"
            ],
            "text/plain": [
              "          user  cluster\n",
              "0            2        3\n",
              "1            4        3\n",
              "2            5        3\n",
              "3            7        3\n",
              "4            8        3\n",
              "...        ...      ...\n",
              "33896  2102054        7\n",
              "33897  2102356        7\n",
              "33898  2102680        7\n",
              "33899  2102983        7\n",
              "33900  2103039        7\n",
              "\n",
              "[33901 rows x 2 columns]"
            ]
          },
          "execution_count": 28,
          "metadata": {},
          "output_type": "execute_result"
        }
      ],
      "source": [
        "cluster_labels_df = combine_cluster_labels(user_ids, cluster_labels)\n",
        "cluster_labels_df"
      ]
    },
    {
      "cell_type": "markdown",
      "metadata": {
        "id": "CUKGLKuyILFk"
      },
      "source": [
        "Now all users find their learning interest groups, either based on their original or the PCA transformed user profile features.\n"
      ]
    },
    {
      "cell_type": "markdown",
      "metadata": {
        "id": "pPv8zlXEILFk"
      },
      "source": [
        "When a user is in a group or a community, it is very likely that the user will be interested in the courses enrolled by other members within the same group.\n"
      ]
    },
    {
      "cell_type": "markdown",
      "metadata": {},
      "source": [
        "----"
      ]
    },
    {
      "cell_type": "markdown",
      "metadata": {
        "id": "E47yFeTRILFk"
      },
      "source": [
        "### Part 4. Generate course recommendations based on the popular courses in the same cluster\n"
      ]
    },
    {
      "cell_type": "markdown",
      "metadata": {
        "id": "mPLKE2GLILFk"
      },
      "source": [
        "The Intuition of clustering-based course recommendation is very simple and can be illustrated via the following example:\n"
      ]
    },
    {
      "cell_type": "markdown",
      "metadata": {
        "id": "cBGe8RqZILFk"
      },
      "source": [
        "Suppose a user has joined a machine learning group (via clustering algorithm). In the group, he/she finds that the top-3 courses enrolled by all other group members are `Machine Learning for Everyone`, `Machine Learning with Python`, `Machine Learning with Scikit-learn`. Since the user has already completed the `Machine Learning for Everyone` earlier, he/she decides to trust the group members' choices and enroll in other two unselected courses `Machine Learning with Python` and `Machine Learning with Scikit-learn`.\n"
      ]
    },
    {
      "cell_type": "markdown",
      "metadata": {
        "id": "UUNaygfRILFk"
      },
      "source": [
        "In summary, the clustering-based recommender system first groups all users based on their profiles, and maintains a popular courses list for each group.\n",
        "\n",
        "For any group member who needs course recommendations, the algorithm recommends the unselected courses from the popular course lists.\n"
      ]
    },
    {
      "cell_type": "markdown",
      "metadata": {
        "id": "3pLdwUm-ILFk"
      },
      "source": [
        "Next, suppose we have a set of test users, and we want to recommend new courses to them using a clustering-based recommender system:\n"
      ]
    },
    {
      "cell_type": "code",
      "execution_count": 29,
      "metadata": {},
      "outputs": [
        {
          "name": "stdout",
          "output_type": "stream",
          "text": [
            "(233306, 3)\n"
          ]
        },
        {
          "data": {
            "text/html": [
              "<div>\n",
              "<style scoped>\n",
              "    .dataframe tbody tr th:only-of-type {\n",
              "        vertical-align: middle;\n",
              "    }\n",
              "\n",
              "    .dataframe tbody tr th {\n",
              "        vertical-align: top;\n",
              "    }\n",
              "\n",
              "    .dataframe thead th {\n",
              "        text-align: right;\n",
              "    }\n",
              "</style>\n",
              "<table border=\"1\" class=\"dataframe\">\n",
              "  <thead>\n",
              "    <tr style=\"text-align: right;\">\n",
              "      <th></th>\n",
              "      <th>user</th>\n",
              "      <th>item</th>\n",
              "      <th>rating</th>\n",
              "    </tr>\n",
              "  </thead>\n",
              "  <tbody>\n",
              "    <tr>\n",
              "      <th>0</th>\n",
              "      <td>1889878</td>\n",
              "      <td>CC0101EN</td>\n",
              "      <td>5</td>\n",
              "    </tr>\n",
              "    <tr>\n",
              "      <th>1</th>\n",
              "      <td>1342067</td>\n",
              "      <td>CL0101EN</td>\n",
              "      <td>3</td>\n",
              "    </tr>\n",
              "    <tr>\n",
              "      <th>2</th>\n",
              "      <td>1990814</td>\n",
              "      <td>ML0120ENv3</td>\n",
              "      <td>5</td>\n",
              "    </tr>\n",
              "    <tr>\n",
              "      <th>3</th>\n",
              "      <td>380098</td>\n",
              "      <td>BD0211EN</td>\n",
              "      <td>5</td>\n",
              "    </tr>\n",
              "    <tr>\n",
              "      <th>4</th>\n",
              "      <td>779563</td>\n",
              "      <td>DS0101EN</td>\n",
              "      <td>3</td>\n",
              "    </tr>\n",
              "  </tbody>\n",
              "</table>\n",
              "</div>"
            ],
            "text/plain": [
              "      user        item  rating\n",
              "0  1889878    CC0101EN       5\n",
              "1  1342067    CL0101EN       3\n",
              "2  1990814  ML0120ENv3       5\n",
              "3   380098    BD0211EN       5\n",
              "4   779563    DS0101EN       3"
            ]
          },
          "execution_count": 29,
          "metadata": {},
          "output_type": "execute_result"
        }
      ],
      "source": [
        "ratings_df = pd.read_csv('ratings.csv')\n",
        "print(ratings_df.shape)\n",
        "ratings_df.head()"
      ]
    },
    {
      "cell_type": "markdown",
      "metadata": {},
      "source": [
        "Next, let's sample a test dataset, containing test users to whom we want to make course recommendations."
      ]
    },
    {
      "cell_type": "code",
      "execution_count": 30,
      "metadata": {},
      "outputs": [],
      "source": [
        "np.random.seed(rs)\n",
        "test_uesrs = np.random.choice(ratings_df['user'].unique(), size=1000, replace=False)"
      ]
    },
    {
      "cell_type": "markdown",
      "metadata": {},
      "source": [
        "The test users dataset has only two columns, the user id and the enrolled course id."
      ]
    },
    {
      "cell_type": "code",
      "execution_count": 31,
      "metadata": {},
      "outputs": [
        {
          "data": {
            "text/html": [
              "<div>\n",
              "<style scoped>\n",
              "    .dataframe tbody tr th:only-of-type {\n",
              "        vertical-align: middle;\n",
              "    }\n",
              "\n",
              "    .dataframe tbody tr th {\n",
              "        vertical-align: top;\n",
              "    }\n",
              "\n",
              "    .dataframe thead th {\n",
              "        text-align: right;\n",
              "    }\n",
              "</style>\n",
              "<table border=\"1\" class=\"dataframe\">\n",
              "  <thead>\n",
              "    <tr style=\"text-align: right;\">\n",
              "      <th></th>\n",
              "      <th>user</th>\n",
              "      <th>item</th>\n",
              "    </tr>\n",
              "  </thead>\n",
              "  <tbody>\n",
              "    <tr>\n",
              "      <th>15</th>\n",
              "      <td>1474302</td>\n",
              "      <td>DS0103EN</td>\n",
              "    </tr>\n",
              "    <tr>\n",
              "      <th>51</th>\n",
              "      <td>687207</td>\n",
              "      <td>ST0101EN</td>\n",
              "    </tr>\n",
              "    <tr>\n",
              "      <th>137</th>\n",
              "      <td>1897257</td>\n",
              "      <td>CNSC02EN</td>\n",
              "    </tr>\n",
              "    <tr>\n",
              "      <th>155</th>\n",
              "      <td>1805227</td>\n",
              "      <td>DV0101EN</td>\n",
              "    </tr>\n",
              "    <tr>\n",
              "      <th>188</th>\n",
              "      <td>759038</td>\n",
              "      <td>BD0111EN</td>\n",
              "    </tr>\n",
              "  </tbody>\n",
              "</table>\n",
              "</div>"
            ],
            "text/plain": [
              "        user      item\n",
              "15   1474302  DS0103EN\n",
              "51    687207  ST0101EN\n",
              "137  1897257  CNSC02EN\n",
              "155  1805227  DV0101EN\n",
              "188   759038  BD0111EN"
            ]
          },
          "execution_count": 31,
          "metadata": {},
          "output_type": "execute_result"
        }
      ],
      "source": [
        "test_users_df = ratings_df[ratings_df['user'].isin(test_uesrs)][['user', 'item']] # here the ratings will not be needed.\n",
        "test_users_df.head()"
      ]
    },
    {
      "cell_type": "code",
      "execution_count": 32,
      "metadata": {
        "colab": {
          "base_uri": "https://localhost:8080/"
        },
        "id": "g3dwFvRFOdjE",
        "outputId": "9978da80-ae34-4c26-e170-dea5d60e5b95"
      },
      "outputs": [
        {
          "name": "stdout",
          "output_type": "stream",
          "text": [
            "number of users in the test dataset: 1000\n"
          ]
        }
      ],
      "source": [
        "print('number of users in the test dataset:', len(test_users_df['user'].unique()))"
      ]
    },
    {
      "cell_type": "code",
      "execution_count": 33,
      "metadata": {},
      "outputs": [
        {
          "name": "stdout",
          "output_type": "stream",
          "text": [
            "number of items in the test dataset: 104\n"
          ]
        }
      ],
      "source": [
        "print('number of items in the test dataset:', len(test_users_df['item'].unique()))"
      ]
    },
    {
      "cell_type": "markdown",
      "metadata": {
        "id": "NLr4_OJ7ILFl"
      },
      "source": [
        "For each user, let's find its cluster label using the k-means results you have performed in previous steps, assuming it is named `cluster_df`.\n"
      ]
    },
    {
      "cell_type": "markdown",
      "metadata": {
        "id": "HzKEi8abILFl"
      },
      "source": [
        "You can assign the cluster label to all test users via merging the clustering labels (`cluster_df`:):\n"
      ]
    },
    {
      "cell_type": "code",
      "execution_count": 34,
      "metadata": {
        "colab": {
          "base_uri": "https://localhost:8080/",
          "height": 424
        },
        "id": "r5W2g81jILFm",
        "outputId": "0e537817-ed4b-4be0-86c6-8d93759df0d4"
      },
      "outputs": [
        {
          "data": {
            "text/html": [
              "<div>\n",
              "<style scoped>\n",
              "    .dataframe tbody tr th:only-of-type {\n",
              "        vertical-align: middle;\n",
              "    }\n",
              "\n",
              "    .dataframe tbody tr th {\n",
              "        vertical-align: top;\n",
              "    }\n",
              "\n",
              "    .dataframe thead th {\n",
              "        text-align: right;\n",
              "    }\n",
              "</style>\n",
              "<table border=\"1\" class=\"dataframe\">\n",
              "  <thead>\n",
              "    <tr style=\"text-align: right;\">\n",
              "      <th></th>\n",
              "      <th>user</th>\n",
              "      <th>item</th>\n",
              "      <th>cluster</th>\n",
              "    </tr>\n",
              "  </thead>\n",
              "  <tbody>\n",
              "    <tr>\n",
              "      <th>0</th>\n",
              "      <td>1474302</td>\n",
              "      <td>DS0103EN</td>\n",
              "      <td>4</td>\n",
              "    </tr>\n",
              "    <tr>\n",
              "      <th>1</th>\n",
              "      <td>1474302</td>\n",
              "      <td>DS0101EN</td>\n",
              "      <td>4</td>\n",
              "    </tr>\n",
              "    <tr>\n",
              "      <th>2</th>\n",
              "      <td>1474302</td>\n",
              "      <td>DS0105EN</td>\n",
              "      <td>4</td>\n",
              "    </tr>\n",
              "    <tr>\n",
              "      <th>3</th>\n",
              "      <td>1474302</td>\n",
              "      <td>PY0101EN</td>\n",
              "      <td>4</td>\n",
              "    </tr>\n",
              "    <tr>\n",
              "      <th>4</th>\n",
              "      <td>1474302</td>\n",
              "      <td>DA0101EN</td>\n",
              "      <td>4</td>\n",
              "    </tr>\n",
              "    <tr>\n",
              "      <th>...</th>\n",
              "      <td>...</td>\n",
              "      <td>...</td>\n",
              "      <td>...</td>\n",
              "    </tr>\n",
              "    <tr>\n",
              "      <th>6640</th>\n",
              "      <td>1718581</td>\n",
              "      <td>CNSC02EN</td>\n",
              "      <td>2</td>\n",
              "    </tr>\n",
              "    <tr>\n",
              "      <th>6641</th>\n",
              "      <td>1799755</td>\n",
              "      <td>DAI101EN</td>\n",
              "      <td>2</td>\n",
              "    </tr>\n",
              "    <tr>\n",
              "      <th>6642</th>\n",
              "      <td>512095</td>\n",
              "      <td>DS0101EN</td>\n",
              "      <td>5</td>\n",
              "    </tr>\n",
              "    <tr>\n",
              "      <th>6643</th>\n",
              "      <td>365797</td>\n",
              "      <td>ST0101EN</td>\n",
              "      <td>5</td>\n",
              "    </tr>\n",
              "    <tr>\n",
              "      <th>6644</th>\n",
              "      <td>226549</td>\n",
              "      <td>CB0103EN</td>\n",
              "      <td>3</td>\n",
              "    </tr>\n",
              "  </tbody>\n",
              "</table>\n",
              "<p>6645 rows × 3 columns</p>\n",
              "</div>"
            ],
            "text/plain": [
              "         user      item  cluster\n",
              "0     1474302  DS0103EN        4\n",
              "1     1474302  DS0101EN        4\n",
              "2     1474302  DS0105EN        4\n",
              "3     1474302  PY0101EN        4\n",
              "4     1474302  DA0101EN        4\n",
              "...       ...       ...      ...\n",
              "6640  1718581  CNSC02EN        2\n",
              "6641  1799755  DAI101EN        2\n",
              "6642   512095  DS0101EN        5\n",
              "6643   365797  ST0101EN        5\n",
              "6644   226549  CB0103EN        3\n",
              "\n",
              "[6645 rows x 3 columns]"
            ]
          },
          "execution_count": 34,
          "metadata": {},
          "output_type": "execute_result"
        }
      ],
      "source": [
        "test_users_labelled = pd.merge(test_users_df, cluster_labels_df, left_on='user', right_on='user') \n",
        "test_users_labelled"
      ]
    },
    {
      "cell_type": "markdown",
      "metadata": {
        "id": "dSKA1Ba6ILFm"
      },
      "source": [
        "From the above dataframe, we know each user's enrolled courses and its cluster index.\n"
      ]
    },
    {
      "cell_type": "markdown",
      "metadata": {
        "id": "HCq0mSkQILFm"
      },
      "source": [
        "If we use a `groupby`  and `sum` aggregation, we can get the enrollments count for each course in each group\n"
      ]
    },
    {
      "cell_type": "code",
      "execution_count": 35,
      "metadata": {},
      "outputs": [
        {
          "data": {
            "text/html": [
              "<div>\n",
              "<style scoped>\n",
              "    .dataframe tbody tr th:only-of-type {\n",
              "        vertical-align: middle;\n",
              "    }\n",
              "\n",
              "    .dataframe tbody tr th {\n",
              "        vertical-align: top;\n",
              "    }\n",
              "\n",
              "    .dataframe thead th {\n",
              "        text-align: right;\n",
              "    }\n",
              "</style>\n",
              "<table border=\"1\" class=\"dataframe\">\n",
              "  <thead>\n",
              "    <tr style=\"text-align: right;\">\n",
              "      <th></th>\n",
              "      <th>cluster</th>\n",
              "      <th>item</th>\n",
              "      <th>enrollments</th>\n",
              "    </tr>\n",
              "  </thead>\n",
              "  <tbody>\n",
              "    <tr>\n",
              "      <th>0</th>\n",
              "      <td>0</td>\n",
              "      <td>BC0101EN</td>\n",
              "      <td>52</td>\n",
              "    </tr>\n",
              "    <tr>\n",
              "      <th>1</th>\n",
              "      <td>0</td>\n",
              "      <td>BC0201EN</td>\n",
              "      <td>18</td>\n",
              "    </tr>\n",
              "    <tr>\n",
              "      <th>2</th>\n",
              "      <td>0</td>\n",
              "      <td>BC0202EN</td>\n",
              "      <td>5</td>\n",
              "    </tr>\n",
              "    <tr>\n",
              "      <th>3</th>\n",
              "      <td>0</td>\n",
              "      <td>BD0101EN</td>\n",
              "      <td>62</td>\n",
              "    </tr>\n",
              "    <tr>\n",
              "      <th>4</th>\n",
              "      <td>0</td>\n",
              "      <td>BD0111EN</td>\n",
              "      <td>46</td>\n",
              "    </tr>\n",
              "    <tr>\n",
              "      <th>...</th>\n",
              "      <td>...</td>\n",
              "      <td>...</td>\n",
              "      <td>...</td>\n",
              "    </tr>\n",
              "    <tr>\n",
              "      <th>624</th>\n",
              "      <td>7</td>\n",
              "      <td>SC0103EN</td>\n",
              "      <td>1</td>\n",
              "    </tr>\n",
              "    <tr>\n",
              "      <th>625</th>\n",
              "      <td>7</td>\n",
              "      <td>SC0105EN</td>\n",
              "      <td>3</td>\n",
              "    </tr>\n",
              "    <tr>\n",
              "      <th>626</th>\n",
              "      <td>7</td>\n",
              "      <td>SECM03EN</td>\n",
              "      <td>1</td>\n",
              "    </tr>\n",
              "    <tr>\n",
              "      <th>627</th>\n",
              "      <td>7</td>\n",
              "      <td>ST0101EN</td>\n",
              "      <td>7</td>\n",
              "    </tr>\n",
              "    <tr>\n",
              "      <th>628</th>\n",
              "      <td>7</td>\n",
              "      <td>TA0105EN</td>\n",
              "      <td>1</td>\n",
              "    </tr>\n",
              "  </tbody>\n",
              "</table>\n",
              "<p>629 rows × 3 columns</p>\n",
              "</div>"
            ],
            "text/plain": [
              "     cluster      item  enrollments\n",
              "0          0  BC0101EN           52\n",
              "1          0  BC0201EN           18\n",
              "2          0  BC0202EN            5\n",
              "3          0  BD0101EN           62\n",
              "4          0  BD0111EN           46\n",
              "..       ...       ...          ...\n",
              "624        7  SC0103EN            1\n",
              "625        7  SC0105EN            3\n",
              "626        7  SECM03EN            1\n",
              "627        7  ST0101EN            7\n",
              "628        7  TA0105EN            1\n",
              "\n",
              "[629 rows x 3 columns]"
            ]
          },
          "execution_count": 35,
          "metadata": {},
          "output_type": "execute_result"
        }
      ],
      "source": [
        "courses_cluster_grouped = pd.DataFrame(test_users_labelled.groupby(['cluster','item']).size(),columns=['enrollments']).reset_index().rename_axis(index=None, columns=None)\n",
        "courses_cluster_grouped"
      ]
    },
    {
      "cell_type": "markdown",
      "metadata": {
        "id": "EFDq4tMUILFm"
      },
      "source": [
        "For each test user, we find any unseen courses based on the popular courses in his/her cluster to recommend.\n",
        "We also chose a threshold number of courses with a minimum of 20 enrollments.\n"
      ]
    },
    {
      "cell_type": "code",
      "execution_count": 55,
      "metadata": {
        "id": "mLsUdN5XILFm"
      },
      "outputs": [],
      "source": [
        "\n",
        "users = set(test_users_labelled['user'].unique() )\n",
        "items = set(test_users_labelled['item'].unique() )\n",
        "clusters = cluster_labels_df[ cluster_labels_df['user'].isin(users) ]\n",
        "threshold = 20\n",
        "\n",
        "ux = []\n",
        "cx = []\n",
        "recommended = []\n",
        "numb = []\n",
        "\n",
        "for user in users:\n",
        "  user_current_enrolled = set(test_users_labelled['item'][test_users_labelled['user'] == user].unique() )\n",
        "  user_not_enrolled = items.difference(user_current_enrolled)\n",
        "  cluster = clusters[clusters['user'] == user]['cluster'].iloc[0]\n",
        "  mask = ((courses_cluster_grouped['cluster'] == cluster) & (courses_cluster_grouped['item'].isin(user_not_enrolled) ) & (courses_cluster_grouped['enrollments'] >= threshold))\n",
        "  list_item = courses_cluster_grouped[mask]['item'].values\n",
        "  ux.append(user)\n",
        "  cx.append(cluster)\n",
        "  recommended.append(list_item)\n",
        "  numb.append(len(list_item))\n",
        "\n",
        "data_user = {\n",
        "    'user': ux,\n",
        "    'cluster': cx,\n",
        "    'recommended_number': numb,\n",
        "    'recommended_courses': recommended}\n",
        "\n",
        "df_1 = pd.DataFrame(data=data_user)\n"
      ]
    },
    {
      "cell_type": "code",
      "execution_count": 56,
      "metadata": {
        "colab": {
          "base_uri": "https://localhost:8080/",
          "height": 1000
        },
        "id": "rUu9IlqV2J6w",
        "outputId": "e8858c9d-b75c-4d60-ccfc-ef6c3f73b243"
      },
      "outputs": [
        {
          "data": {
            "text/html": [
              "<div>\n",
              "<style scoped>\n",
              "    .dataframe tbody tr th:only-of-type {\n",
              "        vertical-align: middle;\n",
              "    }\n",
              "\n",
              "    .dataframe tbody tr th {\n",
              "        vertical-align: top;\n",
              "    }\n",
              "\n",
              "    .dataframe thead th {\n",
              "        text-align: right;\n",
              "    }\n",
              "</style>\n",
              "<table border=\"1\" class=\"dataframe\">\n",
              "  <thead>\n",
              "    <tr style=\"text-align: right;\">\n",
              "      <th></th>\n",
              "      <th>user</th>\n",
              "      <th>cluster</th>\n",
              "      <th>recommended_number</th>\n",
              "      <th>recommended_courses</th>\n",
              "    </tr>\n",
              "  </thead>\n",
              "  <tbody>\n",
              "    <tr>\n",
              "      <th>623</th>\n",
              "      <td>1033458</td>\n",
              "      <td>6</td>\n",
              "      <td>23</td>\n",
              "      <td>[BC0101EN, BC0201EN, BD0101EN, BD0111EN, BD0141EN, BD0211EN, CB0103EN, CL0101EN, CO0101EN, CO0201EN, DA0101EN, DS0101EN, DS0103EN, DS0105EN, DS0301EN, DV0101EN, ML0101ENv3, ML0115EN, ML0122ENv1, PY0101EN, RP0101EN, SC0101EN, ST0101EN]</td>\n",
              "    </tr>\n",
              "    <tr>\n",
              "      <th>135</th>\n",
              "      <td>1022205</td>\n",
              "      <td>6</td>\n",
              "      <td>23</td>\n",
              "      <td>[BC0101EN, BC0201EN, BD0101EN, BD0111EN, BD0141EN, BD0211EN, CB0103EN, CL0101EN, CO0101EN, CO0201EN, DA0101EN, DS0101EN, DS0103EN, DS0105EN, DS0301EN, DV0101EN, ML0101ENv3, ML0115EN, ML0122ENv1, PY0101EN, RP0101EN, SC0101EN, ST0101EN]</td>\n",
              "    </tr>\n",
              "    <tr>\n",
              "      <th>330</th>\n",
              "      <td>938601</td>\n",
              "      <td>6</td>\n",
              "      <td>23</td>\n",
              "      <td>[BC0101EN, BC0201EN, BD0101EN, BD0111EN, BD0141EN, BD0211EN, CB0103EN, CL0101EN, CO0101EN, CO0201EN, DA0101EN, DS0101EN, DS0103EN, DS0105EN, DS0301EN, DV0101EN, ML0101ENv3, ML0115EN, ML0122ENv1, PY0101EN, RP0101EN, SC0101EN, ST0101EN]</td>\n",
              "    </tr>\n",
              "    <tr>\n",
              "      <th>701</th>\n",
              "      <td>1074551</td>\n",
              "      <td>6</td>\n",
              "      <td>23</td>\n",
              "      <td>[BC0101EN, BC0201EN, BD0101EN, BD0111EN, BD0141EN, BD0211EN, CB0103EN, CL0101EN, CO0101EN, CO0201EN, DA0101EN, DS0101EN, DS0103EN, DS0105EN, DS0301EN, DV0101EN, ML0101ENv3, ML0115EN, ML0122ENv1, PY0101EN, RP0101EN, SC0101EN, ST0101EN]</td>\n",
              "    </tr>\n",
              "    <tr>\n",
              "      <th>580</th>\n",
              "      <td>971918</td>\n",
              "      <td>6</td>\n",
              "      <td>23</td>\n",
              "      <td>[BC0101EN, BC0201EN, BD0101EN, BD0111EN, BD0141EN, BD0211EN, CB0103EN, CL0101EN, CO0101EN, CO0201EN, DA0101EN, DS0101EN, DS0103EN, DS0105EN, DS0301EN, DV0101EN, ML0101ENv3, ML0115EN, ML0122ENv1, PY0101EN, RP0101EN, SC0101EN, ST0101EN]</td>\n",
              "    </tr>\n",
              "    <tr>\n",
              "      <th>859</th>\n",
              "      <td>904909</td>\n",
              "      <td>6</td>\n",
              "      <td>23</td>\n",
              "      <td>[BC0101EN, BC0201EN, BD0101EN, BD0111EN, BD0141EN, BD0211EN, CB0103EN, CL0101EN, CO0101EN, CO0201EN, DA0101EN, DS0101EN, DS0103EN, DS0105EN, DS0301EN, DV0101EN, ML0101ENv3, ML0115EN, ML0122ENv1, PY0101EN, RP0101EN, SC0101EN, ST0101EN]</td>\n",
              "    </tr>\n",
              "    <tr>\n",
              "      <th>461</th>\n",
              "      <td>895893</td>\n",
              "      <td>6</td>\n",
              "      <td>23</td>\n",
              "      <td>[BC0101EN, BC0201EN, BD0101EN, BD0111EN, BD0141EN, BD0211EN, CB0103EN, CL0101EN, CO0101EN, CO0201EN, DA0101EN, DS0101EN, DS0103EN, DS0105EN, DS0301EN, DV0101EN, ML0101ENv3, ML0115EN, ML0122ENv1, PY0101EN, RP0101EN, SC0101EN, ST0101EN]</td>\n",
              "    </tr>\n",
              "    <tr>\n",
              "      <th>39</th>\n",
              "      <td>1089593</td>\n",
              "      <td>6</td>\n",
              "      <td>23</td>\n",
              "      <td>[BC0101EN, BC0201EN, BD0101EN, BD0111EN, BD0141EN, BD0211EN, CB0103EN, CL0101EN, CO0101EN, CO0201EN, DA0101EN, DS0101EN, DS0103EN, DS0105EN, DS0301EN, DV0101EN, ML0101ENv3, ML0115EN, ML0122ENv1, PY0101EN, RP0101EN, SC0101EN, ST0101EN]</td>\n",
              "    </tr>\n",
              "    <tr>\n",
              "      <th>395</th>\n",
              "      <td>1047316</td>\n",
              "      <td>6</td>\n",
              "      <td>23</td>\n",
              "      <td>[BC0101EN, BC0201EN, BD0101EN, BD0111EN, BD0141EN, BD0211EN, CB0103EN, CL0101EN, CO0101EN, CO0201EN, DA0101EN, DS0101EN, DS0103EN, DS0105EN, DS0301EN, DV0101EN, ML0101ENv3, ML0115EN, ML0122ENv1, PY0101EN, RP0101EN, SC0101EN, ST0101EN]</td>\n",
              "    </tr>\n",
              "    <tr>\n",
              "      <th>521</th>\n",
              "      <td>979987</td>\n",
              "      <td>6</td>\n",
              "      <td>23</td>\n",
              "      <td>[BC0101EN, BC0201EN, BD0101EN, BD0111EN, BD0141EN, BD0211EN, CB0103EN, CL0101EN, CO0101EN, CO0201EN, DA0101EN, DS0101EN, DS0103EN, DS0105EN, DS0301EN, DV0101EN, ML0101ENv3, ML0115EN, ML0122ENv1, PY0101EN, RP0101EN, SC0101EN, ST0101EN]</td>\n",
              "    </tr>\n",
              "    <tr>\n",
              "      <th>918</th>\n",
              "      <td>886610</td>\n",
              "      <td>6</td>\n",
              "      <td>23</td>\n",
              "      <td>[BC0101EN, BC0201EN, BD0101EN, BD0111EN, BD0141EN, BD0211EN, CB0103EN, CL0101EN, CO0101EN, CO0201EN, DA0101EN, DS0101EN, DS0103EN, DS0105EN, DS0301EN, DV0101EN, ML0101ENv3, ML0115EN, ML0122ENv1, PY0101EN, RP0101EN, SC0101EN, ST0101EN]</td>\n",
              "    </tr>\n",
              "    <tr>\n",
              "      <th>40</th>\n",
              "      <td>890938</td>\n",
              "      <td>6</td>\n",
              "      <td>22</td>\n",
              "      <td>[BC0101EN, BC0201EN, BD0101EN, BD0111EN, BD0141EN, BD0211EN, CB0103EN, CL0101EN, CO0101EN, CO0201EN, DA0101EN, DS0101EN, DS0103EN, DS0105EN, DS0301EN, DV0101EN, ML0101ENv3, ML0115EN, PY0101EN, RP0101EN, SC0101EN, ST0101EN]</td>\n",
              "    </tr>\n",
              "    <tr>\n",
              "      <th>550</th>\n",
              "      <td>934989</td>\n",
              "      <td>6</td>\n",
              "      <td>22</td>\n",
              "      <td>[BC0101EN, BC0201EN, BD0101EN, BD0111EN, BD0141EN, BD0211EN, CB0103EN, CL0101EN, CO0101EN, CO0201EN, DA0101EN, DS0101EN, DS0103EN, DS0105EN, DS0301EN, DV0101EN, ML0101ENv3, ML0115EN, PY0101EN, RP0101EN, SC0101EN, ST0101EN]</td>\n",
              "    </tr>\n",
              "    <tr>\n",
              "      <th>953</th>\n",
              "      <td>999322</td>\n",
              "      <td>6</td>\n",
              "      <td>22</td>\n",
              "      <td>[BC0101EN, BC0201EN, BD0101EN, BD0111EN, BD0141EN, BD0211EN, CB0103EN, CO0101EN, CO0201EN, DA0101EN, DS0101EN, DS0103EN, DS0105EN, DS0301EN, DV0101EN, ML0101ENv3, ML0115EN, ML0122ENv1, PY0101EN, RP0101EN, SC0101EN, ST0101EN]</td>\n",
              "    </tr>\n",
              "    <tr>\n",
              "      <th>711</th>\n",
              "      <td>935303</td>\n",
              "      <td>6</td>\n",
              "      <td>22</td>\n",
              "      <td>[BC0101EN, BC0201EN, BD0101EN, BD0111EN, BD0141EN, BD0211EN, CB0103EN, CL0101EN, CO0101EN, CO0201EN, DA0101EN, DS0101EN, DS0103EN, DS0105EN, DS0301EN, DV0101EN, ML0101ENv3, ML0115EN, PY0101EN, RP0101EN, SC0101EN, ST0101EN]</td>\n",
              "    </tr>\n",
              "    <tr>\n",
              "      <th>294</th>\n",
              "      <td>1030714</td>\n",
              "      <td>6</td>\n",
              "      <td>22</td>\n",
              "      <td>[BC0101EN, BD0101EN, BD0111EN, BD0141EN, BD0211EN, CB0103EN, CL0101EN, CO0101EN, CO0201EN, DA0101EN, DS0101EN, DS0103EN, DS0105EN, DS0301EN, DV0101EN, ML0101ENv3, ML0115EN, ML0122ENv1, PY0101EN, RP0101EN, SC0101EN, ST0101EN]</td>\n",
              "    </tr>\n",
              "    <tr>\n",
              "      <th>946</th>\n",
              "      <td>1044364</td>\n",
              "      <td>6</td>\n",
              "      <td>22</td>\n",
              "      <td>[BC0101EN, BD0101EN, BD0111EN, BD0141EN, BD0211EN, CB0103EN, CL0101EN, CO0101EN, CO0201EN, DA0101EN, DS0101EN, DS0103EN, DS0105EN, DS0301EN, DV0101EN, ML0101ENv3, ML0115EN, ML0122ENv1, PY0101EN, RP0101EN, SC0101EN, ST0101EN]</td>\n",
              "    </tr>\n",
              "    <tr>\n",
              "      <th>710</th>\n",
              "      <td>1045895</td>\n",
              "      <td>6</td>\n",
              "      <td>22</td>\n",
              "      <td>[BC0101EN, BD0101EN, BD0111EN, BD0141EN, BD0211EN, CB0103EN, CL0101EN, CO0101EN, CO0201EN, DA0101EN, DS0101EN, DS0103EN, DS0105EN, DS0301EN, DV0101EN, ML0101ENv3, ML0115EN, ML0122ENv1, PY0101EN, RP0101EN, SC0101EN, ST0101EN]</td>\n",
              "    </tr>\n",
              "    <tr>\n",
              "      <th>287</th>\n",
              "      <td>1030704</td>\n",
              "      <td>6</td>\n",
              "      <td>22</td>\n",
              "      <td>[BC0101EN, BD0101EN, BD0111EN, BD0141EN, BD0211EN, CB0103EN, CL0101EN, CO0101EN, CO0201EN, DA0101EN, DS0101EN, DS0103EN, DS0105EN, DS0301EN, DV0101EN, ML0101ENv3, ML0115EN, ML0122ENv1, PY0101EN, RP0101EN, SC0101EN, ST0101EN]</td>\n",
              "    </tr>\n",
              "    <tr>\n",
              "      <th>556</th>\n",
              "      <td>883804</td>\n",
              "      <td>6</td>\n",
              "      <td>22</td>\n",
              "      <td>[BC0101EN, BC0201EN, BD0101EN, BD0111EN, BD0141EN, CB0103EN, CL0101EN, CO0101EN, CO0201EN, DA0101EN, DS0101EN, DS0103EN, DS0105EN, DS0301EN, DV0101EN, ML0101ENv3, ML0115EN, ML0122ENv1, PY0101EN, RP0101EN, SC0101EN, ST0101EN]</td>\n",
              "    </tr>\n",
              "  </tbody>\n",
              "</table>\n",
              "</div>"
            ],
            "text/plain": [
              "        user  cluster  recommended_number  \\\n",
              "623  1033458        6                  23   \n",
              "135  1022205        6                  23   \n",
              "330   938601        6                  23   \n",
              "701  1074551        6                  23   \n",
              "580   971918        6                  23   \n",
              "859   904909        6                  23   \n",
              "461   895893        6                  23   \n",
              "39   1089593        6                  23   \n",
              "395  1047316        6                  23   \n",
              "521   979987        6                  23   \n",
              "918   886610        6                  23   \n",
              "40    890938        6                  22   \n",
              "550   934989        6                  22   \n",
              "953   999322        6                  22   \n",
              "711   935303        6                  22   \n",
              "294  1030714        6                  22   \n",
              "946  1044364        6                  22   \n",
              "710  1045895        6                  22   \n",
              "287  1030704        6                  22   \n",
              "556   883804        6                  22   \n",
              "\n",
              "                                                                                                                                                                                                                            recommended_courses  \n",
              "623  [BC0101EN, BC0201EN, BD0101EN, BD0111EN, BD0141EN, BD0211EN, CB0103EN, CL0101EN, CO0101EN, CO0201EN, DA0101EN, DS0101EN, DS0103EN, DS0105EN, DS0301EN, DV0101EN, ML0101ENv3, ML0115EN, ML0122ENv1, PY0101EN, RP0101EN, SC0101EN, ST0101EN]  \n",
              "135  [BC0101EN, BC0201EN, BD0101EN, BD0111EN, BD0141EN, BD0211EN, CB0103EN, CL0101EN, CO0101EN, CO0201EN, DA0101EN, DS0101EN, DS0103EN, DS0105EN, DS0301EN, DV0101EN, ML0101ENv3, ML0115EN, ML0122ENv1, PY0101EN, RP0101EN, SC0101EN, ST0101EN]  \n",
              "330  [BC0101EN, BC0201EN, BD0101EN, BD0111EN, BD0141EN, BD0211EN, CB0103EN, CL0101EN, CO0101EN, CO0201EN, DA0101EN, DS0101EN, DS0103EN, DS0105EN, DS0301EN, DV0101EN, ML0101ENv3, ML0115EN, ML0122ENv1, PY0101EN, RP0101EN, SC0101EN, ST0101EN]  \n",
              "701  [BC0101EN, BC0201EN, BD0101EN, BD0111EN, BD0141EN, BD0211EN, CB0103EN, CL0101EN, CO0101EN, CO0201EN, DA0101EN, DS0101EN, DS0103EN, DS0105EN, DS0301EN, DV0101EN, ML0101ENv3, ML0115EN, ML0122ENv1, PY0101EN, RP0101EN, SC0101EN, ST0101EN]  \n",
              "580  [BC0101EN, BC0201EN, BD0101EN, BD0111EN, BD0141EN, BD0211EN, CB0103EN, CL0101EN, CO0101EN, CO0201EN, DA0101EN, DS0101EN, DS0103EN, DS0105EN, DS0301EN, DV0101EN, ML0101ENv3, ML0115EN, ML0122ENv1, PY0101EN, RP0101EN, SC0101EN, ST0101EN]  \n",
              "859  [BC0101EN, BC0201EN, BD0101EN, BD0111EN, BD0141EN, BD0211EN, CB0103EN, CL0101EN, CO0101EN, CO0201EN, DA0101EN, DS0101EN, DS0103EN, DS0105EN, DS0301EN, DV0101EN, ML0101ENv3, ML0115EN, ML0122ENv1, PY0101EN, RP0101EN, SC0101EN, ST0101EN]  \n",
              "461  [BC0101EN, BC0201EN, BD0101EN, BD0111EN, BD0141EN, BD0211EN, CB0103EN, CL0101EN, CO0101EN, CO0201EN, DA0101EN, DS0101EN, DS0103EN, DS0105EN, DS0301EN, DV0101EN, ML0101ENv3, ML0115EN, ML0122ENv1, PY0101EN, RP0101EN, SC0101EN, ST0101EN]  \n",
              "39   [BC0101EN, BC0201EN, BD0101EN, BD0111EN, BD0141EN, BD0211EN, CB0103EN, CL0101EN, CO0101EN, CO0201EN, DA0101EN, DS0101EN, DS0103EN, DS0105EN, DS0301EN, DV0101EN, ML0101ENv3, ML0115EN, ML0122ENv1, PY0101EN, RP0101EN, SC0101EN, ST0101EN]  \n",
              "395  [BC0101EN, BC0201EN, BD0101EN, BD0111EN, BD0141EN, BD0211EN, CB0103EN, CL0101EN, CO0101EN, CO0201EN, DA0101EN, DS0101EN, DS0103EN, DS0105EN, DS0301EN, DV0101EN, ML0101ENv3, ML0115EN, ML0122ENv1, PY0101EN, RP0101EN, SC0101EN, ST0101EN]  \n",
              "521  [BC0101EN, BC0201EN, BD0101EN, BD0111EN, BD0141EN, BD0211EN, CB0103EN, CL0101EN, CO0101EN, CO0201EN, DA0101EN, DS0101EN, DS0103EN, DS0105EN, DS0301EN, DV0101EN, ML0101ENv3, ML0115EN, ML0122ENv1, PY0101EN, RP0101EN, SC0101EN, ST0101EN]  \n",
              "918  [BC0101EN, BC0201EN, BD0101EN, BD0111EN, BD0141EN, BD0211EN, CB0103EN, CL0101EN, CO0101EN, CO0201EN, DA0101EN, DS0101EN, DS0103EN, DS0105EN, DS0301EN, DV0101EN, ML0101ENv3, ML0115EN, ML0122ENv1, PY0101EN, RP0101EN, SC0101EN, ST0101EN]  \n",
              "40               [BC0101EN, BC0201EN, BD0101EN, BD0111EN, BD0141EN, BD0211EN, CB0103EN, CL0101EN, CO0101EN, CO0201EN, DA0101EN, DS0101EN, DS0103EN, DS0105EN, DS0301EN, DV0101EN, ML0101ENv3, ML0115EN, PY0101EN, RP0101EN, SC0101EN, ST0101EN]  \n",
              "550              [BC0101EN, BC0201EN, BD0101EN, BD0111EN, BD0141EN, BD0211EN, CB0103EN, CL0101EN, CO0101EN, CO0201EN, DA0101EN, DS0101EN, DS0103EN, DS0105EN, DS0301EN, DV0101EN, ML0101ENv3, ML0115EN, PY0101EN, RP0101EN, SC0101EN, ST0101EN]  \n",
              "953            [BC0101EN, BC0201EN, BD0101EN, BD0111EN, BD0141EN, BD0211EN, CB0103EN, CO0101EN, CO0201EN, DA0101EN, DS0101EN, DS0103EN, DS0105EN, DS0301EN, DV0101EN, ML0101ENv3, ML0115EN, ML0122ENv1, PY0101EN, RP0101EN, SC0101EN, ST0101EN]  \n",
              "711              [BC0101EN, BC0201EN, BD0101EN, BD0111EN, BD0141EN, BD0211EN, CB0103EN, CL0101EN, CO0101EN, CO0201EN, DA0101EN, DS0101EN, DS0103EN, DS0105EN, DS0301EN, DV0101EN, ML0101ENv3, ML0115EN, PY0101EN, RP0101EN, SC0101EN, ST0101EN]  \n",
              "294            [BC0101EN, BD0101EN, BD0111EN, BD0141EN, BD0211EN, CB0103EN, CL0101EN, CO0101EN, CO0201EN, DA0101EN, DS0101EN, DS0103EN, DS0105EN, DS0301EN, DV0101EN, ML0101ENv3, ML0115EN, ML0122ENv1, PY0101EN, RP0101EN, SC0101EN, ST0101EN]  \n",
              "946            [BC0101EN, BD0101EN, BD0111EN, BD0141EN, BD0211EN, CB0103EN, CL0101EN, CO0101EN, CO0201EN, DA0101EN, DS0101EN, DS0103EN, DS0105EN, DS0301EN, DV0101EN, ML0101ENv3, ML0115EN, ML0122ENv1, PY0101EN, RP0101EN, SC0101EN, ST0101EN]  \n",
              "710            [BC0101EN, BD0101EN, BD0111EN, BD0141EN, BD0211EN, CB0103EN, CL0101EN, CO0101EN, CO0201EN, DA0101EN, DS0101EN, DS0103EN, DS0105EN, DS0301EN, DV0101EN, ML0101ENv3, ML0115EN, ML0122ENv1, PY0101EN, RP0101EN, SC0101EN, ST0101EN]  \n",
              "287            [BC0101EN, BD0101EN, BD0111EN, BD0141EN, BD0211EN, CB0103EN, CL0101EN, CO0101EN, CO0201EN, DA0101EN, DS0101EN, DS0103EN, DS0105EN, DS0301EN, DV0101EN, ML0101ENv3, ML0115EN, ML0122ENv1, PY0101EN, RP0101EN, SC0101EN, ST0101EN]  \n",
              "556            [BC0101EN, BC0201EN, BD0101EN, BD0111EN, BD0141EN, CB0103EN, CL0101EN, CO0101EN, CO0201EN, DA0101EN, DS0101EN, DS0103EN, DS0105EN, DS0301EN, DV0101EN, ML0101ENv3, ML0115EN, ML0122ENv1, PY0101EN, RP0101EN, SC0101EN, ST0101EN]  "
            ]
          },
          "execution_count": 56,
          "metadata": {},
          "output_type": "execute_result"
        }
      ],
      "source": [
        "#pd.set_option('display.max_rows', None)\n",
        "pd.set_option('max_colwidth', None)\n",
        "\n",
        "df_1.sort_values(by='recommended_number',ascending=False).head(20)"
      ]
    },
    {
      "cell_type": "markdown",
      "metadata": {},
      "source": [
        "With the recommendation results, we need to answer the following two questions:\n",
        "\n",
        "- On average, how many new/unseen courses have been recommended to each user?\n",
        "- What are the most frequently recommended courses? Return the top-10 commonly recommended courses across all users."
      ]
    },
    {
      "cell_type": "code",
      "execution_count": 57,
      "metadata": {},
      "outputs": [
        {
          "data": {
            "text/html": [
              "<div>\n",
              "<style scoped>\n",
              "    .dataframe tbody tr th:only-of-type {\n",
              "        vertical-align: middle;\n",
              "    }\n",
              "\n",
              "    .dataframe tbody tr th {\n",
              "        vertical-align: top;\n",
              "    }\n",
              "\n",
              "    .dataframe thead th {\n",
              "        text-align: right;\n",
              "    }\n",
              "</style>\n",
              "<table border=\"1\" class=\"dataframe\">\n",
              "  <thead>\n",
              "    <tr style=\"text-align: right;\">\n",
              "      <th></th>\n",
              "      <th>user</th>\n",
              "      <th>cluster</th>\n",
              "      <th>recommended_number</th>\n",
              "      <th>recommended_courses</th>\n",
              "    </tr>\n",
              "  </thead>\n",
              "  <tbody>\n",
              "    <tr>\n",
              "      <th>count</th>\n",
              "      <td>1.000000e+03</td>\n",
              "      <td>1000.00000</td>\n",
              "      <td>1000.000000</td>\n",
              "      <td>1000</td>\n",
              "    </tr>\n",
              "    <tr>\n",
              "      <th>unique</th>\n",
              "      <td>NaN</td>\n",
              "      <td>NaN</td>\n",
              "      <td>NaN</td>\n",
              "      <td>979</td>\n",
              "    </tr>\n",
              "    <tr>\n",
              "      <th>top</th>\n",
              "      <td>NaN</td>\n",
              "      <td>NaN</td>\n",
              "      <td>NaN</td>\n",
              "      <td>[CC0101EN]</td>\n",
              "    </tr>\n",
              "    <tr>\n",
              "      <th>freq</th>\n",
              "      <td>NaN</td>\n",
              "      <td>NaN</td>\n",
              "      <td>NaN</td>\n",
              "      <td>8</td>\n",
              "    </tr>\n",
              "    <tr>\n",
              "      <th>mean</th>\n",
              "      <td>1.049213e+06</td>\n",
              "      <td>3.46700</td>\n",
              "      <td>10.980000</td>\n",
              "      <td>NaN</td>\n",
              "    </tr>\n",
              "    <tr>\n",
              "      <th>std</th>\n",
              "      <td>4.964586e+05</td>\n",
              "      <td>2.32902</td>\n",
              "      <td>5.884746</td>\n",
              "      <td>NaN</td>\n",
              "    </tr>\n",
              "    <tr>\n",
              "      <th>min</th>\n",
              "      <td>9.000000e+00</td>\n",
              "      <td>0.00000</td>\n",
              "      <td>0.000000</td>\n",
              "      <td>NaN</td>\n",
              "    </tr>\n",
              "    <tr>\n",
              "      <th>25%</th>\n",
              "      <td>6.699710e+05</td>\n",
              "      <td>1.00000</td>\n",
              "      <td>7.000000</td>\n",
              "      <td>NaN</td>\n",
              "    </tr>\n",
              "    <tr>\n",
              "      <th>50%</th>\n",
              "      <td>1.023115e+06</td>\n",
              "      <td>4.00000</td>\n",
              "      <td>11.000000</td>\n",
              "      <td>NaN</td>\n",
              "    </tr>\n",
              "    <tr>\n",
              "      <th>75%</th>\n",
              "      <td>1.438584e+06</td>\n",
              "      <td>6.00000</td>\n",
              "      <td>15.000000</td>\n",
              "      <td>NaN</td>\n",
              "    </tr>\n",
              "    <tr>\n",
              "      <th>max</th>\n",
              "      <td>2.102680e+06</td>\n",
              "      <td>7.00000</td>\n",
              "      <td>23.000000</td>\n",
              "      <td>NaN</td>\n",
              "    </tr>\n",
              "  </tbody>\n",
              "</table>\n",
              "</div>"
            ],
            "text/plain": [
              "                user     cluster  recommended_number recommended_courses\n",
              "count   1.000000e+03  1000.00000         1000.000000                1000\n",
              "unique           NaN         NaN                 NaN                 979\n",
              "top              NaN         NaN                 NaN          [CC0101EN]\n",
              "freq             NaN         NaN                 NaN                   8\n",
              "mean    1.049213e+06     3.46700           10.980000                 NaN\n",
              "std     4.964586e+05     2.32902            5.884746                 NaN\n",
              "min     9.000000e+00     0.00000            0.000000                 NaN\n",
              "25%     6.699710e+05     1.00000            7.000000                 NaN\n",
              "50%     1.023115e+06     4.00000           11.000000                 NaN\n",
              "75%     1.438584e+06     6.00000           15.000000                 NaN\n",
              "max     2.102680e+06     7.00000           23.000000                 NaN"
            ]
          },
          "execution_count": 57,
          "metadata": {},
          "output_type": "execute_result"
        }
      ],
      "source": [
        "df_1.describe(include='all')"
      ]
    },
    {
      "cell_type": "markdown",
      "metadata": {},
      "source": [
        "From the dataframe's description, we can see that about 11 courses are recommended per user."
      ]
    },
    {
      "cell_type": "code",
      "execution_count": 64,
      "metadata": {},
      "outputs": [
        {
          "data": {
            "text/html": [
              "<div>\n",
              "<style scoped>\n",
              "    .dataframe tbody tr th:only-of-type {\n",
              "        vertical-align: middle;\n",
              "    }\n",
              "\n",
              "    .dataframe tbody tr th {\n",
              "        vertical-align: top;\n",
              "    }\n",
              "\n",
              "    .dataframe thead th {\n",
              "        text-align: right;\n",
              "    }\n",
              "</style>\n",
              "<table border=\"1\" class=\"dataframe\">\n",
              "  <thead>\n",
              "    <tr style=\"text-align: right;\">\n",
              "      <th></th>\n",
              "      <th>COURSE_ID</th>\n",
              "      <th>Count</th>\n",
              "    </tr>\n",
              "  </thead>\n",
              "  <tbody>\n",
              "    <tr>\n",
              "      <th>0</th>\n",
              "      <td>DS0103EN</td>\n",
              "      <td>677</td>\n",
              "    </tr>\n",
              "    <tr>\n",
              "      <th>1</th>\n",
              "      <td>BD0111EN</td>\n",
              "      <td>628</td>\n",
              "    </tr>\n",
              "    <tr>\n",
              "      <th>2</th>\n",
              "      <td>BD0211EN</td>\n",
              "      <td>617</td>\n",
              "    </tr>\n",
              "    <tr>\n",
              "      <th>3</th>\n",
              "      <td>ML0115EN</td>\n",
              "      <td>579</td>\n",
              "    </tr>\n",
              "    <tr>\n",
              "      <th>4</th>\n",
              "      <td>DA0101EN</td>\n",
              "      <td>571</td>\n",
              "    </tr>\n",
              "    <tr>\n",
              "      <th>5</th>\n",
              "      <td>DS0105EN</td>\n",
              "      <td>567</td>\n",
              "    </tr>\n",
              "    <tr>\n",
              "      <th>6</th>\n",
              "      <td>BD0101EN</td>\n",
              "      <td>564</td>\n",
              "    </tr>\n",
              "    <tr>\n",
              "      <th>7</th>\n",
              "      <td>PY0101EN</td>\n",
              "      <td>533</td>\n",
              "    </tr>\n",
              "    <tr>\n",
              "      <th>8</th>\n",
              "      <td>DS0101EN</td>\n",
              "      <td>533</td>\n",
              "    </tr>\n",
              "    <tr>\n",
              "      <th>9</th>\n",
              "      <td>ST0101EN</td>\n",
              "      <td>510</td>\n",
              "    </tr>\n",
              "  </tbody>\n",
              "</table>\n",
              "</div>"
            ],
            "text/plain": [
              "  COURSE_ID  Count\n",
              "0  DS0103EN    677\n",
              "1  BD0111EN    628\n",
              "2  BD0211EN    617\n",
              "3  ML0115EN    579\n",
              "4  DA0101EN    571\n",
              "5  DS0105EN    567\n",
              "6  BD0101EN    564\n",
              "7  PY0101EN    533\n",
              "8  DS0101EN    533\n",
              "9  ST0101EN    510"
            ]
          },
          "execution_count": 64,
          "metadata": {},
          "output_type": "execute_result"
        }
      ],
      "source": [
        "# To collect the most recommended courses, we collect them in a list and count the 10 most recoommended courses\n",
        "\n",
        "courses_1 = df_1['recommended_courses'].values\n",
        "\n",
        "courses_flat = []\n",
        "for x in courses_1:\n",
        "    for y in x:\n",
        "        courses_flat.append(y)\n",
        "\n",
        "df_2 = pd.DataFrame(pd.Series(courses_flat).value_counts()[:10], columns=['Count'])\n",
        "df_2 = df_2.reset_index().rename_axis(index=None, columns=None).rename(columns={\"index\": \"COURSE_ID\"})\n",
        "df_2 "
      ]
    },
    {
      "cell_type": "markdown",
      "metadata": {},
      "source": [
        "To find the names of those courses, we need to load the `course_genres_df` dataset to extract the names from the `COURSE_ID`."
      ]
    },
    {
      "cell_type": "code",
      "execution_count": 46,
      "metadata": {},
      "outputs": [],
      "source": [
        "course_genres_df = pd.read_csv('course_genre.csv')"
      ]
    },
    {
      "cell_type": "code",
      "execution_count": 65,
      "metadata": {},
      "outputs": [
        {
          "data": {
            "text/html": [
              "<div>\n",
              "<style scoped>\n",
              "    .dataframe tbody tr th:only-of-type {\n",
              "        vertical-align: middle;\n",
              "    }\n",
              "\n",
              "    .dataframe tbody tr th {\n",
              "        vertical-align: top;\n",
              "    }\n",
              "\n",
              "    .dataframe thead th {\n",
              "        text-align: right;\n",
              "    }\n",
              "</style>\n",
              "<table border=\"1\" class=\"dataframe\">\n",
              "  <thead>\n",
              "    <tr style=\"text-align: right;\">\n",
              "      <th></th>\n",
              "      <th>COURSE_ID</th>\n",
              "      <th>Count</th>\n",
              "      <th>TITLE</th>\n",
              "    </tr>\n",
              "  </thead>\n",
              "  <tbody>\n",
              "    <tr>\n",
              "      <th>0</th>\n",
              "      <td>DS0103EN</td>\n",
              "      <td>677</td>\n",
              "      <td>data science methodology</td>\n",
              "    </tr>\n",
              "    <tr>\n",
              "      <th>1</th>\n",
              "      <td>BD0111EN</td>\n",
              "      <td>628</td>\n",
              "      <td>hadoop 101</td>\n",
              "    </tr>\n",
              "    <tr>\n",
              "      <th>2</th>\n",
              "      <td>BD0211EN</td>\n",
              "      <td>617</td>\n",
              "      <td>spark fundamentals i</td>\n",
              "    </tr>\n",
              "    <tr>\n",
              "      <th>3</th>\n",
              "      <td>ML0115EN</td>\n",
              "      <td>579</td>\n",
              "      <td>deep learning 101</td>\n",
              "    </tr>\n",
              "    <tr>\n",
              "      <th>4</th>\n",
              "      <td>DA0101EN</td>\n",
              "      <td>571</td>\n",
              "      <td>data analysis with python</td>\n",
              "    </tr>\n",
              "    <tr>\n",
              "      <th>5</th>\n",
              "      <td>DS0105EN</td>\n",
              "      <td>567</td>\n",
              "      <td>data science hands on with open source tools</td>\n",
              "    </tr>\n",
              "    <tr>\n",
              "      <th>6</th>\n",
              "      <td>BD0101EN</td>\n",
              "      <td>564</td>\n",
              "      <td>big data 101</td>\n",
              "    </tr>\n",
              "    <tr>\n",
              "      <th>7</th>\n",
              "      <td>PY0101EN</td>\n",
              "      <td>533</td>\n",
              "      <td>python for data science</td>\n",
              "    </tr>\n",
              "    <tr>\n",
              "      <th>8</th>\n",
              "      <td>DS0101EN</td>\n",
              "      <td>533</td>\n",
              "      <td>introduction to data science</td>\n",
              "    </tr>\n",
              "    <tr>\n",
              "      <th>9</th>\n",
              "      <td>ST0101EN</td>\n",
              "      <td>510</td>\n",
              "      <td>statistics 101</td>\n",
              "    </tr>\n",
              "  </tbody>\n",
              "</table>\n",
              "</div>"
            ],
            "text/plain": [
              "  COURSE_ID  Count                                         TITLE\n",
              "0  DS0103EN    677                      data science methodology\n",
              "1  BD0111EN    628                                    hadoop 101\n",
              "2  BD0211EN    617                          spark fundamentals i\n",
              "3  ML0115EN    579                             deep learning 101\n",
              "4  DA0101EN    571                     data analysis with python\n",
              "5  DS0105EN    567  data science hands on with open source tools\n",
              "6  BD0101EN    564                                  big data 101\n",
              "7  PY0101EN    533                       python for data science\n",
              "8  DS0101EN    533                  introduction to data science\n",
              "9  ST0101EN    510                                statistics 101"
            ]
          },
          "execution_count": 65,
          "metadata": {},
          "output_type": "execute_result"
        }
      ],
      "source": [
        "mask = course_genres_df['COURSE_ID'].isin(pd.Series(courses_flat).value_counts()[:10].axes[0].values)\n",
        "df_3 = course_genres_df[mask][['COURSE_ID','TITLE']].reset_index(drop=True)\n",
        "\n",
        "pd.merge(df_2,df_3, left_on='COURSE_ID', right_on='COURSE_ID')"
      ]
    },
    {
      "cell_type": "markdown",
      "metadata": {},
      "source": [
        "And that is the list of the 10-most recommended courses."
      ]
    },
    {
      "cell_type": "markdown",
      "metadata": {},
      "source": [
        "----"
      ]
    },
    {
      "cell_type": "markdown",
      "metadata": {},
      "source": [
        "In the next notebook, we perform KNN and NMF-based collaborative filtering on the user-item interaction matrix. For this we are going to use the *Surprise*. *Surprise* is a Python sci-kit library for recommender systems."
      ]
    }
  ],
  "metadata": {
    "colab": {
      "provenance": []
    },
    "kernelspec": {
      "display_name": "Python 3 (ipykernel)",
      "language": "python",
      "name": "python3"
    },
    "language_info": {
      "codemirror_mode": {
        "name": "ipython",
        "version": 3
      },
      "file_extension": ".py",
      "mimetype": "text/x-python",
      "name": "python",
      "nbconvert_exporter": "python",
      "pygments_lexer": "ipython3",
      "version": "3.11.8"
    },
    "prev_pub_hash": "d899978db1581db63031f0140d51fc0351b0ebb9ee7f1bb3ee56c5d7120a34ff"
  },
  "nbformat": 4,
  "nbformat_minor": 0
}
