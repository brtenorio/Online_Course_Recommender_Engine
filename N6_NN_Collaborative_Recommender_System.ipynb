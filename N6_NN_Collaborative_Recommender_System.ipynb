{
  "cells": [
    {
      "cell_type": "markdown",
      "metadata": {
        "id": "96bf8be2-d336-4d67-8c00-157efc0a7ecd"
      },
      "source": [
        "# **Course Rating Prediction using Neural Networks**\n"
      ]
    },
    {
      "cell_type": "markdown",
      "metadata": {
        "id": "d92ce8bc-666f-4f7e-b9cf-902444784b0b"
      },
      "source": [
        "In our previous Notebook, we have crafted several types of user and item feature vectors. With these explicit features vectors, we can perform machine learning tasks such as calculating the similarities among users or items, finding nearest neighbors, and using dot-product to estimate a rating value. \n",
        "\n",
        "The main advantage of using these explicit features is they are highly interpretable and yield very good performance as well. The main disadvantage is we need to spend quite some effort to build and store them.\n"
      ]
    },
    {
      "cell_type": "markdown",
      "metadata": {
        "id": "b5566430-e1c3-484e-b4c8-2bae4b6cb851"
      },
      "source": [
        "Nonetheless, it is possible to predict a rating without building explicit feature vectors beforehand using Neural Networks.\n",
        "\n",
        "The Non-negative Matrix Factorization decomposes the **user-item interaction matrix** into **user matrix** and **item matrix**, which contain the **latent features** of users and items and we can simply dot-product them to get an estimated rating.\n"
      ]
    },
    {
      "cell_type": "markdown",
      "metadata": {
        "id": "e59271b9-823d-4a6e-9880-d998da9c4659"
      },
      "source": [
        "![](https://cf-courses-data.s3.us.cloud-object-storage.appdomain.cloud/IBM-ML321EN-SkillsNetwork/labs/module_4/images/nmf.png)\n"
      ]
    },
    {
      "cell_type": "markdown",
      "metadata": {
        "id": "0b4e3e5b-5c3b-40c2-9a52-99ac04a7034d"
      },
      "source": [
        "In addition to NMF, neural networks can also be used to extract the latent user and item features. In fact,  neural networks are very good at learning patterns from data and are widely used to extract latent features.  When training neural networks, it gradually captures and stores the features within its hidden layers as weight matrices and can be extracted to represent the original data.\n"
      ]
    },
    {
      "cell_type": "markdown",
      "metadata": {},
      "source": [
        "In the workflow, we first extract two embedding matrices out of the neural network, and aggregate them to be a single interaction feature vector as input data `X`.\n"
      ]
    },
    {
      "cell_type": "markdown",
      "metadata": {
        "id": "35f65caf-6524-4366-839a-2b9e368c478b"
      },
      "source": [
        "## Objectives\n"
      ]
    },
    {
      "cell_type": "markdown",
      "metadata": {
        "id": "280579ff-ce45-4943-9553-09626580ce60"
      },
      "source": [
        "After completing this lab you will be able to:\n"
      ]
    },
    {
      "cell_type": "markdown",
      "metadata": {
        "id": "bd5c8fa5-0b8c-403a-b71f-4f406466d407"
      },
      "source": [
        "* Use `tensorflow` to train neural networks to extract the user and item latent features from the hidden's layers  \n",
        "* Predict course ratings with trained neural networks\n",
        "* Build classification models to predict rating modes using the combined embedding vectors\n"
      ]
    },
    {
      "cell_type": "markdown",
      "metadata": {
        "id": "d94ad96a-fee1-4a74-9e7e-708ca31aecc9"
      },
      "source": [
        "----\n"
      ]
    },
    {
      "cell_type": "code",
      "execution_count": 1,
      "metadata": {},
      "outputs": [],
      "source": [
        "import matplotlib.pyplot as plt\n",
        "import seaborn as sns\n",
        "%matplotlib inline"
      ]
    },
    {
      "cell_type": "code",
      "execution_count": 2,
      "metadata": {
        "id": "1736e3bb-1934-4ea8-bbc5-619b897ae128"
      },
      "outputs": [],
      "source": [
        "import tensorflow as tf\n",
        "import numpy as np\n",
        "import matplotlib.pyplot as plt\n",
        "from tensorflow import keras\n",
        "#from tensorflow.keras import layers\n",
        "import pandas as pd\n",
        "from sklearn.model_selection import train_test_split\n",
        "from sklearn.preprocessing import MinMaxScaler\n",
        "\n",
        "from sklearn.preprocessing import LabelEncoder\n",
        "from sklearn.metrics import accuracy_score, precision_recall_fscore_support\n",
        "from sklearn.linear_model import LogisticRegression\n",
        "from sklearn.ensemble import RandomForestClassifier"
      ]
    },
    {
      "cell_type": "code",
      "execution_count": 3,
      "metadata": {},
      "outputs": [],
      "source": [
        "from sklearn.linear_model import Ridge\n",
        "from sklearn.metrics import mean_squared_error, accuracy_score\n",
        "import math \n",
        "from sklearn.model_selection import RandomizedSearchCV\n",
        "from sklearn.ensemble import RandomForestClassifier\n",
        "from xgboost import XGBClassifier\n",
        "from xgboost import XGBRegressor"
      ]
    },
    {
      "cell_type": "code",
      "execution_count": 4,
      "metadata": {
        "id": "cEF6xhPzWKkN"
      },
      "outputs": [],
      "source": [
        "from keras.layers import Input, Dot, Embedding, Activation, Add\n",
        "from keras.models import Model\n",
        "from keras.utils import to_categorical"
      ]
    },
    {
      "cell_type": "code",
      "execution_count": 5,
      "metadata": {
        "id": "1a620ef3-2572-424f-8076-36dd54c8fb2e"
      },
      "outputs": [],
      "source": [
        "# also set a random state\n",
        "rs = 42"
      ]
    },
    {
      "cell_type": "markdown",
      "metadata": {
        "id": "ea62446e-bcf7-45b4-92c4-378c22155105"
      },
      "source": [
        "### Load and processing rating dataset\n"
      ]
    },
    {
      "cell_type": "code",
      "execution_count": 6,
      "metadata": {
        "colab": {
          "base_uri": "https://localhost:8080/",
          "height": 206
        },
        "id": "e1cf70b7-5df0-4250-a25f-fd4a9a39f3fc",
        "outputId": "80f36475-36f8-48a1-f687-af8fe908b2cf"
      },
      "outputs": [
        {
          "name": "stdout",
          "output_type": "stream",
          "text": [
            "(233306, 3)\n"
          ]
        },
        {
          "data": {
            "text/html": [
              "<div>\n",
              "<style scoped>\n",
              "    .dataframe tbody tr th:only-of-type {\n",
              "        vertical-align: middle;\n",
              "    }\n",
              "\n",
              "    .dataframe tbody tr th {\n",
              "        vertical-align: top;\n",
              "    }\n",
              "\n",
              "    .dataframe thead th {\n",
              "        text-align: right;\n",
              "    }\n",
              "</style>\n",
              "<table border=\"1\" class=\"dataframe\">\n",
              "  <thead>\n",
              "    <tr style=\"text-align: right;\">\n",
              "      <th></th>\n",
              "      <th>user</th>\n",
              "      <th>item</th>\n",
              "      <th>rating</th>\n",
              "    </tr>\n",
              "  </thead>\n",
              "  <tbody>\n",
              "    <tr>\n",
              "      <th>0</th>\n",
              "      <td>1889878</td>\n",
              "      <td>CC0101EN</td>\n",
              "      <td>5</td>\n",
              "    </tr>\n",
              "    <tr>\n",
              "      <th>1</th>\n",
              "      <td>1342067</td>\n",
              "      <td>CL0101EN</td>\n",
              "      <td>3</td>\n",
              "    </tr>\n",
              "    <tr>\n",
              "      <th>2</th>\n",
              "      <td>1990814</td>\n",
              "      <td>ML0120ENv3</td>\n",
              "      <td>5</td>\n",
              "    </tr>\n",
              "    <tr>\n",
              "      <th>3</th>\n",
              "      <td>380098</td>\n",
              "      <td>BD0211EN</td>\n",
              "      <td>5</td>\n",
              "    </tr>\n",
              "    <tr>\n",
              "      <th>4</th>\n",
              "      <td>779563</td>\n",
              "      <td>DS0101EN</td>\n",
              "      <td>3</td>\n",
              "    </tr>\n",
              "  </tbody>\n",
              "</table>\n",
              "</div>"
            ],
            "text/plain": [
              "      user        item  rating\n",
              "0  1889878    CC0101EN       5\n",
              "1  1342067    CL0101EN       3\n",
              "2  1990814  ML0120ENv3       5\n",
              "3   380098    BD0211EN       5\n",
              "4   779563    DS0101EN       3"
            ]
          },
          "execution_count": 6,
          "metadata": {},
          "output_type": "execute_result"
        }
      ],
      "source": [
        "rating_df = pd.read_csv('ratings.csv')\n",
        "print(rating_df.shape)\n",
        "rating_df.head()"
      ]
    },
    {
      "cell_type": "markdown",
      "metadata": {},
      "source": [
        "The ratings distribute similarly across the 3 categories."
      ]
    },
    {
      "cell_type": "code",
      "execution_count": 7,
      "metadata": {},
      "outputs": [
        {
          "data": {
            "image/png": "[encoded data removed]",
            "text/plain": [
              "<Figure size 640x480 with 1 Axes>"
            ]
          },
          "metadata": {},
          "output_type": "display_data"
        }
      ],
      "source": [
        "sns.histplot(rating_df['rating'])\n",
        "ax = plt.gca()\n",
        "ax.set_xlim([2, 6])\n",
        "plt.show()"
      ]
    },
    {
      "cell_type": "markdown",
      "metadata": {
        "id": "52581f87-e478-49ea-a0f2-98e2137a4ba1"
      },
      "source": [
        "Next, let's figure out how many unique users and items, their total numbers will determine the sizes of one-hot encoding vectors.\n"
      ]
    },
    {
      "cell_type": "code",
      "execution_count": 8,
      "metadata": {
        "colab": {
          "base_uri": "https://localhost:8080/"
        },
        "id": "2b7c4207-33e0-4239-a989-8e92bde23b0a",
        "outputId": "88bdecc4-b4f9-4a04-a97c-605db0490278"
      },
      "outputs": [
        {
          "name": "stdout",
          "output_type": "stream",
          "text": [
            "There are total `33901` of users and `126` items\n"
          ]
        }
      ],
      "source": [
        "num_users = len(rating_df['user'].unique())\n",
        "num_items = len(rating_df['item'].unique())\n",
        "print(f\"There are total `{num_users}` of users and `{num_items}` items\")"
      ]
    },
    {
      "cell_type": "markdown",
      "metadata": {
        "id": "7b25bffc-468d-4c67-a7e8-0a9a8000bd0e"
      },
      "source": [
        "It means our each user can be represented as a `33901 x 1` one-hot vector and each item can be represented as `126 x 1` one-hot vector.\n"
      ]
    },
    {
      "cell_type": "markdown",
      "metadata": {
        "id": "04ec5cd5-af22-409d-88cb-6ffcda24f786"
      },
      "source": [
        "The goal is to create a neural network structure that can take the user and item one-hot vectors as inputs and outputs a rating estimation or the probability of interaction.\n",
        "\n",
        "While training and updating the weights in the neural network, its hidden layers should be able to capture the pattern or features for each user and item. Based on this idea, we can design a simple neural network architecture like the following:\n"
      ]
    },
    {
      "cell_type": "markdown",
      "metadata": {
        "id": "04f75abc-3588-4f42-8ac3-440e1a5a49e7"
      },
      "source": [
        "![](https://cf-courses-data.s3.us.cloud-object-storage.appdomain.cloud/IBM-ML321EN-SkillsNetwork/labs/module_4/images/embedding_feature_vector.png)\n"
      ]
    },
    {
      "cell_type": "markdown",
      "metadata": {
        "id": "c89e44c6-93b8-4ae8-bc3a-d0b56b85f371"
      },
      "source": [
        "The network inputs are two one-hot encoding vectors, the blue one is for the user and the green one is for the item. Then on top of them, we added two embedding layers. Here embedding means embedding the one-hot encoding vector into a latent feature space. The embedding layer is a fully-connected layer that outputs the embedding feature vectors. For example, the user embedding layer takes `33901 x 1` one-hot vector as input and outputs a `16 x 1` embedding vector.\n"
      ]
    },
    {
      "cell_type": "markdown",
      "metadata": {
        "id": "bbe4512a-1b1f-4ec1-9a11-cc2c36f3fbd5"
      },
      "source": [
        "The embedding layer outputs two embedding vectors, which are similar to Non-negative matrix factorization. Then we could simply dot the product the user and item embedding vector to output a rating estimation.\n"
      ]
    },
    {
      "cell_type": "markdown",
      "metadata": {
        "id": "2af40bfe-221c-40ef-acaa-dab3dca061fa"
      },
      "source": [
        "#### Implementing the recommender neural network using tensorflow\n"
      ]
    },
    {
      "cell_type": "markdown",
      "metadata": {
        "id": "bd95dafc-9efd-452f-9554-b3e060d0170e"
      },
      "source": [
        "Before training the Neuro Network, we need to process the original rating dataset a little bit by converting the actual user ids and item ids into integer indices for `tensorflow` to creating the one-hot encoding vectors.\n"
      ]
    },
    {
      "cell_type": "code",
      "execution_count": 9,
      "metadata": {
        "id": "0db5dec8-e041-4351-acf8-709fcde52db1"
      },
      "outputs": [],
      "source": [
        "def process_dataset(raw_data):\n",
        "    \"\"\"\n",
        "        Preprocesses the raw dataset by encoding user and item IDs to indices.\n",
        "\n",
        "        Args:\n",
        "        - raw_data (DataFrame): Raw dataset containing user, item, and rating information.\n",
        "\n",
        "        Returns:\n",
        "        - encoded_data (DataFrame): Processed dataset with user and item IDs encoded as indices.\n",
        "        - user_idx2id_dict (dict): Dictionary mapping user indices to original user IDs.\n",
        "        - course_idx2id_dict (dict): Dictionary mapping item indices to original item IDs.\n",
        "    \"\"\"\n",
        "\n",
        "    encoded_data = raw_data.copy() # Make a copy of the raw dataset to avoid modifying the original data.\n",
        "\n",
        "    # Mapping user ids to indices\n",
        "    user_list = encoded_data[\"user\"].unique().tolist() # Get unique user IDs from the dataset.\n",
        "    user_id2idx_dict = {x: i for i, x in enumerate(user_list)} # Create a dictionary mapping user IDs to indices.\n",
        "    user_idx2id_dict = {i: x for i, x in enumerate(user_list)} # Create a dictionary mapping user indices back to original user IDs.\n",
        "\n",
        "    # Mapping course ids to indices\n",
        "    course_list = encoded_data[\"item\"].unique().tolist() # Get unique item (course) IDs from the dataset.\n",
        "    course_id2idx_dict = {x: i for i, x in enumerate(course_list)} # Create a dictionary mapping item IDs to indices.\n",
        "    course_idx2id_dict = {i: x for i, x in enumerate(course_list)} # Create a dictionary mapping item indices back to original item IDs.\n",
        "\n",
        "    # Convert original user ids to idx\n",
        "    encoded_data[\"user\"] = encoded_data[\"user\"].map(user_id2idx_dict)\n",
        "    # Convert original course ids to idx\n",
        "    encoded_data[\"item\"] = encoded_data[\"item\"].map(course_id2idx_dict)\n",
        "    # Convert rating to int\n",
        "    encoded_data[\"rating\"] = encoded_data[\"rating\"].values.astype(\"int\")\n",
        "\n",
        "    return encoded_data, user_idx2id_dict, course_idx2id_dict # Return the processed dataset and dictionaries mapping indices to original IDs."
      ]
    },
    {
      "cell_type": "code",
      "execution_count": 10,
      "metadata": {
        "id": "086e139a-f541-40f2-a523-20e6150cc196"
      },
      "outputs": [],
      "source": [
        "# Process the raw dataset using the process_dataset function\n",
        "# The function returns three values: encoded_data, user_idx2id_dict, and course_idx2id_dict\n",
        "# encoded_data: Processed dataset with user and item IDs encoded as indices\n",
        "# user_idx2id_dict: Dictionary mapping user indices to original user IDs\n",
        "# course_idx2id_dict: Dictionary mapping item indices to original item IDs\n",
        "encoded_data, user_idx2id_dict, course_idx2id_dict = process_dataset(rating_df)"
      ]
    },
    {
      "cell_type": "code",
      "execution_count": 11,
      "metadata": {
        "colab": {
          "base_uri": "https://localhost:8080/",
          "height": 206
        },
        "id": "4e003ca8-7c54-47d7-b410-b9e5607e90af",
        "outputId": "16bea794-9161-45de-9aca-1c04f225e307"
      },
      "outputs": [
        {
          "data": {
            "text/html": [
              "<div>\n",
              "<style scoped>\n",
              "    .dataframe tbody tr th:only-of-type {\n",
              "        vertical-align: middle;\n",
              "    }\n",
              "\n",
              "    .dataframe tbody tr th {\n",
              "        vertical-align: top;\n",
              "    }\n",
              "\n",
              "    .dataframe thead th {\n",
              "        text-align: right;\n",
              "    }\n",
              "</style>\n",
              "<table border=\"1\" class=\"dataframe\">\n",
              "  <thead>\n",
              "    <tr style=\"text-align: right;\">\n",
              "      <th></th>\n",
              "      <th>user</th>\n",
              "      <th>item</th>\n",
              "      <th>rating</th>\n",
              "    </tr>\n",
              "  </thead>\n",
              "  <tbody>\n",
              "    <tr>\n",
              "      <th>0</th>\n",
              "      <td>0</td>\n",
              "      <td>0</td>\n",
              "      <td>5</td>\n",
              "    </tr>\n",
              "    <tr>\n",
              "      <th>1</th>\n",
              "      <td>1</td>\n",
              "      <td>1</td>\n",
              "      <td>3</td>\n",
              "    </tr>\n",
              "    <tr>\n",
              "      <th>2</th>\n",
              "      <td>2</td>\n",
              "      <td>2</td>\n",
              "      <td>5</td>\n",
              "    </tr>\n",
              "    <tr>\n",
              "      <th>3</th>\n",
              "      <td>3</td>\n",
              "      <td>3</td>\n",
              "      <td>5</td>\n",
              "    </tr>\n",
              "    <tr>\n",
              "      <th>4</th>\n",
              "      <td>4</td>\n",
              "      <td>4</td>\n",
              "      <td>3</td>\n",
              "    </tr>\n",
              "  </tbody>\n",
              "</table>\n",
              "</div>"
            ],
            "text/plain": [
              "   user  item  rating\n",
              "0     0     0       5\n",
              "1     1     1       3\n",
              "2     2     2       5\n",
              "3     3     3       5\n",
              "4     4     4       3"
            ]
          },
          "execution_count": 11,
          "metadata": {},
          "output_type": "execute_result"
        }
      ],
      "source": [
        "encoded_data.head()"
      ]
    },
    {
      "cell_type": "code",
      "execution_count": 12,
      "metadata": {},
      "outputs": [],
      "source": [
        "# Define the training variables\n",
        "x = encoded_data[['user','item']]\n",
        "y = encoded_data['rating'].values"
      ]
    },
    {
      "cell_type": "markdown",
      "metadata": {},
      "source": [
        "Then we can split the encoded dataset into training and testing datasets."
      ]
    },
    {
      "cell_type": "code",
      "execution_count": 13,
      "metadata": {},
      "outputs": [],
      "source": [
        "# define train, validate, and test sets\n",
        "x_tr, x_test, y_tr, y_test = train_test_split(x, y, test_size=0.1, random_state = rs)\n",
        "x_train, x_val, y_train, y_val = train_test_split(x_tr, y_tr, test_size=0.1, random_state = rs)"
      ]
    },
    {
      "cell_type": "markdown",
      "metadata": {},
      "source": [
        "If we take a look at the training input data, it is simply just a list of user indices and item indices, which is a dense format of one-hot encoding vectors."
      ]
    },
    {
      "cell_type": "code",
      "execution_count": 14,
      "metadata": {},
      "outputs": [
        {
          "data": {
            "text/html": [
              "<div>\n",
              "<style scoped>\n",
              "    .dataframe tbody tr th:only-of-type {\n",
              "        vertical-align: middle;\n",
              "    }\n",
              "\n",
              "    .dataframe tbody tr th {\n",
              "        vertical-align: top;\n",
              "    }\n",
              "\n",
              "    .dataframe thead th {\n",
              "        text-align: right;\n",
              "    }\n",
              "</style>\n",
              "<table border=\"1\" class=\"dataframe\">\n",
              "  <thead>\n",
              "    <tr style=\"text-align: right;\">\n",
              "      <th></th>\n",
              "      <th>user</th>\n",
              "      <th>item</th>\n",
              "    </tr>\n",
              "  </thead>\n",
              "  <tbody>\n",
              "    <tr>\n",
              "      <th>88268</th>\n",
              "      <td>15384</td>\n",
              "      <td>21</td>\n",
              "    </tr>\n",
              "    <tr>\n",
              "      <th>138794</th>\n",
              "      <td>12873</td>\n",
              "      <td>99</td>\n",
              "    </tr>\n",
              "    <tr>\n",
              "      <th>166242</th>\n",
              "      <td>3421</td>\n",
              "      <td>7</td>\n",
              "    </tr>\n",
              "    <tr>\n",
              "      <th>185232</th>\n",
              "      <td>23775</td>\n",
              "      <td>23</td>\n",
              "    </tr>\n",
              "    <tr>\n",
              "      <th>131484</th>\n",
              "      <td>9182</td>\n",
              "      <td>99</td>\n",
              "    </tr>\n",
              "  </tbody>\n",
              "</table>\n",
              "</div>"
            ],
            "text/plain": [
              "         user  item\n",
              "88268   15384    21\n",
              "138794  12873    99\n",
              "166242   3421     7\n",
              "185232  23775    23\n",
              "131484   9182    99"
            ]
          },
          "execution_count": 14,
          "metadata": {},
          "output_type": "execute_result"
        }
      ],
      "source": [
        "x_train.head()"
      ]
    },
    {
      "cell_type": "code",
      "execution_count": 15,
      "metadata": {},
      "outputs": [],
      "source": [
        "x_train = x_train.to_numpy()\n",
        "x_test = x_test.to_numpy()\n",
        "x_val = x_val.to_numpy()"
      ]
    },
    {
      "cell_type": "markdown",
      "metadata": {
        "id": "e0c98f31-e2c9-42cd-9159-a906a150cb0e"
      },
      "source": [
        "Then we can choose a small embedding vector size to be **50** and create a Neural Network model to be trained.\n"
      ]
    },
    {
      "cell_type": "code",
      "execution_count": 16,
      "metadata": {},
      "outputs": [
        {
          "name": "stdout",
          "output_type": "stream",
          "text": [
            "There are total `33901` of users and `126` items\n"
          ]
        }
      ],
      "source": [
        "num_users = len(rating_df['user'].unique())\n",
        "num_items = len(rating_df['item'].unique())\n",
        "print(f\"There are total `{num_users}` of users and `{num_items}` items\")"
      ]
    },
    {
      "cell_type": "code",
      "execution_count": 17,
      "metadata": {
        "colab": {
          "base_uri": "https://localhost:8080/"
        },
        "id": "95d56d1a-f596-40cb-9882-70ac5d556af2",
        "outputId": "d6531801-2d72-4e41-a58d-481f52cd1983"
      },
      "outputs": [
        {
          "data": {
            "text/html": [
              "<pre style=\"white-space:pre;overflow-x:auto;line-height:normal;font-family:Menlo,'DejaVu Sans Mono',consolas,'Courier New',monospace\"><span style=\"font-weight: bold\">Model: \"functional_1\"</span>\n",
              "</pre>\n"
            ],
            "text/plain": [
              "\u001b[1mModel: \"functional_1\"\u001b[0m\n"
            ]
          },
          "metadata": {},
          "output_type": "display_data"
        },
        {
          "data": {
            "text/html": [
              "<pre style=\"white-space:pre;overflow-x:auto;line-height:normal;font-family:Menlo,'DejaVu Sans Mono',consolas,'Courier New',monospace\">┏━━━━━━━━━━━━━━━━━━━━━┳━━━━━━━━━━━━━━━━━━━┳━━━━━━━━━━━━┳━━━━━━━━━━━━━━━━━━━┓\n",
              "┃<span style=\"font-weight: bold\"> Layer (type)        </span>┃<span style=\"font-weight: bold\"> Output Shape      </span>┃<span style=\"font-weight: bold\">    Param # </span>┃<span style=\"font-weight: bold\"> Connected to      </span>┃\n",
              "┡━━━━━━━━━━━━━━━━━━━━━╇━━━━━━━━━━━━━━━━━━━╇━━━━━━━━━━━━╇━━━━━━━━━━━━━━━━━━━┩\n",
              "│ input_layer         │ (<span style=\"color: #00d7ff; text-decoration-color: #00d7ff\">None</span>, <span style=\"color: #00af00; text-decoration-color: #00af00\">1</span>)         │          <span style=\"color: #00af00; text-decoration-color: #00af00\">0</span> │ -                 │\n",
              "│ (<span style=\"color: #0087ff; text-decoration-color: #0087ff\">InputLayer</span>)        │                   │            │                   │\n",
              "├─────────────────────┼───────────────────┼────────────┼───────────────────┤\n",
              "│ input_layer_1       │ (<span style=\"color: #00d7ff; text-decoration-color: #00d7ff\">None</span>, <span style=\"color: #00af00; text-decoration-color: #00af00\">1</span>)         │          <span style=\"color: #00af00; text-decoration-color: #00af00\">0</span> │ -                 │\n",
              "│ (<span style=\"color: #0087ff; text-decoration-color: #0087ff\">InputLayer</span>)        │                   │            │                   │\n",
              "├─────────────────────┼───────────────────┼────────────┼───────────────────┤\n",
              "│ embedding_layer_us… │ (<span style=\"color: #00d7ff; text-decoration-color: #00d7ff\">None</span>, <span style=\"color: #00af00; text-decoration-color: #00af00\">1</span>, <span style=\"color: #00af00; text-decoration-color: #00af00\">30</span>)     │  <span style=\"color: #00af00; text-decoration-color: #00af00\">1,017,030</span> │ input_layer[<span style=\"color: #00af00; text-decoration-color: #00af00\">0</span>][<span style=\"color: #00af00; text-decoration-color: #00af00\">0</span>] │\n",
              "│ (<span style=\"color: #0087ff; text-decoration-color: #0087ff\">Embedding</span>)         │                   │            │                   │\n",
              "├─────────────────────┼───────────────────┼────────────┼───────────────────┤\n",
              "│ embedding_layer_it… │ (<span style=\"color: #00d7ff; text-decoration-color: #00d7ff\">None</span>, <span style=\"color: #00af00; text-decoration-color: #00af00\">1</span>, <span style=\"color: #00af00; text-decoration-color: #00af00\">30</span>)     │      <span style=\"color: #00af00; text-decoration-color: #00af00\">3,780</span> │ input_layer_1[<span style=\"color: #00af00; text-decoration-color: #00af00\">0</span>]… │\n",
              "│ (<span style=\"color: #0087ff; text-decoration-color: #0087ff\">Embedding</span>)         │                   │            │                   │\n",
              "├─────────────────────┼───────────────────┼────────────┼───────────────────┤\n",
              "│ dot (<span style=\"color: #0087ff; text-decoration-color: #0087ff\">Dot</span>)           │ (<span style=\"color: #00d7ff; text-decoration-color: #00d7ff\">None</span>, <span style=\"color: #00af00; text-decoration-color: #00af00\">1</span>, <span style=\"color: #00af00; text-decoration-color: #00af00\">1</span>)      │          <span style=\"color: #00af00; text-decoration-color: #00af00\">0</span> │ embedding_layer_… │\n",
              "│                     │                   │            │ embedding_layer_… │\n",
              "├─────────────────────┼───────────────────┼────────────┼───────────────────┤\n",
              "│ bias_layer_user     │ (<span style=\"color: #00d7ff; text-decoration-color: #00d7ff\">None</span>, <span style=\"color: #00af00; text-decoration-color: #00af00\">1</span>, <span style=\"color: #00af00; text-decoration-color: #00af00\">1</span>)      │     <span style=\"color: #00af00; text-decoration-color: #00af00\">33,901</span> │ input_layer[<span style=\"color: #00af00; text-decoration-color: #00af00\">0</span>][<span style=\"color: #00af00; text-decoration-color: #00af00\">0</span>] │\n",
              "│ (<span style=\"color: #0087ff; text-decoration-color: #0087ff\">Embedding</span>)         │                   │            │                   │\n",
              "├─────────────────────┼───────────────────┼────────────┼───────────────────┤\n",
              "│ add (<span style=\"color: #0087ff; text-decoration-color: #0087ff\">Add</span>)           │ (<span style=\"color: #00d7ff; text-decoration-color: #00d7ff\">None</span>, <span style=\"color: #00af00; text-decoration-color: #00af00\">1</span>, <span style=\"color: #00af00; text-decoration-color: #00af00\">1</span>)      │          <span style=\"color: #00af00; text-decoration-color: #00af00\">0</span> │ dot[<span style=\"color: #00af00; text-decoration-color: #00af00\">0</span>][<span style=\"color: #00af00; text-decoration-color: #00af00\">0</span>],        │\n",
              "│                     │                   │            │ bias_layer_user[<span style=\"color: #00af00; text-decoration-color: #00af00\">…</span> │\n",
              "├─────────────────────┼───────────────────┼────────────┼───────────────────┤\n",
              "│ bias_layer_item     │ (<span style=\"color: #00d7ff; text-decoration-color: #00d7ff\">None</span>, <span style=\"color: #00af00; text-decoration-color: #00af00\">1</span>, <span style=\"color: #00af00; text-decoration-color: #00af00\">1</span>)      │        <span style=\"color: #00af00; text-decoration-color: #00af00\">126</span> │ input_layer_1[<span style=\"color: #00af00; text-decoration-color: #00af00\">0</span>]… │\n",
              "│ (<span style=\"color: #0087ff; text-decoration-color: #0087ff\">Embedding</span>)         │                   │            │                   │\n",
              "├─────────────────────┼───────────────────┼────────────┼───────────────────┤\n",
              "│ add_1 (<span style=\"color: #0087ff; text-decoration-color: #0087ff\">Add</span>)         │ (<span style=\"color: #00d7ff; text-decoration-color: #00d7ff\">None</span>, <span style=\"color: #00af00; text-decoration-color: #00af00\">1</span>, <span style=\"color: #00af00; text-decoration-color: #00af00\">1</span>)      │          <span style=\"color: #00af00; text-decoration-color: #00af00\">0</span> │ add[<span style=\"color: #00af00; text-decoration-color: #00af00\">0</span>][<span style=\"color: #00af00; text-decoration-color: #00af00\">0</span>],        │\n",
              "│                     │                   │            │ bias_layer_item[<span style=\"color: #00af00; text-decoration-color: #00af00\">…</span> │\n",
              "├─────────────────────┼───────────────────┼────────────┼───────────────────┤\n",
              "│ activation          │ (<span style=\"color: #00d7ff; text-decoration-color: #00d7ff\">None</span>, <span style=\"color: #00af00; text-decoration-color: #00af00\">1</span>, <span style=\"color: #00af00; text-decoration-color: #00af00\">1</span>)      │          <span style=\"color: #00af00; text-decoration-color: #00af00\">0</span> │ add_1[<span style=\"color: #00af00; text-decoration-color: #00af00\">0</span>][<span style=\"color: #00af00; text-decoration-color: #00af00\">0</span>]       │\n",
              "│ (<span style=\"color: #0087ff; text-decoration-color: #0087ff\">Activation</span>)        │                   │            │                   │\n",
              "└─────────────────────┴───────────────────┴────────────┴───────────────────┘\n",
              "</pre>\n"
            ],
            "text/plain": [
              "┏━━━━━━━━━━━━━━━━━━━━━┳━━━━━━━━━━━━━━━━━━━┳━━━━━━━━━━━━┳━━━━━━━━━━━━━━━━━━━┓\n",
              "┃\u001b[1m \u001b[0m\u001b[1mLayer (type)       \u001b[0m\u001b[1m \u001b[0m┃\u001b[1m \u001b[0m\u001b[1mOutput Shape     \u001b[0m\u001b[1m \u001b[0m┃\u001b[1m \u001b[0m\u001b[1m   Param #\u001b[0m\u001b[1m \u001b[0m┃\u001b[1m \u001b[0m\u001b[1mConnected to     \u001b[0m\u001b[1m \u001b[0m┃\n",
              "┡━━━━━━━━━━━━━━━━━━━━━╇━━━━━━━━━━━━━━━━━━━╇━━━━━━━━━━━━╇━━━━━━━━━━━━━━━━━━━┩\n",
              "│ input_layer         │ (\u001b[38;5;45mNone\u001b[0m, \u001b[38;5;34m1\u001b[0m)         │          \u001b[38;5;34m0\u001b[0m │ -                 │\n",
              "│ (\u001b[38;5;33mInputLayer\u001b[0m)        │                   │            │                   │\n",
              "├─────────────────────┼───────────────────┼────────────┼───────────────────┤\n",
              "│ input_layer_1       │ (\u001b[38;5;45mNone\u001b[0m, \u001b[38;5;34m1\u001b[0m)         │          \u001b[38;5;34m0\u001b[0m │ -                 │\n",
              "│ (\u001b[38;5;33mInputLayer\u001b[0m)        │                   │            │                   │\n",
              "├─────────────────────┼───────────────────┼────────────┼───────────────────┤\n",
              "│ embedding_layer_us… │ (\u001b[38;5;45mNone\u001b[0m, \u001b[38;5;34m1\u001b[0m, \u001b[38;5;34m30\u001b[0m)     │  \u001b[38;5;34m1,017,030\u001b[0m │ input_layer[\u001b[38;5;34m0\u001b[0m][\u001b[38;5;34m0\u001b[0m] │\n",
              "│ (\u001b[38;5;33mEmbedding\u001b[0m)         │                   │            │                   │\n",
              "├─────────────────────┼───────────────────┼────────────┼───────────────────┤\n",
              "│ embedding_layer_it… │ (\u001b[38;5;45mNone\u001b[0m, \u001b[38;5;34m1\u001b[0m, \u001b[38;5;34m30\u001b[0m)     │      \u001b[38;5;34m3,780\u001b[0m │ input_layer_1[\u001b[38;5;34m0\u001b[0m]… │\n",
              "│ (\u001b[38;5;33mEmbedding\u001b[0m)         │                   │            │                   │\n",
              "├─────────────────────┼───────────────────┼────────────┼───────────────────┤\n",
              "│ dot (\u001b[38;5;33mDot\u001b[0m)           │ (\u001b[38;5;45mNone\u001b[0m, \u001b[38;5;34m1\u001b[0m, \u001b[38;5;34m1\u001b[0m)      │          \u001b[38;5;34m0\u001b[0m │ embedding_layer_… │\n",
              "│                     │                   │            │ embedding_layer_… │\n",
              "├─────────────────────┼───────────────────┼────────────┼───────────────────┤\n",
              "│ bias_layer_user     │ (\u001b[38;5;45mNone\u001b[0m, \u001b[38;5;34m1\u001b[0m, \u001b[38;5;34m1\u001b[0m)      │     \u001b[38;5;34m33,901\u001b[0m │ input_layer[\u001b[38;5;34m0\u001b[0m][\u001b[38;5;34m0\u001b[0m] │\n",
              "│ (\u001b[38;5;33mEmbedding\u001b[0m)         │                   │            │                   │\n",
              "├─────────────────────┼───────────────────┼────────────┼───────────────────┤\n",
              "│ add (\u001b[38;5;33mAdd\u001b[0m)           │ (\u001b[38;5;45mNone\u001b[0m, \u001b[38;5;34m1\u001b[0m, \u001b[38;5;34m1\u001b[0m)      │          \u001b[38;5;34m0\u001b[0m │ dot[\u001b[38;5;34m0\u001b[0m][\u001b[38;5;34m0\u001b[0m],        │\n",
              "│                     │                   │            │ bias_layer_user[\u001b[38;5;34m…\u001b[0m │\n",
              "├─────────────────────┼───────────────────┼────────────┼───────────────────┤\n",
              "│ bias_layer_item     │ (\u001b[38;5;45mNone\u001b[0m, \u001b[38;5;34m1\u001b[0m, \u001b[38;5;34m1\u001b[0m)      │        \u001b[38;5;34m126\u001b[0m │ input_layer_1[\u001b[38;5;34m0\u001b[0m]… │\n",
              "│ (\u001b[38;5;33mEmbedding\u001b[0m)         │                   │            │                   │\n",
              "├─────────────────────┼───────────────────┼────────────┼───────────────────┤\n",
              "│ add_1 (\u001b[38;5;33mAdd\u001b[0m)         │ (\u001b[38;5;45mNone\u001b[0m, \u001b[38;5;34m1\u001b[0m, \u001b[38;5;34m1\u001b[0m)      │          \u001b[38;5;34m0\u001b[0m │ add[\u001b[38;5;34m0\u001b[0m][\u001b[38;5;34m0\u001b[0m],        │\n",
              "│                     │                   │            │ bias_layer_item[\u001b[38;5;34m…\u001b[0m │\n",
              "├─────────────────────┼───────────────────┼────────────┼───────────────────┤\n",
              "│ activation          │ (\u001b[38;5;45mNone\u001b[0m, \u001b[38;5;34m1\u001b[0m, \u001b[38;5;34m1\u001b[0m)      │          \u001b[38;5;34m0\u001b[0m │ add_1[\u001b[38;5;34m0\u001b[0m][\u001b[38;5;34m0\u001b[0m]       │\n",
              "│ (\u001b[38;5;33mActivation\u001b[0m)        │                   │            │                   │\n",
              "└─────────────────────┴───────────────────┴────────────┴───────────────────┘\n"
            ]
          },
          "metadata": {},
          "output_type": "display_data"
        },
        {
          "data": {
            "text/html": [
              "<pre style=\"white-space:pre;overflow-x:auto;line-height:normal;font-family:Menlo,'DejaVu Sans Mono',consolas,'Courier New',monospace\"><span style=\"font-weight: bold\"> Total params: </span><span style=\"color: #00af00; text-decoration-color: #00af00\">1,054,837</span> (4.02 MB)\n",
              "</pre>\n"
            ],
            "text/plain": [
              "\u001b[1m Total params: \u001b[0m\u001b[38;5;34m1,054,837\u001b[0m (4.02 MB)\n"
            ]
          },
          "metadata": {},
          "output_type": "display_data"
        },
        {
          "data": {
            "text/html": [
              "<pre style=\"white-space:pre;overflow-x:auto;line-height:normal;font-family:Menlo,'DejaVu Sans Mono',consolas,'Courier New',monospace\"><span style=\"font-weight: bold\"> Trainable params: </span><span style=\"color: #00af00; text-decoration-color: #00af00\">1,054,837</span> (4.02 MB)\n",
              "</pre>\n"
            ],
            "text/plain": [
              "\u001b[1m Trainable params: \u001b[0m\u001b[38;5;34m1,054,837\u001b[0m (4.02 MB)\n"
            ]
          },
          "metadata": {},
          "output_type": "display_data"
        },
        {
          "data": {
            "text/html": [
              "<pre style=\"white-space:pre;overflow-x:auto;line-height:normal;font-family:Menlo,'DejaVu Sans Mono',consolas,'Courier New',monospace\"><span style=\"font-weight: bold\"> Non-trainable params: </span><span style=\"color: #00af00; text-decoration-color: #00af00\">0</span> (0.00 B)\n",
              "</pre>\n"
            ],
            "text/plain": [
              "\u001b[1m Non-trainable params: \u001b[0m\u001b[38;5;34m0\u001b[0m (0.00 B)\n"
            ]
          },
          "metadata": {},
          "output_type": "display_data"
        }
      ],
      "source": [
        "embedding_size = 30\n",
        "\n",
        "# Define input layers for two sets of data\n",
        "input_user = Input(shape=(1,))\n",
        "input_item = Input(shape=(1,))\n",
        "\n",
        "# Define embedding layer for user\n",
        "embedding_layer_user = Embedding(input_dim=num_users, output_dim=embedding_size,\n",
        "                                 embeddings_regularizer=keras.regularizers.l2(1e-6),\n",
        "                                 embeddings_initializer=\"he_normal\",\n",
        "                                 name='embedding_layer_user'\n",
        "                                 )(input_user)\n",
        "\n",
        "# Bias is applied per user, hence output_dim is set to 1\n",
        "bias_layer_user = Embedding(input_dim=num_users, output_dim=1, \n",
        "                            embeddings_initializer=\"zeros\",\n",
        "                            name='bias_layer_user')(input_user)\n",
        "\n",
        "# Define embedding layer for item\n",
        "embedding_layer_item = Embedding(input_dim=num_items, output_dim=embedding_size,\n",
        "                                 embeddings_regularizer=keras.regularizers.l2(1e-6),\n",
        "                                 embeddings_initializer=\"he_normal\",\n",
        "                                 name='embedding_layer_item'\n",
        "                                 )(input_item)\n",
        "\n",
        "# Bias is applied per item, hence output_dim is set to 1\n",
        "bias_layer_item = Embedding(input_dim=num_items, output_dim=1, \n",
        "                            embeddings_initializer=\"zeros\",\n",
        "                            name='bias_layer_item')(input_item)\n",
        "\n",
        "# Perform dot product of the two embedded layers\n",
        "dot_product = Dot(axes=2)([embedding_layer_user, embedding_layer_item])\n",
        "\n",
        "# Add bias to dot\n",
        "add_bias = dot_product + bias_layer_user + bias_layer_item\n",
        "\n",
        "# Add ReLu\n",
        "add_ReLu = Activation('relu')(add_bias)\n",
        "\n",
        "# Create the Keras model\n",
        "model = Model(inputs=[input_user, input_item], outputs=add_ReLu)\n",
        "\n",
        "opt = keras.optimizers.AdamW(learning_rate=0.003)\n",
        "\n",
        "# Compile the model\n",
        "model.compile(optimizer=opt, loss='mean_squared_error', metrics=['root_mean_squared_error'])\n",
        "\n",
        "# Display the model summary\n",
        "model.summary()\n"
      ]
    },
    {
      "cell_type": "code",
      "execution_count": 18,
      "metadata": {
        "colab": {
          "base_uri": "https://localhost:8080/",
          "height": 704
        },
        "id": "1Fi-zAd4BPlK",
        "outputId": "df870049-15e3-458d-ae7b-94de6725b215"
      },
      "outputs": [
        {
          "name": "stdout",
          "output_type": "stream",
          "text": [
            "Epoch 1/10\n",
            "\u001b[1m5906/5906\u001b[0m \u001b[32m━━━━━━━━━━━━━━━━━━━━\u001b[0m\u001b[37m\u001b[0m \u001b[1m23s\u001b[0m 4ms/step - loss: 5.5985 - root_mean_squared_error: 2.2664 - val_loss: 0.7645 - val_root_mean_squared_error: 0.8678\n",
            "Epoch 2/10\n",
            "\u001b[1m5906/5906\u001b[0m \u001b[32m━━━━━━━━━━━━━━━━━━━━\u001b[0m\u001b[37m\u001b[0m \u001b[1m28s\u001b[0m 5ms/step - loss: 0.7373 - root_mean_squared_error: 0.8523 - val_loss: 0.7196 - val_root_mean_squared_error: 0.8427\n",
            "Epoch 3/10\n",
            "\u001b[1m5906/5906\u001b[0m \u001b[32m━━━━━━━━━━━━━━━━━━━━\u001b[0m\u001b[37m\u001b[0m \u001b[1m29s\u001b[0m 5ms/step - loss: 0.7000 - root_mean_squared_error: 0.8317 - val_loss: 0.6946 - val_root_mean_squared_error: 0.8296\n",
            "Epoch 4/10\n",
            "\u001b[1m5906/5906\u001b[0m \u001b[32m━━━━━━━━━━━━━━━━━━━━\u001b[0m\u001b[37m\u001b[0m \u001b[1m30s\u001b[0m 5ms/step - loss: 0.6845 - root_mean_squared_error: 0.8238 - val_loss: 0.6831 - val_root_mean_squared_error: 0.8234\n",
            "Epoch 5/10\n",
            "\u001b[1m5906/5906\u001b[0m \u001b[32m━━━━━━━━━━━━━━━━━━━━\u001b[0m\u001b[37m\u001b[0m \u001b[1m28s\u001b[0m 5ms/step - loss: 0.6810 - root_mean_squared_error: 0.8224 - val_loss: 0.6805 - val_root_mean_squared_error: 0.8219\n",
            "Epoch 6/10\n",
            "\u001b[1m5906/5906\u001b[0m \u001b[32m━━━━━━━━━━━━━━━━━━━━\u001b[0m\u001b[37m\u001b[0m \u001b[1m30s\u001b[0m 5ms/step - loss: 0.6776 - root_mean_squared_error: 0.8203 - val_loss: 0.6794 - val_root_mean_squared_error: 0.8214\n",
            "Epoch 7/10\n",
            "\u001b[1m5906/5906\u001b[0m \u001b[32m━━━━━━━━━━━━━━━━━━━━\u001b[0m\u001b[37m\u001b[0m \u001b[1m42s\u001b[0m 5ms/step - loss: 0.6775 - root_mean_squared_error: 0.8203 - val_loss: 0.6778 - val_root_mean_squared_error: 0.8204\n",
            "Epoch 8/10\n",
            "\u001b[1m5906/5906\u001b[0m \u001b[32m━━━━━━━━━━━━━━━━━━━━\u001b[0m\u001b[37m\u001b[0m \u001b[1m31s\u001b[0m 5ms/step - loss: 0.6792 - root_mean_squared_error: 0.8214 - val_loss: 0.6775 - val_root_mean_squared_error: 0.8203\n",
            "Epoch 9/10\n",
            "\u001b[1m5906/5906\u001b[0m \u001b[32m━━━━━━━━━━━━━━━━━━━━\u001b[0m\u001b[37m\u001b[0m \u001b[1m30s\u001b[0m 5ms/step - loss: 0.6761 - root_mean_squared_error: 0.8196 - val_loss: 0.6772 - val_root_mean_squared_error: 0.8201\n",
            "Epoch 10/10\n",
            "\u001b[1m5906/5906\u001b[0m \u001b[32m━━━━━━━━━━━━━━━━━━━━\u001b[0m\u001b[37m\u001b[0m \u001b[1m31s\u001b[0m 5ms/step - loss: 0.6787 - root_mean_squared_error: 0.8212 - val_loss: 0.6770 - val_root_mean_squared_error: 0.8201\n"
          ]
        }
      ],
      "source": [
        "run_hist = model.fit(x=[x_train[:,0], x_train[:,1]], y=y_train, epochs=10, batch_size=32, shuffle=True, validation_data=([x_val[:,0], x_val[:,1]],y_val)) "
      ]
    },
    {
      "cell_type": "code",
      "execution_count": 19,
      "metadata": {
        "id": "feTuSLBdEELk"
      },
      "outputs": [
        {
          "data": {
            "text/plain": [
              "Text(0.5, 1.0, 'RMSE over iterations')"
            ]
          },
          "execution_count": 19,
          "metadata": {},
          "output_type": "execute_result"
        },
        {
          "data": {
            "image/png": "[encoded data removed]",
            "text/plain": [
              "<Figure size 1200x600 with 2 Axes>"
            ]
          },
          "metadata": {},
          "output_type": "display_data"
        }
      ],
      "source": [
        "n = len(run_hist.history[\"loss\"])-1\n",
        "\n",
        "fig = plt.figure(figsize=(12, 6))\n",
        "ax = fig.add_subplot(1, 2, 1)\n",
        "ax.plot(range(n), (run_hist.history[\"loss\"][1:]),'r.', label=\"Train Loss\")\n",
        "ax.plot(range(n), (run_hist.history[\"val_loss\"][1:]),'b.', label=\"Validation Loss\")\n",
        "ax.legend()\n",
        "ax.set_title('Loss over iterations')\n",
        "\n",
        "ax = fig.add_subplot(1, 2, 2)\n",
        "ax.plot(range(n), (run_hist.history[\"root_mean_squared_error\"][1:]),'r.', label=\"Train RMSE\")\n",
        "ax.plot(range(n), (run_hist.history[\"val_root_mean_squared_error\"][1:]),'b.', label=\"Validation RMSE\")\n",
        "ax.legend()\n",
        "ax.set_title('RMSE over iterations')"
      ]
    },
    {
      "cell_type": "code",
      "execution_count": 20,
      "metadata": {},
      "outputs": [],
      "source": [
        "# one can save the weights to a file\n",
        "model.save_weights(\"recommender_net_weights.weights.h5\")"
      ]
    },
    {
      "cell_type": "markdown",
      "metadata": {
        "id": "8d48c27e-8e74-4482-9954-ec1381d9facf"
      },
      "source": [
        "#### Evaluate the trained model\n"
      ]
    },
    {
      "cell_type": "code",
      "execution_count": 21,
      "metadata": {
        "id": "3e0ced73-14d3-4678-8be2-c63049c3abab"
      },
      "outputs": [
        {
          "name": "stdout",
          "output_type": "stream",
          "text": [
            "\u001b[1m1459/1459\u001b[0m \u001b[32m━━━━━━━━━━━━━━━━━━━━\u001b[0m\u001b[37m\u001b[0m \u001b[1m1s\u001b[0m 548us/step - loss: 0.6847 - root_mean_squared_error: 0.8247\n",
            "Test loss:  0.6824983358383179\n",
            "Test root_mean_squared_error:  0.823388934135437\n"
          ]
        }
      ],
      "source": [
        "evaluate = model.evaluate(x=[x_test[:,0], x_test[:,1]], y=y_test, batch_size=16)\n",
        "\n",
        "print('Test loss: ', evaluate[0])\n",
        "print('Test root_mean_squared_error: ', evaluate[1])\n",
        "\n"
      ]
    },
    {
      "cell_type": "code",
      "execution_count": 22,
      "metadata": {},
      "outputs": [
        {
          "name": "stdout",
          "output_type": "stream",
          "text": [
            "\u001b[1m730/730\u001b[0m \u001b[32m━━━━━━━━━━━━━━━━━━━━\u001b[0m\u001b[37m\u001b[0m \u001b[1m0s\u001b[0m 364us/step\n",
            "(23331, 1, 1)\n"
          ]
        }
      ],
      "source": [
        "testPredict = model.predict(x=[x_test[:,0], x_test[:,1]])\n",
        "print(testPredict.shape)"
      ]
    },
    {
      "cell_type": "markdown",
      "metadata": {
        "id": "c94ff96c-0090-420a-94c2-10cc606ccde0"
      },
      "source": [
        "### Extract the user and item embedding vectors as latent feature vectors\n"
      ]
    },
    {
      "cell_type": "markdown",
      "metadata": {
        "id": "c1f45d6a-b74d-496e-80e9-1775b1820302"
      },
      "source": [
        "Now, we have trained our model and it can predict the ratings with relatively small RMSE."
      ]
    },
    {
      "cell_type": "markdown",
      "metadata": {
        "id": "54a2d550-80f2-405a-9dcb-9cbbeea21f61"
      },
      "source": [
        "In the model, the `user_embedding_layer` and `item_embedding_layer` layers contain the trained weights. Essentially, they are the latent user and item features learned by the neural network and will be used to predict the interaction. As such, while training the neural network to predict rating, the embedding layers are simultaneously trained to extract the embedding user and item features.\n"
      ]
    },
    {
      "cell_type": "markdown",
      "metadata": {
        "id": "279bf727-4927-405d-9844-bae39a0cea1e"
      },
      "source": [
        "We can easily get the actual weights using `model.get_layer().get_weights()` methods\n"
      ]
    },
    {
      "cell_type": "code",
      "execution_count": 23,
      "metadata": {
        "id": "d75b07bd-ec90-4ee4-b302-1b2a29c0ce57"
      },
      "outputs": [
        {
          "name": "stdout",
          "output_type": "stream",
          "text": [
            "User features shape: (33901, 30)\n"
          ]
        }
      ],
      "source": [
        "# User features\n",
        "user_latent_features = model.get_layer('embedding_layer_user').get_weights()[0]\n",
        "print(f\"User features shape: {user_latent_features.shape}\")"
      ]
    },
    {
      "cell_type": "code",
      "execution_count": 24,
      "metadata": {
        "id": "31ed97d4-2725-4540-85fc-8f9e63b3a118"
      },
      "outputs": [
        {
          "name": "stdout",
          "output_type": "stream",
          "text": [
            "Item features shape: (126, 30)\n"
          ]
        }
      ],
      "source": [
        "item_latent_features = model.get_layer('embedding_layer_item').get_weights()[0]\n",
        "print(f\"Item features shape: {item_latent_features.shape}\")"
      ]
    },
    {
      "cell_type": "markdown",
      "metadata": {
        "id": "a42737e4-f49f-43a9-9154-c2777a1d99b2"
      },
      "source": [
        "Now, each user of the total 33901 users has been transformed into a 50 x 1 latent feature vector and each item of the total 126 has been transformed into a 50 x 1 latent feature vector.\n"
      ]
    },
    {
      "cell_type": "code",
      "execution_count": 25,
      "metadata": {},
      "outputs": [
        {
          "data": {
            "text/html": [
              "<div>\n",
              "<style scoped>\n",
              "    .dataframe tbody tr th:only-of-type {\n",
              "        vertical-align: middle;\n",
              "    }\n",
              "\n",
              "    .dataframe tbody tr th {\n",
              "        vertical-align: top;\n",
              "    }\n",
              "\n",
              "    .dataframe thead th {\n",
              "        text-align: right;\n",
              "    }\n",
              "</style>\n",
              "<table border=\"1\" class=\"dataframe\">\n",
              "  <thead>\n",
              "    <tr style=\"text-align: right;\">\n",
              "      <th></th>\n",
              "      <th>0</th>\n",
              "      <th>1</th>\n",
              "      <th>2</th>\n",
              "      <th>3</th>\n",
              "      <th>4</th>\n",
              "      <th>5</th>\n",
              "      <th>6</th>\n",
              "      <th>7</th>\n",
              "      <th>8</th>\n",
              "      <th>9</th>\n",
              "      <th>...</th>\n",
              "      <th>21</th>\n",
              "      <th>22</th>\n",
              "      <th>23</th>\n",
              "      <th>24</th>\n",
              "      <th>25</th>\n",
              "      <th>26</th>\n",
              "      <th>27</th>\n",
              "      <th>28</th>\n",
              "      <th>29</th>\n",
              "      <th>user</th>\n",
              "    </tr>\n",
              "  </thead>\n",
              "  <tbody>\n",
              "    <tr>\n",
              "      <th>0</th>\n",
              "      <td>-0.106539</td>\n",
              "      <td>0.169725</td>\n",
              "      <td>0.037759</td>\n",
              "      <td>-0.179715</td>\n",
              "      <td>0.004930</td>\n",
              "      <td>-0.025669</td>\n",
              "      <td>-0.081321</td>\n",
              "      <td>-0.060345</td>\n",
              "      <td>-0.005838</td>\n",
              "      <td>-0.079697</td>\n",
              "      <td>...</td>\n",
              "      <td>0.047092</td>\n",
              "      <td>-0.258899</td>\n",
              "      <td>-0.043900</td>\n",
              "      <td>0.003739</td>\n",
              "      <td>0.197900</td>\n",
              "      <td>0.152393</td>\n",
              "      <td>0.024159</td>\n",
              "      <td>0.186125</td>\n",
              "      <td>-0.017375</td>\n",
              "      <td>1889878</td>\n",
              "    </tr>\n",
              "    <tr>\n",
              "      <th>1</th>\n",
              "      <td>0.043064</td>\n",
              "      <td>0.014002</td>\n",
              "      <td>0.107306</td>\n",
              "      <td>0.064301</td>\n",
              "      <td>0.106295</td>\n",
              "      <td>-0.053030</td>\n",
              "      <td>0.159673</td>\n",
              "      <td>0.099222</td>\n",
              "      <td>0.039183</td>\n",
              "      <td>-0.015562</td>\n",
              "      <td>...</td>\n",
              "      <td>-0.002050</td>\n",
              "      <td>-0.059056</td>\n",
              "      <td>0.067193</td>\n",
              "      <td>0.075977</td>\n",
              "      <td>-0.055027</td>\n",
              "      <td>0.058501</td>\n",
              "      <td>-0.007581</td>\n",
              "      <td>-0.167742</td>\n",
              "      <td>0.052345</td>\n",
              "      <td>1342067</td>\n",
              "    </tr>\n",
              "    <tr>\n",
              "      <th>2</th>\n",
              "      <td>0.039600</td>\n",
              "      <td>0.171552</td>\n",
              "      <td>0.004101</td>\n",
              "      <td>0.035966</td>\n",
              "      <td>-0.149341</td>\n",
              "      <td>-0.000231</td>\n",
              "      <td>-0.165297</td>\n",
              "      <td>-0.110185</td>\n",
              "      <td>0.033201</td>\n",
              "      <td>0.105581</td>\n",
              "      <td>...</td>\n",
              "      <td>0.161102</td>\n",
              "      <td>0.024662</td>\n",
              "      <td>0.069054</td>\n",
              "      <td>-0.066513</td>\n",
              "      <td>0.029164</td>\n",
              "      <td>0.026886</td>\n",
              "      <td>0.148648</td>\n",
              "      <td>0.096873</td>\n",
              "      <td>0.044408</td>\n",
              "      <td>1990814</td>\n",
              "    </tr>\n",
              "    <tr>\n",
              "      <th>3</th>\n",
              "      <td>0.120070</td>\n",
              "      <td>-0.198679</td>\n",
              "      <td>0.034901</td>\n",
              "      <td>-0.085777</td>\n",
              "      <td>-0.020262</td>\n",
              "      <td>0.233966</td>\n",
              "      <td>-0.125914</td>\n",
              "      <td>0.086001</td>\n",
              "      <td>0.098813</td>\n",
              "      <td>0.026997</td>\n",
              "      <td>...</td>\n",
              "      <td>-0.150161</td>\n",
              "      <td>0.077233</td>\n",
              "      <td>-0.055136</td>\n",
              "      <td>-0.007019</td>\n",
              "      <td>0.065199</td>\n",
              "      <td>0.159676</td>\n",
              "      <td>-0.101342</td>\n",
              "      <td>-0.154561</td>\n",
              "      <td>0.096996</td>\n",
              "      <td>380098</td>\n",
              "    </tr>\n",
              "    <tr>\n",
              "      <th>4</th>\n",
              "      <td>-0.030299</td>\n",
              "      <td>0.059425</td>\n",
              "      <td>-0.089233</td>\n",
              "      <td>-0.037715</td>\n",
              "      <td>0.066093</td>\n",
              "      <td>-0.045554</td>\n",
              "      <td>0.048373</td>\n",
              "      <td>0.000093</td>\n",
              "      <td>0.032430</td>\n",
              "      <td>-0.015075</td>\n",
              "      <td>...</td>\n",
              "      <td>0.013387</td>\n",
              "      <td>0.070763</td>\n",
              "      <td>0.048061</td>\n",
              "      <td>-0.017882</td>\n",
              "      <td>0.118738</td>\n",
              "      <td>-0.011427</td>\n",
              "      <td>-0.124837</td>\n",
              "      <td>-0.010020</td>\n",
              "      <td>0.081052</td>\n",
              "      <td>779563</td>\n",
              "    </tr>\n",
              "  </tbody>\n",
              "</table>\n",
              "<p>5 rows × 31 columns</p>\n",
              "</div>"
            ],
            "text/plain": [
              "          0         1         2         3         4         5         6  \\\n",
              "0 -0.106539  0.169725  0.037759 -0.179715  0.004930 -0.025669 -0.081321   \n",
              "1  0.043064  0.014002  0.107306  0.064301  0.106295 -0.053030  0.159673   \n",
              "2  0.039600  0.171552  0.004101  0.035966 -0.149341 -0.000231 -0.165297   \n",
              "3  0.120070 -0.198679  0.034901 -0.085777 -0.020262  0.233966 -0.125914   \n",
              "4 -0.030299  0.059425 -0.089233 -0.037715  0.066093 -0.045554  0.048373   \n",
              "\n",
              "          7         8         9  ...        21        22        23        24  \\\n",
              "0 -0.060345 -0.005838 -0.079697  ...  0.047092 -0.258899 -0.043900  0.003739   \n",
              "1  0.099222  0.039183 -0.015562  ... -0.002050 -0.059056  0.067193  0.075977   \n",
              "2 -0.110185  0.033201  0.105581  ...  0.161102  0.024662  0.069054 -0.066513   \n",
              "3  0.086001  0.098813  0.026997  ... -0.150161  0.077233 -0.055136 -0.007019   \n",
              "4  0.000093  0.032430 -0.015075  ...  0.013387  0.070763  0.048061 -0.017882   \n",
              "\n",
              "         25        26        27        28        29     user  \n",
              "0  0.197900  0.152393  0.024159  0.186125 -0.017375  1889878  \n",
              "1 -0.055027  0.058501 -0.007581 -0.167742  0.052345  1342067  \n",
              "2  0.029164  0.026886  0.148648  0.096873  0.044408  1990814  \n",
              "3  0.065199  0.159676 -0.101342 -0.154561  0.096996   380098  \n",
              "4  0.118738 -0.011427 -0.124837 -0.010020  0.081052   779563  \n",
              "\n",
              "[5 rows x 31 columns]"
            ]
          },
          "execution_count": 25,
          "metadata": {},
          "output_type": "execute_result"
        }
      ],
      "source": [
        "user_latent_df = pd.DataFrame(data=user_latent_features)#, \n",
        "                              #columns=['UFeature0','UFeature1','UFeature2','UFeature3','UFeature4','UFeature5','UFeature6','UFeature7','UFeature8','UFeature9','UFeature10','UFeature11','UFeature12','UFeature13','UFeature14','UFeature15'])\n",
        "user_latent_df['user'] = user_latent_df.index.map(user_idx2id_dict)\n",
        "user_latent_df.head()"
      ]
    },
    {
      "cell_type": "code",
      "execution_count": 26,
      "metadata": {},
      "outputs": [
        {
          "data": {
            "text/html": [
              "<div>\n",
              "<style scoped>\n",
              "    .dataframe tbody tr th:only-of-type {\n",
              "        vertical-align: middle;\n",
              "    }\n",
              "\n",
              "    .dataframe tbody tr th {\n",
              "        vertical-align: top;\n",
              "    }\n",
              "\n",
              "    .dataframe thead th {\n",
              "        text-align: right;\n",
              "    }\n",
              "</style>\n",
              "<table border=\"1\" class=\"dataframe\">\n",
              "  <thead>\n",
              "    <tr style=\"text-align: right;\">\n",
              "      <th></th>\n",
              "      <th>0</th>\n",
              "      <th>1</th>\n",
              "      <th>2</th>\n",
              "      <th>3</th>\n",
              "      <th>4</th>\n",
              "      <th>5</th>\n",
              "      <th>6</th>\n",
              "      <th>7</th>\n",
              "      <th>8</th>\n",
              "      <th>9</th>\n",
              "      <th>...</th>\n",
              "      <th>21</th>\n",
              "      <th>22</th>\n",
              "      <th>23</th>\n",
              "      <th>24</th>\n",
              "      <th>25</th>\n",
              "      <th>26</th>\n",
              "      <th>27</th>\n",
              "      <th>28</th>\n",
              "      <th>29</th>\n",
              "      <th>item</th>\n",
              "    </tr>\n",
              "  </thead>\n",
              "  <tbody>\n",
              "    <tr>\n",
              "      <th>0</th>\n",
              "      <td>-0.016241</td>\n",
              "      <td>-0.103051</td>\n",
              "      <td>0.007395</td>\n",
              "      <td>0.054987</td>\n",
              "      <td>0.055067</td>\n",
              "      <td>0.006007</td>\n",
              "      <td>-0.042313</td>\n",
              "      <td>0.001686</td>\n",
              "      <td>0.073498</td>\n",
              "      <td>-0.035578</td>\n",
              "      <td>...</td>\n",
              "      <td>-0.003626</td>\n",
              "      <td>0.015632</td>\n",
              "      <td>-0.010677</td>\n",
              "      <td>-0.073484</td>\n",
              "      <td>-0.097091</td>\n",
              "      <td>-0.072879</td>\n",
              "      <td>-0.110306</td>\n",
              "      <td>0.079633</td>\n",
              "      <td>-0.084364</td>\n",
              "      <td>CC0101EN</td>\n",
              "    </tr>\n",
              "    <tr>\n",
              "      <th>1</th>\n",
              "      <td>-0.027003</td>\n",
              "      <td>-0.086743</td>\n",
              "      <td>0.071170</td>\n",
              "      <td>-0.007644</td>\n",
              "      <td>0.075378</td>\n",
              "      <td>0.189957</td>\n",
              "      <td>0.059592</td>\n",
              "      <td>0.017654</td>\n",
              "      <td>-0.032787</td>\n",
              "      <td>-0.120175</td>\n",
              "      <td>...</td>\n",
              "      <td>0.000152</td>\n",
              "      <td>0.021713</td>\n",
              "      <td>-0.040749</td>\n",
              "      <td>0.232137</td>\n",
              "      <td>-0.021132</td>\n",
              "      <td>-0.026330</td>\n",
              "      <td>0.062515</td>\n",
              "      <td>0.072006</td>\n",
              "      <td>-0.022570</td>\n",
              "      <td>CL0101EN</td>\n",
              "    </tr>\n",
              "    <tr>\n",
              "      <th>2</th>\n",
              "      <td>-0.103843</td>\n",
              "      <td>0.217440</td>\n",
              "      <td>0.176883</td>\n",
              "      <td>0.058587</td>\n",
              "      <td>-0.037320</td>\n",
              "      <td>0.041901</td>\n",
              "      <td>0.109647</td>\n",
              "      <td>0.077550</td>\n",
              "      <td>-0.010427</td>\n",
              "      <td>-0.013611</td>\n",
              "      <td>...</td>\n",
              "      <td>-0.057169</td>\n",
              "      <td>0.124602</td>\n",
              "      <td>-0.197989</td>\n",
              "      <td>-0.107890</td>\n",
              "      <td>-0.111450</td>\n",
              "      <td>-0.114045</td>\n",
              "      <td>0.058036</td>\n",
              "      <td>-0.199624</td>\n",
              "      <td>0.259155</td>\n",
              "      <td>ML0120ENv3</td>\n",
              "    </tr>\n",
              "    <tr>\n",
              "      <th>3</th>\n",
              "      <td>-0.047253</td>\n",
              "      <td>-0.035368</td>\n",
              "      <td>-0.078138</td>\n",
              "      <td>0.000162</td>\n",
              "      <td>0.033345</td>\n",
              "      <td>-0.037298</td>\n",
              "      <td>0.009164</td>\n",
              "      <td>-0.023665</td>\n",
              "      <td>-0.117988</td>\n",
              "      <td>0.034094</td>\n",
              "      <td>...</td>\n",
              "      <td>0.116564</td>\n",
              "      <td>0.025722</td>\n",
              "      <td>0.001413</td>\n",
              "      <td>0.140056</td>\n",
              "      <td>-0.036409</td>\n",
              "      <td>-0.062878</td>\n",
              "      <td>0.033082</td>\n",
              "      <td>0.042508</td>\n",
              "      <td>-0.130935</td>\n",
              "      <td>BD0211EN</td>\n",
              "    </tr>\n",
              "    <tr>\n",
              "      <th>4</th>\n",
              "      <td>-0.050540</td>\n",
              "      <td>0.057302</td>\n",
              "      <td>-0.055438</td>\n",
              "      <td>-0.026285</td>\n",
              "      <td>-0.052446</td>\n",
              "      <td>-0.046933</td>\n",
              "      <td>0.034328</td>\n",
              "      <td>-0.009827</td>\n",
              "      <td>0.057384</td>\n",
              "      <td>-0.068493</td>\n",
              "      <td>...</td>\n",
              "      <td>0.013957</td>\n",
              "      <td>-0.095489</td>\n",
              "      <td>0.006763</td>\n",
              "      <td>-0.055791</td>\n",
              "      <td>0.034223</td>\n",
              "      <td>-0.041170</td>\n",
              "      <td>0.082775</td>\n",
              "      <td>-0.108192</td>\n",
              "      <td>0.064673</td>\n",
              "      <td>DS0101EN</td>\n",
              "    </tr>\n",
              "  </tbody>\n",
              "</table>\n",
              "<p>5 rows × 31 columns</p>\n",
              "</div>"
            ],
            "text/plain": [
              "          0         1         2         3         4         5         6  \\\n",
              "0 -0.016241 -0.103051  0.007395  0.054987  0.055067  0.006007 -0.042313   \n",
              "1 -0.027003 -0.086743  0.071170 -0.007644  0.075378  0.189957  0.059592   \n",
              "2 -0.103843  0.217440  0.176883  0.058587 -0.037320  0.041901  0.109647   \n",
              "3 -0.047253 -0.035368 -0.078138  0.000162  0.033345 -0.037298  0.009164   \n",
              "4 -0.050540  0.057302 -0.055438 -0.026285 -0.052446 -0.046933  0.034328   \n",
              "\n",
              "          7         8         9  ...        21        22        23        24  \\\n",
              "0  0.001686  0.073498 -0.035578  ... -0.003626  0.015632 -0.010677 -0.073484   \n",
              "1  0.017654 -0.032787 -0.120175  ...  0.000152  0.021713 -0.040749  0.232137   \n",
              "2  0.077550 -0.010427 -0.013611  ... -0.057169  0.124602 -0.197989 -0.107890   \n",
              "3 -0.023665 -0.117988  0.034094  ...  0.116564  0.025722  0.001413  0.140056   \n",
              "4 -0.009827  0.057384 -0.068493  ...  0.013957 -0.095489  0.006763 -0.055791   \n",
              "\n",
              "         25        26        27        28        29        item  \n",
              "0 -0.097091 -0.072879 -0.110306  0.079633 -0.084364    CC0101EN  \n",
              "1 -0.021132 -0.026330  0.062515  0.072006 -0.022570    CL0101EN  \n",
              "2 -0.111450 -0.114045  0.058036 -0.199624  0.259155  ML0120ENv3  \n",
              "3 -0.036409 -0.062878  0.033082  0.042508 -0.130935    BD0211EN  \n",
              "4  0.034223 -0.041170  0.082775 -0.108192  0.064673    DS0101EN  \n",
              "\n",
              "[5 rows x 31 columns]"
            ]
          },
          "execution_count": 26,
          "metadata": {},
          "output_type": "execute_result"
        }
      ],
      "source": [
        "item_latent_df = pd.DataFrame(data=item_latent_features)#, \n",
        "                              #columns=['IFeature0','IFeature1','IFeature2','IFeature3','IFeature4','IFeature5','IFeature6','IFeature7','IFeature8','IFeature9','IFeature10','IFeature11','IFeature12','IFeature13','IFeature14','IFeature15'])\n",
        "item_latent_df['item'] = item_latent_df.index.map(course_idx2id_dict)\n",
        "item_latent_df.head()"
      ]
    },
    {
      "cell_type": "code",
      "execution_count": 27,
      "metadata": {},
      "outputs": [
        {
          "data": {
            "text/html": [
              "<div>\n",
              "<style scoped>\n",
              "    .dataframe tbody tr th:only-of-type {\n",
              "        vertical-align: middle;\n",
              "    }\n",
              "\n",
              "    .dataframe tbody tr th {\n",
              "        vertical-align: top;\n",
              "    }\n",
              "\n",
              "    .dataframe thead th {\n",
              "        text-align: right;\n",
              "    }\n",
              "</style>\n",
              "<table border=\"1\" class=\"dataframe\">\n",
              "  <thead>\n",
              "    <tr style=\"text-align: right;\">\n",
              "      <th></th>\n",
              "      <th>user</th>\n",
              "      <th>item</th>\n",
              "      <th>rating</th>\n",
              "      <th>0_x</th>\n",
              "      <th>1_x</th>\n",
              "      <th>2_x</th>\n",
              "      <th>3_x</th>\n",
              "      <th>4_x</th>\n",
              "      <th>5_x</th>\n",
              "      <th>6_x</th>\n",
              "      <th>...</th>\n",
              "      <th>20_y</th>\n",
              "      <th>21_y</th>\n",
              "      <th>22_y</th>\n",
              "      <th>23_y</th>\n",
              "      <th>24_y</th>\n",
              "      <th>25_y</th>\n",
              "      <th>26_y</th>\n",
              "      <th>27_y</th>\n",
              "      <th>28_y</th>\n",
              "      <th>29_y</th>\n",
              "    </tr>\n",
              "  </thead>\n",
              "  <tbody>\n",
              "    <tr>\n",
              "      <th>0</th>\n",
              "      <td>1889878</td>\n",
              "      <td>CC0101EN</td>\n",
              "      <td>5</td>\n",
              "      <td>-0.106539</td>\n",
              "      <td>0.169725</td>\n",
              "      <td>0.037759</td>\n",
              "      <td>-0.179715</td>\n",
              "      <td>0.004930</td>\n",
              "      <td>-0.025669</td>\n",
              "      <td>-0.081321</td>\n",
              "      <td>...</td>\n",
              "      <td>-0.073589</td>\n",
              "      <td>-0.003626</td>\n",
              "      <td>0.015632</td>\n",
              "      <td>-0.010677</td>\n",
              "      <td>-0.073484</td>\n",
              "      <td>-0.097091</td>\n",
              "      <td>-0.072879</td>\n",
              "      <td>-0.110306</td>\n",
              "      <td>0.079633</td>\n",
              "      <td>-0.084364</td>\n",
              "    </tr>\n",
              "    <tr>\n",
              "      <th>1</th>\n",
              "      <td>1342067</td>\n",
              "      <td>CL0101EN</td>\n",
              "      <td>3</td>\n",
              "      <td>0.043064</td>\n",
              "      <td>0.014002</td>\n",
              "      <td>0.107306</td>\n",
              "      <td>0.064301</td>\n",
              "      <td>0.106295</td>\n",
              "      <td>-0.053030</td>\n",
              "      <td>0.159673</td>\n",
              "      <td>...</td>\n",
              "      <td>-0.053792</td>\n",
              "      <td>0.000152</td>\n",
              "      <td>0.021713</td>\n",
              "      <td>-0.040749</td>\n",
              "      <td>0.232137</td>\n",
              "      <td>-0.021132</td>\n",
              "      <td>-0.026330</td>\n",
              "      <td>0.062515</td>\n",
              "      <td>0.072006</td>\n",
              "      <td>-0.022570</td>\n",
              "    </tr>\n",
              "    <tr>\n",
              "      <th>2</th>\n",
              "      <td>1990814</td>\n",
              "      <td>ML0120ENv3</td>\n",
              "      <td>5</td>\n",
              "      <td>0.039600</td>\n",
              "      <td>0.171552</td>\n",
              "      <td>0.004101</td>\n",
              "      <td>0.035966</td>\n",
              "      <td>-0.149341</td>\n",
              "      <td>-0.000231</td>\n",
              "      <td>-0.165297</td>\n",
              "      <td>...</td>\n",
              "      <td>-0.047942</td>\n",
              "      <td>-0.057169</td>\n",
              "      <td>0.124602</td>\n",
              "      <td>-0.197989</td>\n",
              "      <td>-0.107890</td>\n",
              "      <td>-0.111450</td>\n",
              "      <td>-0.114045</td>\n",
              "      <td>0.058036</td>\n",
              "      <td>-0.199624</td>\n",
              "      <td>0.259155</td>\n",
              "    </tr>\n",
              "    <tr>\n",
              "      <th>3</th>\n",
              "      <td>380098</td>\n",
              "      <td>BD0211EN</td>\n",
              "      <td>5</td>\n",
              "      <td>0.120070</td>\n",
              "      <td>-0.198679</td>\n",
              "      <td>0.034901</td>\n",
              "      <td>-0.085777</td>\n",
              "      <td>-0.020262</td>\n",
              "      <td>0.233966</td>\n",
              "      <td>-0.125914</td>\n",
              "      <td>...</td>\n",
              "      <td>-0.027686</td>\n",
              "      <td>0.116564</td>\n",
              "      <td>0.025722</td>\n",
              "      <td>0.001413</td>\n",
              "      <td>0.140056</td>\n",
              "      <td>-0.036409</td>\n",
              "      <td>-0.062878</td>\n",
              "      <td>0.033082</td>\n",
              "      <td>0.042508</td>\n",
              "      <td>-0.130935</td>\n",
              "    </tr>\n",
              "    <tr>\n",
              "      <th>4</th>\n",
              "      <td>779563</td>\n",
              "      <td>DS0101EN</td>\n",
              "      <td>3</td>\n",
              "      <td>-0.030299</td>\n",
              "      <td>0.059425</td>\n",
              "      <td>-0.089233</td>\n",
              "      <td>-0.037715</td>\n",
              "      <td>0.066093</td>\n",
              "      <td>-0.045554</td>\n",
              "      <td>0.048373</td>\n",
              "      <td>...</td>\n",
              "      <td>0.005192</td>\n",
              "      <td>0.013957</td>\n",
              "      <td>-0.095489</td>\n",
              "      <td>0.006763</td>\n",
              "      <td>-0.055791</td>\n",
              "      <td>0.034223</td>\n",
              "      <td>-0.041170</td>\n",
              "      <td>0.082775</td>\n",
              "      <td>-0.108192</td>\n",
              "      <td>0.064673</td>\n",
              "    </tr>\n",
              "  </tbody>\n",
              "</table>\n",
              "<p>5 rows × 63 columns</p>\n",
              "</div>"
            ],
            "text/plain": [
              "      user        item  rating       0_x       1_x       2_x       3_x  \\\n",
              "0  1889878    CC0101EN       5 -0.106539  0.169725  0.037759 -0.179715   \n",
              "1  1342067    CL0101EN       3  0.043064  0.014002  0.107306  0.064301   \n",
              "2  1990814  ML0120ENv3       5  0.039600  0.171552  0.004101  0.035966   \n",
              "3   380098    BD0211EN       5  0.120070 -0.198679  0.034901 -0.085777   \n",
              "4   779563    DS0101EN       3 -0.030299  0.059425 -0.089233 -0.037715   \n",
              "\n",
              "        4_x       5_x       6_x  ...      20_y      21_y      22_y      23_y  \\\n",
              "0  0.004930 -0.025669 -0.081321  ... -0.073589 -0.003626  0.015632 -0.010677   \n",
              "1  0.106295 -0.053030  0.159673  ... -0.053792  0.000152  0.021713 -0.040749   \n",
              "2 -0.149341 -0.000231 -0.165297  ... -0.047942 -0.057169  0.124602 -0.197989   \n",
              "3 -0.020262  0.233966 -0.125914  ... -0.027686  0.116564  0.025722  0.001413   \n",
              "4  0.066093 -0.045554  0.048373  ...  0.005192  0.013957 -0.095489  0.006763   \n",
              "\n",
              "       24_y      25_y      26_y      27_y      28_y      29_y  \n",
              "0 -0.073484 -0.097091 -0.072879 -0.110306  0.079633 -0.084364  \n",
              "1  0.232137 -0.021132 -0.026330  0.062515  0.072006 -0.022570  \n",
              "2 -0.107890 -0.111450 -0.114045  0.058036 -0.199624  0.259155  \n",
              "3  0.140056 -0.036409 -0.062878  0.033082  0.042508 -0.130935  \n",
              "4 -0.055791  0.034223 -0.041170  0.082775 -0.108192  0.064673  \n",
              "\n",
              "[5 rows x 63 columns]"
            ]
          },
          "execution_count": 27,
          "metadata": {},
          "output_type": "execute_result"
        }
      ],
      "source": [
        "rating_df_2 = rating_df.copy()\n",
        "\n",
        "df_2 = pd.merge(rating_df_2,user_latent_df, how='left', on='user').fillna(0)\n",
        "df_3 = pd.merge(df_2, item_latent_df, how='left', on='item').fillna(0)\n",
        "df_3.head()"
      ]
    },
    {
      "cell_type": "markdown",
      "metadata": {},
      "source": [
        "Next, we can combine the user features (the column labels with `_x`) and item features (the column labels with `_y`). In machine learning, there are many ways to aggregate two feature vectors such as element-wise add, multiply, max/min, average, etc. Here we simply add the two sets of feature columns:"
      ]
    },
    {
      "cell_type": "code",
      "execution_count": 28,
      "metadata": {},
      "outputs": [],
      "source": [
        "ufeature = df_3.iloc[:,3+embedding_size:].values\n",
        "ifeature = df_3.iloc[:,3:3+embedding_size].values"
      ]
    },
    {
      "cell_type": "code",
      "execution_count": 29,
      "metadata": {},
      "outputs": [
        {
          "data": {
            "text/html": [
              "<div>\n",
              "<style scoped>\n",
              "    .dataframe tbody tr th:only-of-type {\n",
              "        vertical-align: middle;\n",
              "    }\n",
              "\n",
              "    .dataframe tbody tr th {\n",
              "        vertical-align: top;\n",
              "    }\n",
              "\n",
              "    .dataframe thead th {\n",
              "        text-align: right;\n",
              "    }\n",
              "</style>\n",
              "<table border=\"1\" class=\"dataframe\">\n",
              "  <thead>\n",
              "    <tr style=\"text-align: right;\">\n",
              "      <th></th>\n",
              "      <th>user</th>\n",
              "      <th>item</th>\n",
              "      <th>rating</th>\n",
              "      <th>0</th>\n",
              "      <th>1</th>\n",
              "      <th>2</th>\n",
              "      <th>3</th>\n",
              "      <th>4</th>\n",
              "      <th>5</th>\n",
              "      <th>6</th>\n",
              "      <th>...</th>\n",
              "      <th>20</th>\n",
              "      <th>21</th>\n",
              "      <th>22</th>\n",
              "      <th>23</th>\n",
              "      <th>24</th>\n",
              "      <th>25</th>\n",
              "      <th>26</th>\n",
              "      <th>27</th>\n",
              "      <th>28</th>\n",
              "      <th>29</th>\n",
              "    </tr>\n",
              "  </thead>\n",
              "  <tbody>\n",
              "    <tr>\n",
              "      <th>0</th>\n",
              "      <td>1889878</td>\n",
              "      <td>CC0101EN</td>\n",
              "      <td>5</td>\n",
              "      <td>-0.122779</td>\n",
              "      <td>0.066674</td>\n",
              "      <td>0.045154</td>\n",
              "      <td>-0.124728</td>\n",
              "      <td>0.059997</td>\n",
              "      <td>-0.019662</td>\n",
              "      <td>-0.123634</td>\n",
              "      <td>...</td>\n",
              "      <td>-0.116998</td>\n",
              "      <td>0.043467</td>\n",
              "      <td>-0.243266</td>\n",
              "      <td>-0.054577</td>\n",
              "      <td>-0.069745</td>\n",
              "      <td>0.100810</td>\n",
              "      <td>0.079515</td>\n",
              "      <td>-0.086147</td>\n",
              "      <td>0.265758</td>\n",
              "      <td>-0.101739</td>\n",
              "    </tr>\n",
              "    <tr>\n",
              "      <th>1</th>\n",
              "      <td>1342067</td>\n",
              "      <td>CL0101EN</td>\n",
              "      <td>3</td>\n",
              "      <td>0.016062</td>\n",
              "      <td>-0.072741</td>\n",
              "      <td>0.178477</td>\n",
              "      <td>0.056657</td>\n",
              "      <td>0.181673</td>\n",
              "      <td>0.136927</td>\n",
              "      <td>0.219265</td>\n",
              "      <td>...</td>\n",
              "      <td>-0.206626</td>\n",
              "      <td>-0.001898</td>\n",
              "      <td>-0.037344</td>\n",
              "      <td>0.026444</td>\n",
              "      <td>0.308114</td>\n",
              "      <td>-0.076159</td>\n",
              "      <td>0.032171</td>\n",
              "      <td>0.054934</td>\n",
              "      <td>-0.095736</td>\n",
              "      <td>0.029776</td>\n",
              "    </tr>\n",
              "    <tr>\n",
              "      <th>2</th>\n",
              "      <td>1990814</td>\n",
              "      <td>ML0120ENv3</td>\n",
              "      <td>5</td>\n",
              "      <td>-0.064243</td>\n",
              "      <td>0.388992</td>\n",
              "      <td>0.180984</td>\n",
              "      <td>0.094553</td>\n",
              "      <td>-0.186661</td>\n",
              "      <td>0.041670</td>\n",
              "      <td>-0.055650</td>\n",
              "      <td>...</td>\n",
              "      <td>-0.248554</td>\n",
              "      <td>0.103933</td>\n",
              "      <td>0.149265</td>\n",
              "      <td>-0.128934</td>\n",
              "      <td>-0.174402</td>\n",
              "      <td>-0.082286</td>\n",
              "      <td>-0.087159</td>\n",
              "      <td>0.206683</td>\n",
              "      <td>-0.102751</td>\n",
              "      <td>0.303564</td>\n",
              "    </tr>\n",
              "    <tr>\n",
              "      <th>3</th>\n",
              "      <td>380098</td>\n",
              "      <td>BD0211EN</td>\n",
              "      <td>5</td>\n",
              "      <td>0.072817</td>\n",
              "      <td>-0.234047</td>\n",
              "      <td>-0.043238</td>\n",
              "      <td>-0.085615</td>\n",
              "      <td>0.013083</td>\n",
              "      <td>0.196668</td>\n",
              "      <td>-0.116750</td>\n",
              "      <td>...</td>\n",
              "      <td>0.293288</td>\n",
              "      <td>-0.033597</td>\n",
              "      <td>0.102955</td>\n",
              "      <td>-0.053723</td>\n",
              "      <td>0.133037</td>\n",
              "      <td>0.028790</td>\n",
              "      <td>0.096798</td>\n",
              "      <td>-0.068260</td>\n",
              "      <td>-0.112052</td>\n",
              "      <td>-0.033939</td>\n",
              "    </tr>\n",
              "    <tr>\n",
              "      <th>4</th>\n",
              "      <td>779563</td>\n",
              "      <td>DS0101EN</td>\n",
              "      <td>3</td>\n",
              "      <td>-0.080839</td>\n",
              "      <td>0.116727</td>\n",
              "      <td>-0.144671</td>\n",
              "      <td>-0.064000</td>\n",
              "      <td>0.013647</td>\n",
              "      <td>-0.092487</td>\n",
              "      <td>0.082701</td>\n",
              "      <td>...</td>\n",
              "      <td>0.035115</td>\n",
              "      <td>0.027344</td>\n",
              "      <td>-0.024726</td>\n",
              "      <td>0.054824</td>\n",
              "      <td>-0.073673</td>\n",
              "      <td>0.152961</td>\n",
              "      <td>-0.052597</td>\n",
              "      <td>-0.042063</td>\n",
              "      <td>-0.118212</td>\n",
              "      <td>0.145725</td>\n",
              "    </tr>\n",
              "  </tbody>\n",
              "</table>\n",
              "<p>5 rows × 33 columns</p>\n",
              "</div>"
            ],
            "text/plain": [
              "      user        item  rating         0         1         2         3  \\\n",
              "0  1889878    CC0101EN       5 -0.122779  0.066674  0.045154 -0.124728   \n",
              "1  1342067    CL0101EN       3  0.016062 -0.072741  0.178477  0.056657   \n",
              "2  1990814  ML0120ENv3       5 -0.064243  0.388992  0.180984  0.094553   \n",
              "3   380098    BD0211EN       5  0.072817 -0.234047 -0.043238 -0.085615   \n",
              "4   779563    DS0101EN       3 -0.080839  0.116727 -0.144671 -0.064000   \n",
              "\n",
              "          4         5         6  ...        20        21        22        23  \\\n",
              "0  0.059997 -0.019662 -0.123634  ... -0.116998  0.043467 -0.243266 -0.054577   \n",
              "1  0.181673  0.136927  0.219265  ... -0.206626 -0.001898 -0.037344  0.026444   \n",
              "2 -0.186661  0.041670 -0.055650  ... -0.248554  0.103933  0.149265 -0.128934   \n",
              "3  0.013083  0.196668 -0.116750  ...  0.293288 -0.033597  0.102955 -0.053723   \n",
              "4  0.013647 -0.092487  0.082701  ...  0.035115  0.027344 -0.024726  0.054824   \n",
              "\n",
              "         24        25        26        27        28        29  \n",
              "0 -0.069745  0.100810  0.079515 -0.086147  0.265758 -0.101739  \n",
              "1  0.308114 -0.076159  0.032171  0.054934 -0.095736  0.029776  \n",
              "2 -0.174402 -0.082286 -0.087159  0.206683 -0.102751  0.303564  \n",
              "3  0.133037  0.028790  0.096798 -0.068260 -0.112052 -0.033939  \n",
              "4 -0.073673  0.152961 -0.052597 -0.042063 -0.118212  0.145725  \n",
              "\n",
              "[5 rows x 33 columns]"
            ]
          },
          "execution_count": 29,
          "metadata": {},
          "output_type": "execute_result"
        }
      ],
      "source": [
        "summ_UI = ufeature + ifeature\n",
        "features_df = pd.concat([df_3[['user','item','rating']], pd.DataFrame(data=summ_UI)],axis=1)\n",
        "features_df.head()"
      ]
    },
    {
      "cell_type": "markdown",
      "metadata": {},
      "source": [
        "We define new training and test sets for linear regression."
      ]
    },
    {
      "cell_type": "code",
      "execution_count": 30,
      "metadata": {},
      "outputs": [],
      "source": [
        "X_features = features_df.iloc[:,3:]\n",
        "y_features = features_df.iloc[:,2]"
      ]
    },
    {
      "cell_type": "code",
      "execution_count": 31,
      "metadata": {},
      "outputs": [],
      "source": [
        "x_train, x_test, y_train, y_test = train_test_split(X_features, y_features, test_size=0.2, random_state = rs)"
      ]
    },
    {
      "cell_type": "markdown",
      "metadata": {},
      "source": [
        "## Train Linear Regrassion (Ridge) on predicted rating"
      ]
    },
    {
      "cell_type": "code",
      "execution_count": 32,
      "metadata": {},
      "outputs": [
        {
          "data": {
            "text/html": [
              "<style>#sk-container-id-1 {color: black;background-color: white;}#sk-container-id-1 pre{padding: 0;}#sk-container-id-1 div.sk-toggleable {background-color: white;}#sk-container-id-1 label.sk-toggleable__label {cursor: pointer;display: block;width: 100%;margin-bottom: 0;padding: 0.3em;box-sizing: border-box;text-align: center;}#sk-container-id-1 label.sk-toggleable__label-arrow:before {content: \"▸\";float: left;margin-right: 0.25em;color: #696969;}#sk-container-id-1 label.sk-toggleable__label-arrow:hover:before {color: black;}#sk-container-id-1 div.sk-estimator:hover label.sk-toggleable__label-arrow:before {color: black;}#sk-container-id-1 div.sk-toggleable__content {max-height: 0;max-width: 0;overflow: hidden;text-align: left;background-color: #f0f8ff;}#sk-container-id-1 div.sk-toggleable__content pre {margin: 0.2em;color: black;border-radius: 0.25em;background-color: #f0f8ff;}#sk-container-id-1 input.sk-toggleable__control:checked~div.sk-toggleable__content {max-height: 200px;max-width: 100%;overflow: auto;}#sk-container-id-1 input.sk-toggleable__control:checked~label.sk-toggleable__label-arrow:before {content: \"▾\";}#sk-container-id-1 div.sk-estimator input.sk-toggleable__control:checked~label.sk-toggleable__label {background-color: #d4ebff;}#sk-container-id-1 div.sk-label input.sk-toggleable__control:checked~label.sk-toggleable__label {background-color: #d4ebff;}#sk-container-id-1 input.sk-hidden--visually {border: 0;clip: rect(1px 1px 1px 1px);clip: rect(1px, 1px, 1px, 1px);height: 1px;margin: -1px;overflow: hidden;padding: 0;position: absolute;width: 1px;}#sk-container-id-1 div.sk-estimator {font-family: monospace;background-color: #f0f8ff;border: 1px dotted black;border-radius: 0.25em;box-sizing: border-box;margin-bottom: 0.5em;}#sk-container-id-1 div.sk-estimator:hover {background-color: #d4ebff;}#sk-container-id-1 div.sk-parallel-item::after {content: \"\";width: 100%;border-bottom: 1px solid gray;flex-grow: 1;}#sk-container-id-1 div.sk-label:hover label.sk-toggleable__label {background-color: #d4ebff;}#sk-container-id-1 div.sk-serial::before {content: \"\";position: absolute;border-left: 1px solid gray;box-sizing: border-box;top: 0;bottom: 0;left: 50%;z-index: 0;}#sk-container-id-1 div.sk-serial {display: flex;flex-direction: column;align-items: center;background-color: white;padding-right: 0.2em;padding-left: 0.2em;position: relative;}#sk-container-id-1 div.sk-item {position: relative;z-index: 1;}#sk-container-id-1 div.sk-parallel {display: flex;align-items: stretch;justify-content: center;background-color: white;position: relative;}#sk-container-id-1 div.sk-item::before, #sk-container-id-1 div.sk-parallel-item::before {content: \"\";position: absolute;border-left: 1px solid gray;box-sizing: border-box;top: 0;bottom: 0;left: 50%;z-index: -1;}#sk-container-id-1 div.sk-parallel-item {display: flex;flex-direction: column;z-index: 1;position: relative;background-color: white;}#sk-container-id-1 div.sk-parallel-item:first-child::after {align-self: flex-end;width: 50%;}#sk-container-id-1 div.sk-parallel-item:last-child::after {align-self: flex-start;width: 50%;}#sk-container-id-1 div.sk-parallel-item:only-child::after {width: 0;}#sk-container-id-1 div.sk-dashed-wrapped {border: 1px dashed gray;margin: 0 0.4em 0.5em 0.4em;box-sizing: border-box;padding-bottom: 0.4em;background-color: white;}#sk-container-id-1 div.sk-label label {font-family: monospace;font-weight: bold;display: inline-block;line-height: 1.2em;}#sk-container-id-1 div.sk-label-container {text-align: center;}#sk-container-id-1 div.sk-container {/* jupyter's `normalize.less` sets `[hidden] { display: none; }` but bootstrap.min.css set `[hidden] { display: none !important; }` so we also need the `!important` here to be able to override the default hidden behavior on the sphinx rendered scikit-learn.org. See: https://github.com/scikit-learn/scikit-learn/issues/21755 */display: inline-block !important;position: relative;}#sk-container-id-1 div.sk-text-repr-fallback {display: none;}</style><div id=\"sk-container-id-1\" class=\"sk-top-container\"><div class=\"sk-text-repr-fallback\"><pre>Ridge()</pre><b>In a Jupyter environment, please rerun this cell to show the HTML representation or trust the notebook. <br />On GitHub, the HTML representation is unable to render, please try loading this page with nbviewer.org.</b></div><div class=\"sk-container\" hidden><div class=\"sk-item\"><div class=\"sk-estimator sk-toggleable\"><input class=\"sk-toggleable__control sk-hidden--visually\" id=\"sk-estimator-id-1\" type=\"checkbox\" checked><label for=\"sk-estimator-id-1\" class=\"sk-toggleable__label sk-toggleable__label-arrow\">Ridge</label><div class=\"sk-toggleable__content\"><pre>Ridge()</pre></div></div></div></div></div>"
            ],
            "text/plain": [
              "Ridge()"
            ]
          },
          "execution_count": 32,
          "metadata": {},
          "output_type": "execute_result"
        }
      ],
      "source": [
        "# Define a Linear regression model with above arguments\n",
        "linear_regressor = Ridge()\n",
        "linear_regressor.fit(x_train, y_train)\n"
      ]
    },
    {
      "cell_type": "code",
      "execution_count": 33,
      "metadata": {},
      "outputs": [
        {
          "name": "stdout",
          "output_type": "stream",
          "text": [
            "Test root_mean_squared_error for linear regression is 0.82\n"
          ]
        }
      ],
      "source": [
        "regressor_predict = linear_regressor.predict(x_test)\n",
        "regressor_score = math.sqrt( mean_squared_error(y_test, regressor_predict) )\n",
        "\n",
        "print(f\"Test root_mean_squared_error for linear regression is {round(regressor_score, 2)}\")"
      ]
    },
    {
      "cell_type": "markdown",
      "metadata": {},
      "source": [
        "The `RMSE` for linear regression is very similar to **KNN** and **NMF** models."
      ]
    },
    {
      "cell_type": "markdown",
      "metadata": {},
      "source": [
        "----"
      ]
    }
  ],
  "metadata": {
    "colab": {
      "provenance": []
    },
    "kernelspec": {
      "display_name": "Python 3 (ipykernel)",
      "language": "python",
      "name": "python3"
    },
    "language_info": {
      "codemirror_mode": {
        "name": "ipython",
        "version": 3
      },
      "file_extension": ".py",
      "mimetype": "text/x-python",
      "name": "python",
      "nbconvert_exporter": "python",
      "pygments_lexer": "ipython3",
      "version": "3.11.8"
    },
    "prev_pub_hash": "b666e2b2e913b0897482548eb096a4e157b670ab86270b1b3a78e523a1f244d9"
  },
  "nbformat": 4,
  "nbformat_minor": 0
}
